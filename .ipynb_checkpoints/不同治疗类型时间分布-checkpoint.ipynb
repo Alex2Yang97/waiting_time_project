{
 "cells": [
  {
   "cell_type": "code",
   "execution_count": 1,
   "metadata": {},
   "outputs": [],
   "source": [
    "import pickle\n",
    "import MySQLdb\n",
    "import numpy as np\n",
    "import random\n",
    "import matplotlib.pyplot as plt\n",
    "import datetime\n",
    "import operator as op\n",
    "import math\n",
    "import random\n",
    "import pandas as pd"
   ]
  },
  {
   "cell_type": "code",
   "execution_count": 6,
   "metadata": {},
   "outputs": [],
   "source": [
    "# Connect to the MySQL database\n",
    "def getSQLtest(sql):\n",
    "    # Connect to the MySQL database\n",
    "    db = MySQLdb.connect(host='localhost',\n",
    "                         port=3306,\n",
    "                         user='root',\n",
    "                         passwd='root',\n",
    "                         db='originaldata')\n",
    "    db_cursor = db.cursor(MySQLdb.cursors.DictCursor)\n",
    "    sql0 = \"\"\"\n",
    "         set sql_mode = 'STRICT_TRANS_TABLES,NO_ZERO_IN_DATE,NO_ZERO_DATE,ERROR_FOR_DIVISION_BY_ZERO,NO_ENGINE_SUBSTITUTION';\n",
    "    \"\"\"       \n",
    "    db_cursor.execute(sql0)\n",
    "    db_cursor.execute(sql)\n",
    "    db_results = db_cursor.fetchall()\n",
    "    db_cursor.close()\n",
    "    print (\"Fetched Preliminary query results\")\n",
    "    print (\"Number of results: \" + str(len(db_results)))\n",
    "    return db_results"
   ]
  },
  {
   "cell_type": "code",
   "execution_count": 10,
   "metadata": {},
   "outputs": [],
   "source": [
    "# 没有年龄和性别\n",
    "\n",
    "# Preliminary query for feature data\n",
    "\n",
    "sql1 = \"\"\"\n",
    "    SELECT\n",
    "        ap.AppointmentSerNum,\n",
    "        ap.AliasSerNum,\n",
    "        ap.PatientSerNum,\n",
    "        ap.ScheduledStartTime,\n",
    "        ap.ScheduledEndTime,\n",
    "        ap.ActualStartDate,\n",
    "        ap.ActualEndDate,\n",
    "        \n",
    "        res.ResourceName,\n",
    "        res.ResourceType,\n",
    "        \n",
    "        ptlmh.ArrivalDateTime,\n",
    "        ptlmh.HstryDateTime,\n",
    "        ptlmh.checkedInFlag,\n",
    "        \n",
    "        ptl.ArrivalDateTime pltArrivalDateTime,\n",
    "        ptl.checkedInFlag\n",
    "        \n",
    "    FROM\n",
    "        Appointment ap\n",
    "    INNER JOIN Patientlocation ptl\n",
    "        ON ptl.AppointmentSerNum = ap.AppointmentSerNum\n",
    "    INNER JOIN Patientlocationmh ptlmh\n",
    "        ON ptlmh.AppointmentSerNum = ptl.AppointmentSerNum\n",
    "    INNER JOIN Resourceappointment resapp\n",
    "        ON resapp.AppointmentSerNum = ptlmh.AppointmentSerNum\n",
    "    RIGHT JOIN Resource res\n",
    "        ON res.ResourceSerNum = resapp.ResourceSerNum\n",
    "\n",
    "\"\"\"\n",
    "# LIMIT1: 在某些情况下，如果明知道查询结果只有一个，SQL语句中使用LIMIT 1会提高查询效率\n"
   ]
  },
  {
   "cell_type": "code",
   "execution_count": 11,
   "metadata": {},
   "outputs": [
    {
     "name": "stdout",
     "output_type": "stream",
     "text": [
      "Executing query...\n",
      "Fetched Preliminary query results\n",
      "Number of results: 2593866\n",
      "Finish!\n"
     ]
    }
   ],
   "source": [
    "print(\"Executing query...\")\n",
    "db_pat = getSQLtest(sql1)\n",
    "print('Finish!')"
   ]
  },
  {
   "cell_type": "code",
   "execution_count": 14,
   "metadata": {},
   "outputs": [
    {
     "name": "stdout",
     "output_type": "stream",
     "text": [
      "Start getting raw_patients dictionary\n",
      "{'AppointmentSerNum': None, 'AliasSerNum': None, 'PatientSerNum': None, 'ScheduledStartTime': None, 'ScheduledEndTime': None, 'ActualStartDate': None, 'ActualEndDate': None, 'ResourceName': 'CL2300m', 'ResourceType': 'Machine', 'ArrivalDateTime': None, 'HstryDateTime': None, 'checkedInFlag': None, 'pltArrivalDateTime': None, 'ptl.checkedInFlag': None}\n",
      "{'AppointmentSerNum': None, 'AliasSerNum': None, 'PatientSerNum': None, 'ScheduledStartTime': None, 'ScheduledEndTime': None, 'ActualStartDate': None, 'ActualEndDate': None, 'ResourceName': 'Brachytherapy', 'ResourceType': 'Machine', 'ArrivalDateTime': None, 'HstryDateTime': None, 'checkedInFlag': None, 'pltArrivalDateTime': None, 'ptl.checkedInFlag': None}\n",
      "{'AppointmentSerNum': None, 'AliasSerNum': None, 'PatientSerNum': None, 'ScheduledStartTime': None, 'ScheduledEndTime': None, 'ActualStartDate': None, 'ActualEndDate': None, 'ResourceName': 'COBALT TBI', 'ResourceType': '', 'ArrivalDateTime': None, 'HstryDateTime': None, 'checkedInFlag': None, 'pltArrivalDateTime': None, 'ptl.checkedInFlag': None}\n",
      "{'AppointmentSerNum': None, 'AliasSerNum': None, 'PatientSerNum': None, 'ScheduledStartTime': None, 'ScheduledEndTime': None, 'ActualStartDate': None, 'ActualEndDate': None, 'ResourceName': 'TEST_ETS_AUG19', 'ResourceType': '', 'ArrivalDateTime': None, 'HstryDateTime': None, 'checkedInFlag': None, 'pltArrivalDateTime': None, 'ptl.checkedInFlag': None}\n",
      "{'AppointmentSerNum': None, 'AliasSerNum': None, 'PatientSerNum': None, 'ScheduledStartTime': None, 'ScheduledEndTime': None, 'ActualStartDate': None, 'ActualEndDate': None, 'ResourceName': 'Eclipse CAP', 'ResourceType': 'Machine', 'ArrivalDateTime': None, 'HstryDateTime': None, 'checkedInFlag': None, 'pltArrivalDateTime': None, 'ptl.checkedInFlag': None}\n",
      "{'AppointmentSerNum': None, 'AliasSerNum': None, 'PatientSerNum': None, 'ScheduledStartTime': None, 'ScheduledEndTime': None, 'ActualStartDate': None, 'ActualEndDate': None, 'ResourceName': 'INTRABEAM', 'ResourceType': 'Machine', 'ArrivalDateTime': None, 'HstryDateTime': None, 'checkedInFlag': None, 'pltArrivalDateTime': None, 'ptl.checkedInFlag': None}\n",
      "{'AppointmentSerNum': None, 'AliasSerNum': None, 'PatientSerNum': None, 'ScheduledStartTime': None, 'ScheduledEndTime': None, 'ActualStartDate': None, 'ActualEndDate': None, 'ResourceName': 'EclipseCAP_TB', 'ResourceType': 'Machine', 'ArrivalDateTime': None, 'HstryDateTime': None, 'checkedInFlag': None, 'pltArrivalDateTime': None, 'ptl.checkedInFlag': None}\n",
      "{'AppointmentSerNum': None, 'AliasSerNum': None, 'PatientSerNum': None, 'ScheduledStartTime': None, 'ScheduledEndTime': None, 'ActualStartDate': None, 'ActualEndDate': None, 'ResourceName': 'CK', 'ResourceType': 'Machine', 'ArrivalDateTime': None, 'HstryDateTime': None, 'checkedInFlag': None, 'pltArrivalDateTime': None, 'ptl.checkedInFlag': None}\n",
      "{'AppointmentSerNum': 1110249, 'AliasSerNum': 23, 'PatientSerNum': 63391, 'ScheduledStartTime': datetime.datetime(2016, 3, 23, 9, 30), 'ScheduledEndTime': datetime.datetime(2016, 3, 23, 11, 0), 'ActualStartDate': datetime.datetime(2016, 3, 23, 9, 43), 'ActualEndDate': datetime.datetime(1970, 1, 1, 0, 0), 'ResourceName': 'C0351', 'ResourceType': 'Machine', 'ArrivalDateTime': datetime.datetime(2016, 3, 23, 9, 43), 'HstryDateTime': datetime.datetime(2016, 3, 23, 9, 43), 'checkedInFlag': 1, 'pltArrivalDateTime': datetime.datetime(2016, 3, 23, 9, 43), 'ptl.checkedInFlag': 1}\n",
      "{'AppointmentSerNum': 1110249, 'AliasSerNum': 23, 'PatientSerNum': 63391, 'ScheduledStartTime': datetime.datetime(2016, 3, 23, 9, 30), 'ScheduledEndTime': datetime.datetime(2016, 3, 23, 11, 0), 'ActualStartDate': datetime.datetime(2016, 3, 23, 9, 43), 'ActualEndDate': datetime.datetime(1970, 1, 1, 0, 0), 'ResourceName': 'C0351', 'ResourceType': 'Machine', 'ArrivalDateTime': datetime.datetime(2016, 3, 23, 9, 43), 'HstryDateTime': datetime.datetime(2016, 3, 23, 11, 8), 'checkedInFlag': 1, 'pltArrivalDateTime': datetime.datetime(2016, 3, 23, 9, 43), 'ptl.checkedInFlag': 1}\n",
      "Finish getting raw_patients dictionary\n"
     ]
    }
   ],
   "source": [
    "print('Start getting raw_patients dictionary')\n",
    "count = 1\n",
    "raw_patients = dict()\n",
    "RadiationId_list = []\n",
    "TechniqueId_list = []\n",
    "DeliveryType_list = []\n",
    "\n",
    "# Loop through each result\n",
    "for row in db_pat[:10]:\n",
    "    print(row)\n",
    "    \n",
    "    \n",
    "    \n",
    "print('Finish getting raw_patients dictionary')\n",
    "\n"
   ]
  },
  {
   "cell_type": "code",
   "execution_count": null,
   "metadata": {},
   "outputs": [],
   "source": []
  }
 ],
 "metadata": {
  "kernelspec": {
   "display_name": "Python 3",
   "language": "python",
   "name": "python3"
  },
  "language_info": {
   "codemirror_mode": {
    "name": "ipython",
    "version": 3
   },
   "file_extension": ".py",
   "mimetype": "text/x-python",
   "name": "python",
   "nbconvert_exporter": "python",
   "pygments_lexer": "ipython3",
   "version": "3.7.3"
  }
 },
 "nbformat": 4,
 "nbformat_minor": 2
}
