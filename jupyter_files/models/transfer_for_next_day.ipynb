{
 "cells": [
  {
   "cell_type": "code",
   "execution_count": 15,
   "metadata": {},
   "outputs": [],
   "source": [
    "import pymysql\n",
    "import datetime\n",
    "import time\n",
    "import warnings\n",
    "warnings.filterwarnings(\"ignore\")\n",
    "\n",
    "import pandas as pd\n",
    "import numpy as np\n",
    "import lightgbm as lgb\n",
    "import matplotlib.pyplot as plt\n",
    "\n",
    "# import sys\n",
    "# sys.path.append(r'C:\\Users\\10768\\personal files\\waiting_time\\waiting_time_project\\my_tools')\n",
    "# import tools_for_os.for_df as ml_df\n",
    "# import tools_for_os.for_file as ml_fl\n",
    "\n",
    "import sys\n",
    "sys.path.append(r'C:\\Users\\10768\\personal files\\waiting_time\\waiting_time_project')\n",
    "from utils.funcs import read_df_from_sql\n",
    "from utils.logger import logger\n",
    "from data_process import get_apptointment_info, get_treat_info\n",
    "from wtp.duration.predict_sequence_model_v1 import combine_mul_row_appt, combine_mul_row_treat,\\\n",
    "    one_hot_enc, process_sequence_data, filter_data, NN_NUM_FEATURES\n",
    "from wtp.duration.predict_lgb_model import CATE_FEATURES"
   ]
  },
  {
   "cell_type": "markdown",
   "metadata": {},
   "source": [
    "# 1 Process Data"
   ]
  },
  {
   "cell_type": "code",
   "execution_count": 2,
   "metadata": {
    "scrolled": true
   },
   "outputs": [
    {
     "name": "stderr",
     "output_type": "stream",
     "text": [
      "WAITING TIME: 2020-08-19 10:22:13 [INFO] Get information about appointment!\n",
      "WAITING TIME: 2020-08-19 10:22:13 [DEBUG] Get table of appointment!\n",
      "WAITING TIME: 2020-08-19 10:22:58 [DEBUG] Get table of patient!\n",
      "WAITING TIME: 2020-08-19 10:22:59 [DEBUG] Merge appointment and patient!\n",
      "WAITING TIME: 2020-08-19 10:22:59 [DEBUG] Get table of patientdoctor!\n",
      "WAITING TIME: 2020-08-19 10:23:02 [DEBUG] Merge patientdoctor!\n",
      "WAITING TIME: 2020-08-19 10:23:02 [DEBUG] Get table of diagnosis!\n",
      "WAITING TIME: 2020-08-19 10:23:03 [DEBUG] Get table of diagnosis!\n",
      "WAITING TIME: 2020-08-19 10:23:03 [DEBUG] Merge diagnosis and diagnosistranslation!\n",
      "WAITING TIME: 2020-08-19 10:23:04 [DEBUG] Get table of course!\n",
      "WAITING TIME: 2020-08-19 10:23:05 [DEBUG] Get table of plan!\n",
      "WAITING TIME: 2020-08-19 10:23:09 [DEBUG] Merge plan and course!\n",
      "WAITING TIME: 2020-08-19 10:23:10 [DEBUG] Merge plan_course and appointment!\n",
      "WAITING TIME: 2020-08-19 10:23:11 [DEBUG] Drop columns with same values!\n",
      "WAITING TIME: 2020-08-19 10:23:14 [DEBUG] Process appointment data!\n",
      "WAITING TIME: 2020-08-19 10:25:53 [INFO] Get information about treatment!\n",
      "WAITING TIME: 2020-08-19 10:25:53 [DEBUG] Get table of radiation!\n"
     ]
    },
    {
     "name": "stdout",
     "output_type": "stream",
     "text": [
      "process_appointment_data shap (859231, 21)\n"
     ]
    },
    {
     "name": "stderr",
     "output_type": "stream",
     "text": [
      "WAITING TIME: 2020-08-19 10:26:08 [DEBUG] Get table of radiationhstry!\n",
      "WAITING TIME: 2020-08-19 10:27:24 [DEBUG] Merge radiation and radiationhstry!\n",
      "WAITING TIME: 2020-08-19 10:27:25 [DEBUG] Merge plan!\n",
      "WAITING TIME: 2020-08-19 10:27:30 [DEBUG] Get table of radiation!\n",
      "WAITING TIME: 2020-08-19 10:27:31 [DEBUG] Get table of radiation!\n",
      "WAITING TIME: 2020-08-19 10:27:32 [DEBUG] Merge course and patient\n",
      "WAITING TIME: 2020-08-19 10:27:32 [DEBUG] Merge radiation and radiation!\n",
      "WAITING TIME: 2020-08-19 10:27:33 [DEBUG] Drop columns with same values!\n",
      "WAITING TIME: 2020-08-19 10:27:34 [DEBUG] Process treatment data!\n"
     ]
    },
    {
     "name": "stdout",
     "output_type": "stream",
     "text": [
      "processed_treatment_data shap (507863, 15)\n"
     ]
    }
   ],
   "source": [
    "processed_appointment_data = get_apptointment_info()\n",
    "print(f'process_appointment_data shap {processed_appointment_data.shape}')\n",
    "processed_treatment_data = get_treat_info()\n",
    "print(f'processed_treatment_data shap {processed_treatment_data.shape}')"
   ]
  },
  {
   "cell_type": "code",
   "execution_count": 71,
   "metadata": {},
   "outputs": [],
   "source": [
    "processed_data = pd.merge(processed_appointment_data, processed_treatment_data,\n",
    "                          on=['PatientSerNum', 'date'], how='inner')"
   ]
  },
  {
   "cell_type": "code",
   "execution_count": 73,
   "metadata": {
    "scrolled": true
   },
   "outputs": [
    {
     "name": "stderr",
     "output_type": "stream",
     "text": [
      "WAITING TIME: 2020-08-19 14:08:02 [INFO] Process sequence data!\n",
      "WAITING TIME: 2020-08-19 14:08:08 [INFO] Combine Appointment with multiple rows!\n",
      "WAITING TIME: 2020-08-19 14:08:08 [INFO] Start processing categorical features!\n",
      "WAITING TIME: 2020-08-19 14:08:08 [DEBUG] PatientSerNum\n",
      "WAITING TIME: 2020-08-19 14:08:16 [DEBUG] Sex\n",
      "WAITING TIME: 2020-08-19 14:08:32 [DEBUG] DoctorSerNum\n",
      "WAITING TIME: 2020-08-19 14:08:49 [DEBUG] date\n",
      "WAITING TIME: 2020-08-19 14:08:58 [DEBUG] ScheduledStartTime\n",
      "WAITING TIME: 2020-08-19 14:09:06 [DEBUG] ScheduledEndTime\n",
      "WAITING TIME: 2020-08-19 14:09:14 [DEBUG] ActualStartDate\n",
      "WAITING TIME: 2020-08-19 14:09:22 [DEBUG] ActualEndDate\n",
      "WAITING TIME: 2020-08-19 14:09:31 [DEBUG] dxt_AliasName\n",
      "WAITING TIME: 2020-08-19 14:09:47 [DEBUG] AliasSerNum\n",
      "WAITING TIME: 2020-08-19 14:10:06 [DEBUG] CourseSerNum\n",
      "WAITING TIME: 2020-08-19 14:10:14 [DEBUG] PlanSerNum\n",
      "WAITING TIME: 2020-08-19 14:10:23 [DEBUG] TreatmentOrientation\n",
      "WAITING TIME: 2020-08-19 14:10:38 [DEBUG] month\n",
      "WAITING TIME: 2020-08-19 14:10:54 [DEBUG] week\n",
      "WAITING TIME: 2020-08-19 14:11:10 [DEBUG] hour\n",
      "WAITING TIME: 2020-08-19 14:11:26 [DEBUG] AppointmentSerNum\n",
      "WAITING TIME: 2020-08-19 14:11:26 [INFO] Start processing numerical features!\n",
      "WAITING TIME: 2020-08-19 14:11:26 [DEBUG] age\n",
      "WAITING TIME: 2020-08-19 14:11:26 [DEBUG] Scheduled_duration\n",
      "WAITING TIME: 2020-08-19 14:11:26 [DEBUG] Actual_duration\n",
      "WAITING TIME: 2020-08-19 14:11:26 [INFO] Combine Treatment with multiple rows!\n",
      "WAITING TIME: 2020-08-19 14:11:26 [INFO] Start processing categorical features!\n",
      "WAITING TIME: 2020-08-19 14:11:26 [DEBUG] FractionNumber\n",
      "WAITING TIME: 2020-08-19 14:11:45 [DEBUG] UserName\n",
      "WAITING TIME: 2020-08-19 14:12:01 [DEBUG] RadiationSerNum\n",
      "WAITING TIME: 2020-08-19 14:12:10 [DEBUG] ResourceSerNum\n",
      "WAITING TIME: 2020-08-19 14:12:29 [DEBUG] CourseId\n",
      "WAITING TIME: 2020-08-19 14:12:45 [DEBUG] PatientSerNum\n",
      "WAITING TIME: 2020-08-19 14:12:45 [DEBUG] date\n",
      "WAITING TIME: 2020-08-19 14:12:45 [INFO] Start processing numerical features!\n",
      "WAITING TIME: 2020-08-19 14:12:45 [DEBUG] ImagesTaken_total\n",
      "WAITING TIME: 2020-08-19 14:12:45 [DEBUG] MU_total\n",
      "WAITING TIME: 2020-08-19 14:12:45 [DEBUG] MUCoeff_total\n",
      "WAITING TIME: 2020-08-19 14:12:46 [DEBUG] TreatmentTime_total\n",
      "WAITING TIME: 2020-08-19 14:12:46 [DEBUG] Select Patient with one more Appointment\n",
      "WAITING TIME: 2020-08-19 14:12:47 [DEBUG] The total number of patient is 8101\n"
     ]
    }
   ],
   "source": [
    "processed_seq_data = process_sequence_data(processed_data)\n",
    "_, _, series_data = filter_data(processed_seq_data)\n",
    "\n",
    "# 进行one hot 编码\n",
    "label_encoder_dxt_AliasName = one_hot_enc('dxt_AliasName', processed_seq_data)\n",
    "label_encoder_Sex = one_hot_enc('Sex', processed_seq_data)\n",
    "label_encoder_AliasSerNum = one_hot_enc('AliasSerNum', processed_seq_data)\n",
    "label_encoder_month = one_hot_enc('month', processed_seq_data)\n",
    "label_encoder_week = one_hot_enc('week', processed_seq_data)\n",
    "label_encoder_hour = one_hot_enc('hour', processed_seq_data)\n",
    "label_encoder_DoctorSerNum = one_hot_enc('DoctorSerNum', processed_seq_data)\n",
    "label_encoder_TreatmentOrientation = one_hot_enc('TreatmentOrientation', processed_seq_data)\n",
    "label_encoder_FractionNumber = one_hot_enc('FractionNumber', processed_seq_data)\n",
    "label_encoder_UserName = one_hot_enc('UserName', processed_seq_data)\n",
    "label_encoder_CourseId = one_hot_enc('CourseId', processed_seq_data)\n",
    "label_encoder_ResourceSerNum = one_hot_enc('ResourceSerNum', processed_seq_data)"
   ]
  },
  {
   "cell_type": "markdown",
   "metadata": {},
   "source": [
    "# 2 Generate room samples"
   ]
  },
  {
   "cell_type": "code",
   "execution_count": 74,
   "metadata": {},
   "outputs": [
    {
     "name": "stderr",
     "output_type": "stream",
     "text": [
      "WAITING TIME: 2020-08-19 14:12:47 [DEBUG] Get room information!\n"
     ]
    },
    {
     "name": "stdout",
     "output_type": "stream",
     "text": [
      "\n",
      "The shape of data_re_appt (475920, 6)\n",
      "The shape of data_room (475864, 2)\n",
      "The shape of room_series_data (143297, 30)\n"
     ]
    }
   ],
   "source": [
    "logger.debug('Get room information!')\n",
    "data_re_appt = read_df_from_sql('SELECT * FROM resourceappointment').drop(columns=['LastUpdated'])\n",
    "print(f'\\nThe shape of data_re_appt {data_re_appt.shape}')\n",
    "\n",
    "data_room = data_re_appt.rename(columns = {'ResourceSerNum': 'room'})\n",
    "data_room = data_room[['AppointmentSerNum', 'room']].drop_duplicates()\n",
    "print(f'The shape of data_room {data_room.shape}')\n",
    "\n",
    "room_series_data = pd.merge(series_data, data_room, on = 'AppointmentSerNum', how = 'left')\n",
    "print(f'The shape of room_series_data {room_series_data.shape}')"
   ]
  },
  {
   "cell_type": "code",
   "execution_count": 75,
   "metadata": {},
   "outputs": [],
   "source": [
    "ROOM_NUM_FEATURES = ['Scheduled_duration', 'age', 'TreatmentTime_total',\n",
    "                     'ImagesTaken_total', 'MU_total', 'MUCoeff_total', 'order',\n",
    "                     'last_Scheduled_duration', 'last_age', 'last_TreatmentTime_total',\n",
    "                     'last_ImagesTaken_total', 'last_MU_total', 'last_MUCoeff_total', 'last_order',\n",
    "                     'Interval_number', 'Transfer_duration']\n",
    "# 'last_Actual_duration', 'Actual_duration'\n",
    "\n",
    "ROOM_CATE_FEATURES = ['dxt_AliasName', 'Sex', 'AliasSerNum', 'hour', 'DoctorSerNum',\n",
    "                      'TreatmentOrientation', 'FractionNumber', 'UserName', 'CourseId',\n",
    "                      'last_dxt_AliasName', 'last_Sex', 'last_AliasSerNum', 'last_hour', 'last_DoctorSerNum',\n",
    "                      'last_TreatmentOrientation', 'last_FractionNumber', 'last_UserName', 'last_CourseId',\n",
    "                      'ResourceSerNum', 'month', 'week']\n",
    "\n",
    "# 还可以增加AliasExpressionSerNum"
   ]
  },
  {
   "cell_type": "code",
   "execution_count": 76,
   "metadata": {},
   "outputs": [],
   "source": [
    "# 计算时间差\n",
    "def cal_time_inv(before, now):\n",
    "#     before = str_to_Datetime(before)\n",
    "#     now = str_to_Datetime(now)\n",
    "    if now >= before:\n",
    "        inv = (now - before).seconds\n",
    "        return inv\n",
    "    else:\n",
    "        return 0"
   ]
  },
  {
   "cell_type": "code",
   "execution_count": 80,
   "metadata": {},
   "outputs": [],
   "source": [
    "def get_room_last_future_patient(room_info_grouped, room_number):\n",
    "    room = room_info_grouped.get_group(room_number)\n",
    "    \n",
    "    room = room.sort_values(by = 'ScheduledStartTime')\n",
    "    room['order'] = [i+1 for i in range(room.shape[0])]\n",
    "    \n",
    "    room = room.sort_values(by = 'ActualStartDate').reset_index(drop = True)\n",
    "    \n",
    "    # 去掉最后一位患者的信息，构成上一位患者的DataFrame\n",
    "    room_last = room.copy()\n",
    "    room_last = room_last.drop(labels = [room_last.index[-1]], axis = 0).reset_index(drop = True)\n",
    "    room_last.columns = ['last_' + col for col in room_last.columns]\n",
    "    \n",
    "    # 去掉第一位患者的信息，构成当前患者的DataFrame\n",
    "    room = room.drop(labels = [room.index[0]], axis = 0).reset_index(drop = True)\n",
    "    \n",
    "    # 横向拼接数据\n",
    "    room = pd.concat([room_last, room], axis = 1)\n",
    "    \n",
    "    # 计算实际转换时长，也就是得到标签\n",
    "    room['Transfer_duration'] = room.apply(lambda x: \n",
    "                                           cal_time_inv(x.last_ActualEndDate, x.ActualStartDate) / 60, axis = 1)\n",
    "    \n",
    "    # 因为可能有缺失的数据，因此把这个作为一个特征\n",
    "    room['Interval_number'] = room.apply(lambda x: int(x.Transfer_duration / 15), axis = 1)\n",
    "    \n",
    "    room = room[ROOM_NUM_FEATURES + ROOM_CATE_FEATURES]\n",
    "    \n",
    "    return room"
   ]
  },
  {
   "cell_type": "code",
   "execution_count": 81,
   "metadata": {},
   "outputs": [
    {
     "name": "stdout",
     "output_type": "stream",
     "text": [
      "room_seq 6730\n",
      "room_one 521\n"
     ]
    }
   ],
   "source": [
    "room_info_grouped = room_series_data.groupby(['room', 'date'])\n",
    "\n",
    "room_count = room_info_grouped.count()\n",
    "room_seq = room_count[room_count.PatientSerNum > 1].index.tolist()\n",
    "room_one = room_count[room_count.PatientSerNum == 1].index.tolist()\n",
    "print(f'room_seq {len(room_seq)}')\n",
    "print(f'room_one {len(room_one)}')"
   ]
  },
  {
   "cell_type": "code",
   "execution_count": 87,
   "metadata": {
    "collapsed": true
   },
   "outputs": [
    {
     "name": "stdout",
     "output_type": "stream",
     "text": [
      "Get DataFrame for room\n",
      "No.100 Room samples\n",
      "No.200 Room samples\n",
      "No.300 Room samples\n",
      "No.400 Room samples\n",
      "No.500 Room samples\n",
      "No.600 Room samples\n",
      "No.700 Room samples\n",
      "No.800 Room samples\n",
      "No.900 Room samples\n",
      "No.1000 Room samples\n",
      "No.1100 Room samples\n",
      "No.1200 Room samples\n",
      "No.1300 Room samples\n",
      "No.1400 Room samples\n",
      "No.1500 Room samples\n",
      "No.1600 Room samples\n",
      "No.1700 Room samples\n",
      "No.1800 Room samples\n",
      "No.1900 Room samples\n",
      "No.2000 Room samples\n",
      "No.2100 Room samples\n",
      "No.2200 Room samples\n",
      "No.2300 Room samples\n",
      "No.2400 Room samples\n",
      "No.2500 Room samples\n",
      "No.2600 Room samples\n",
      "No.2700 Room samples\n",
      "No.2800 Room samples\n",
      "No.2900 Room samples\n",
      "No.3000 Room samples\n",
      "No.3100 Room samples\n",
      "No.3200 Room samples\n",
      "No.3300 Room samples\n",
      "No.3400 Room samples\n",
      "No.3500 Room samples\n",
      "No.3600 Room samples\n",
      "No.3700 Room samples\n",
      "No.3800 Room samples\n",
      "No.3900 Room samples\n",
      "No.4000 Room samples\n",
      "No.4100 Room samples\n",
      "No.4200 Room samples\n",
      "No.4300 Room samples\n",
      "No.4400 Room samples\n",
      "No.4500 Room samples\n",
      "No.4600 Room samples\n",
      "No.4700 Room samples\n",
      "No.4800 Room samples\n",
      "No.4900 Room samples\n",
      "No.5000 Room samples\n",
      "No.5100 Room samples\n",
      "No.5200 Room samples\n",
      "No.5300 Room samples\n",
      "No.5400 Room samples\n",
      "No.5500 Room samples\n",
      "No.5600 Room samples\n",
      "No.5700 Room samples\n",
      "No.5800 Room samples\n",
      "No.5900 Room samples\n",
      "No.6000 Room samples\n",
      "No.6100 Room samples\n",
      "No.6200 Room samples\n",
      "No.6300 Room samples\n",
      "No.6400 Room samples\n",
      "No.6500 Room samples\n",
      "No.6600 Room samples\n",
      "No.6700 Room samples\n"
     ]
    }
   ],
   "source": [
    "# 形成专门针对room 的DataFrame\n",
    "print('Get DataFrame for room')\n",
    "room_sample_all = pd.DataFrame({})\n",
    "for i in range(len(room_seq)):\n",
    "    if (i+1) % 100 == 0:\n",
    "        print(f'No.{i+1} Room samples')\n",
    "    room_number = room_seq[i]\n",
    "    room = get_room_last_future_patient(room_info_grouped, room_number)\n",
    "    room_sample_all = pd.concat([room_sample_all, room], axis = 0)\n",
    "    \n",
    "room_sample_all = room_sample_all.sample(frac = 1, random_state = 1)"
   ]
  },
  {
   "cell_type": "markdown",
   "metadata": {},
   "source": [
    "## The distribution of transfer duration"
   ]
  },
  {
   "cell_type": "code",
   "execution_count": 91,
   "metadata": {},
   "outputs": [],
   "source": [
    "plan_trans = room_sample_all.copy()"
   ]
  },
  {
   "cell_type": "code",
   "execution_count": 92,
   "metadata": {},
   "outputs": [
    {
     "data": {
      "image/png": "[encoded data removed]",
      "text/plain": [
       "<Figure size 576x432 with 1 Axes>"
      ]
     },
     "metadata": {
      "needs_background": "light"
     },
     "output_type": "display_data"
    }
   ],
   "source": [
    "fig = plt.figure(figsize = (8, 6))\n",
    "ax = plt.subplot(111)\n",
    "x = range(len(plan_trans['Transfer_duration']))\n",
    "y = plan_trans.Transfer_duration.tolist()\n",
    "y.sort()\n",
    "\n",
    "ax.plot(x, y, label = 'Transfer_duration')\n",
    "ax.set_xlabel('The number of Samples')\n",
    "ax.set_ylabel('Duration (min)')\n",
    "ax.set_title('Transfer Duration (All samples)')\n",
    "ax.legend()\n",
    "plt.show()"
   ]
  },
  {
   "cell_type": "markdown",
   "metadata": {},
   "source": [
    "## filter samples\n",
    "#### 筛选出计划的患者序列，顺序没有发生变化的样本，也就是没有发生插队情况的样本"
   ]
  },
  {
   "cell_type": "code",
   "execution_count": 93,
   "metadata": {},
   "outputs": [
    {
     "name": "stdout",
     "output_type": "stream",
     "text": [
      "The number of all samples (135695, 37)\n",
      "The number of samples order normal (47491, 38)\n"
     ]
    }
   ],
   "source": [
    "print(f'The number of all samples {plan_trans.shape}')\n",
    "\n",
    "plan_trans['norm'] = plan_trans.order - plan_trans.last_order\n",
    "plan_norm = plan_trans[plan_trans.norm == 1]\n",
    "print(f'The number of samples order normal {plan_norm.shape}')"
   ]
  },
  {
   "cell_type": "code",
   "execution_count": 97,
   "metadata": {},
   "outputs": [
    {
     "name": "stdout",
     "output_type": "stream",
     "text": [
      "MAE all samples: 7.644216809757176\n",
      "MAE samples with normal orders: 8.413215135499359\n"
     ]
    }
   ],
   "source": [
    "# 人工预测的基准\n",
    "# 目前医院设置转换时长全部认为是0\n",
    "# 全部样本，也就是包括了“插队”的情况\n",
    "print(f'MAE all samples: {plan_trans.Transfer_duration.mean()}')\n",
    "\n",
    "# 只包括本身就是相邻的两位患者的数据\n",
    "print(f'MAE samples with normal orders: {plan_norm.Transfer_duration.mean()}')"
   ]
  },
  {
   "cell_type": "code",
   "execution_count": 98,
   "metadata": {},
   "outputs": [
    {
     "data": {
      "image/png": "[encoded data removed]",
      "text/plain": [
       "<Figure size 576x432 with 1 Axes>"
      ]
     },
     "metadata": {
      "needs_background": "light"
     },
     "output_type": "display_data"
    }
   ],
   "source": [
    "fig = plt.figure(figsize = (8, 6))\n",
    "ax = plt.subplot(111)\n",
    "x = range(len(plan_norm['Transfer_duration']))\n",
    "y = plan_norm.Transfer_duration.tolist()\n",
    "y.sort()\n",
    "\n",
    "ax.plot(x, y, label = 'Transfer_duration')\n",
    "ax.set_xlabel('The number of Samples')\n",
    "ax.set_ylabel('Duration (min)')\n",
    "ax.set_title('Transfer Duration (with normal orders)')\n",
    "ax.legend()\n",
    "plt.show()"
   ]
  },
  {
   "cell_type": "markdown",
   "metadata": {},
   "source": [
    "# 3 Generate training samples"
   ]
  },
  {
   "cell_type": "code",
   "execution_count": 99,
   "metadata": {},
   "outputs": [],
   "source": [
    "def MAE(pred_y, test_y):\n",
    "    mae = sum(np.abs((pred_y - test_y))) / len(pred_y)\n",
    "    return mae"
   ]
  },
  {
   "cell_type": "code",
   "execution_count": 100,
   "metadata": {},
   "outputs": [],
   "source": [
    "def RMSE(pred_y, test_y):\n",
    "    sq = sum((pred_y - test_y)**2) / len(pred_y)\n",
    "#     sq = sum((pred_y - np.array(test_y.Actual_duration.tolist()))**2) / len(pred_y)\n",
    "    rmse = np.sqrt(sq)\n",
    "    return rmse"
   ]
  },
  {
   "cell_type": "code",
   "execution_count": 104,
   "metadata": {},
   "outputs": [],
   "source": [
    "def generate_sample(room_sample_all):\n",
    "    \n",
    "    # 对分类变量进行one-hot encoding处理\n",
    "    encode_cate = pd.DataFrame({})\n",
    "\n",
    "    encode_cate['last_dxt_AliasName'] = room_sample_all['last_dxt_AliasName'].apply(\n",
    "        lambda x: sum(label_encoder_dxt_AliasName.transform(np.array(x).reshape(-1,1))))\n",
    "    train_x = np.vstack(encode_cate.last_dxt_AliasName.tolist())\n",
    "    \n",
    "    encode_cate['dxt_AliasName'] = room_sample_all['dxt_AliasName'].apply(\n",
    "        lambda x: sum(label_encoder_dxt_AliasName.transform(np.array(x).reshape(-1,1))))\n",
    "    train_x = np.hstack((train_x, np.vstack(encode_cate.dxt_AliasName.tolist())))\n",
    "    \n",
    "    encode_cate['last_Sex'] = room_sample_all['last_Sex'].apply(\n",
    "        lambda x: sum(label_encoder_Sex.transform(np.array(x).reshape(-1,1))))\n",
    "    train_x = np.hstack((train_x, np.vstack(encode_cate.last_Sex.tolist())))\n",
    "    \n",
    "    encode_cate['Sex'] = room_sample_all['Sex'].apply(\n",
    "        lambda x: sum(label_encoder_Sex.transform(np.array(x).reshape(-1,1))))\n",
    "    train_x = np.hstack((train_x, np.vstack(encode_cate.Sex.tolist())))\n",
    "\n",
    "    encode_cate['last_AliasSerNum'] = room_sample_all['last_AliasSerNum'].apply(\n",
    "        lambda x: sum(label_encoder_AliasSerNum.transform(np.array(x).reshape(-1,1))))\n",
    "    train_x = np.hstack((train_x, np.vstack(encode_cate.last_AliasSerNum.tolist())))\n",
    "    \n",
    "    encode_cate['AliasSerNum'] = room_sample_all['AliasSerNum'].apply(\n",
    "        lambda x: sum(label_encoder_AliasSerNum.transform(np.array(x).reshape(-1,1))))\n",
    "    train_x = np.hstack((train_x, np.vstack(encode_cate.AliasSerNum.tolist())))\n",
    "    \n",
    "    encode_cate['last_hour'] = room_sample_all['last_hour'].apply(\n",
    "        lambda x: sum(label_encoder_hour.transform(np.array(x).reshape(-1,1))))\n",
    "    train_x = np.hstack((train_x, np.vstack(encode_cate.last_hour.tolist())))\n",
    "    \n",
    "    encode_cate['hour'] = room_sample_all['hour'].apply(\n",
    "        lambda x: sum(label_encoder_hour.transform(np.array(x).reshape(-1,1))))\n",
    "    train_x = np.hstack((train_x, np.vstack(encode_cate.hour.tolist())))\n",
    "\n",
    "    \n",
    "    encode_cate['last_DoctorSerNum'] = room_sample_all['last_DoctorSerNum'].apply(\n",
    "        lambda x: sum(label_encoder_DoctorSerNum.transform(np.array(x).reshape(-1,1))))\n",
    "    train_x = np.hstack((train_x, np.vstack(encode_cate.last_DoctorSerNum.tolist())))\n",
    "\n",
    "    encode_cate['DoctorSerNum'] = room_sample_all['DoctorSerNum'].apply(\n",
    "        lambda x: sum(label_encoder_DoctorSerNum.transform(np.array(x).reshape(-1,1))))\n",
    "    train_x = np.hstack((train_x, np.vstack(encode_cate.DoctorSerNum.tolist())))\n",
    "    \n",
    "    encode_cate['last_TreatmentOrientation'] = room_sample_all['last_TreatmentOrientation'].apply(\n",
    "        lambda x: sum(label_encoder_TreatmentOrientation.transform(np.array(x).reshape(-1,1))))\n",
    "    train_x = np.hstack((train_x, np.vstack(encode_cate.last_TreatmentOrientation.tolist())))\n",
    "\n",
    "    encode_cate['TreatmentOrientation'] = room_sample_all['TreatmentOrientation'].apply(\n",
    "        lambda x: sum(label_encoder_TreatmentOrientation.transform(np.array(x).reshape(-1,1))))\n",
    "    train_x = np.hstack((train_x, np.vstack(encode_cate.TreatmentOrientation.tolist())))\n",
    "    \n",
    "    encode_cate['last_FractionNumber'] = room_sample_all['last_FractionNumber'].apply(\n",
    "        lambda x: sum(label_encoder_FractionNumber.transform(np.array(x).reshape(-1,1))))\n",
    "    train_x = np.hstack((train_x, np.vstack(encode_cate.last_FractionNumber.tolist())))\n",
    "    \n",
    "    encode_cate['FractionNumber'] = room_sample_all['FractionNumber'].apply(\n",
    "        lambda x: sum(label_encoder_FractionNumber.transform(np.array(x).reshape(-1,1))))\n",
    "    train_x = np.hstack((train_x, np.vstack(encode_cate.FractionNumber.tolist())))\n",
    "\n",
    "    encode_cate['last_UserName'] = room_sample_all['last_UserName'].apply(\n",
    "        lambda x: sum(label_encoder_UserName.transform(np.array(x).reshape(-1,1))))\n",
    "    train_x = np.hstack((train_x, np.vstack(encode_cate.last_UserName.tolist())))\n",
    "\n",
    "    encode_cate['UserName'] = room_sample_all['UserName'].apply(\n",
    "        lambda x: sum(label_encoder_UserName.transform(np.array(x).reshape(-1,1))))\n",
    "    train_x = np.hstack((train_x, np.vstack(encode_cate.UserName.tolist())))\n",
    "    \n",
    "    encode_cate['last_CourseId'] = room_sample_all['last_CourseId'].apply(\n",
    "        lambda x: sum(label_encoder_CourseId.transform(np.array(x).reshape(-1,1))))\n",
    "    train_x = np.hstack((train_x, np.vstack(encode_cate.last_CourseId.tolist())))\n",
    "\n",
    "    encode_cate['CourseId'] = room_sample_all['CourseId'].apply(\n",
    "        lambda x: sum(label_encoder_CourseId.transform(np.array(x).reshape(-1,1))))\n",
    "    train_x = np.hstack((train_x, np.vstack(encode_cate.CourseId.tolist())))\n",
    "    \n",
    "    \n",
    "    encode_cate['ResourceSerNum'] = room_sample_all['ResourceSerNum'].apply(\n",
    "        lambda x: sum(label_encoder_ResourceSerNum.transform(np.array(str(x)).reshape(-1,1))))\n",
    "    train_x = np.hstack((train_x, np.vstack(encode_cate.ResourceSerNum.tolist())))\n",
    "    \n",
    "    encode_cate['month'] = room_sample_all['month'].apply(\n",
    "        lambda x: sum(label_encoder_month.transform(np.array(x).reshape(-1,1))))\n",
    "    train_x = np.hstack((train_x, np.vstack(encode_cate.month.tolist())))\n",
    "\n",
    "    encode_cate['week'] = room_sample_all['week'].apply(\n",
    "        lambda x: sum(label_encoder_week.transform(np.array(x).reshape(-1,1))))\n",
    "    train_x = np.hstack((train_x, np.vstack(encode_cate.week.tolist())))\n",
    "    \n",
    "    \n",
    "    # encode_cate['AliasExpressionSerNum'] = room['AliasExpressionSerNum'].apply(\n",
    "    #    lambda x: sum(label_encoder_AliasExpressionSerNum.transform(np.array(x).reshape(-1,1))))\n",
    "    # train_x = np.hstack((train_x, np.vstack(encode_cate.AliasExpressionSerNum.tolist())))\n",
    "    \n",
    "    \n",
    "    # 将数值变量和非数值变量进行合并\n",
    "    train_num = room_sample_all[ROOM_NUM_FEATURES]\n",
    "    train_num.drop('Transfer_duration', axis = 1, inplace = True)\n",
    "    train_x = np.hstack((train_x, train_num))\n",
    "    \n",
    "    train_y = room_sample_all[['Transfer_duration']]\n",
    "    \n",
    "    return train_x, train_y"
   ]
  },
  {
   "cell_type": "code",
   "execution_count": 105,
   "metadata": {},
   "outputs": [],
   "source": [
    "x_samples, y_labels = generate_sample(room_sample_all)"
   ]
  },
  {
   "cell_type": "code",
   "execution_count": 107,
   "metadata": {},
   "outputs": [
    {
     "name": "stdout",
     "output_type": "stream",
     "text": [
      "The shape of train_x is (122125, 561)\n",
      "The shape of val_x is (6785, 561)\n",
      "The shape of test_x is (6785, 561)\n"
     ]
    }
   ],
   "source": [
    "samples_length = len(y_labels)\n",
    "\n",
    "train_x = x_samples[: int(samples_length * 0.9)]\n",
    "train_y = y_labels[: int(samples_length * 0.9)]\n",
    "print(f'The shape of train_x is {train_x.shape}')\n",
    "\n",
    "val_x = x_samples[int(samples_length * 0.9): int(samples_length * 0.95)]\n",
    "val_y = y_labels[int(samples_length * 0.9): int(samples_length * 0.95)]\n",
    "print(f'The shape of val_x is {val_x.shape}')\n",
    "\n",
    "test_x = x_samples[int(samples_length * 0.95): ]\n",
    "test_y = y_labels[int(samples_length * 0.95): ]\n",
    "print(f'The shape of test_x is {test_x.shape}')"
   ]
  },
  {
   "cell_type": "code",
   "execution_count": 108,
   "metadata": {},
   "outputs": [
    {
     "name": "stdout",
     "output_type": "stream",
     "text": [
      "========================================\n",
      "Train model\n",
      "Training until validation scores don't improve for 100 rounds\n",
      "[20]\ttraining's l1: 2.93314\tvalid_1's l1: 2.96835\n",
      "[40]\ttraining's l1: 2.17259\tvalid_1's l1: 2.19982\n",
      "[60]\ttraining's l1: 2.05038\tvalid_1's l1: 2.05744\n",
      "[80]\ttraining's l1: 2.04479\tvalid_1's l1: 2.04954\n",
      "[100]\ttraining's l1: 2.04479\tvalid_1's l1: 2.04953\n",
      "[120]\ttraining's l1: 2.04479\tvalid_1's l1: 2.04953\n",
      "[140]\ttraining's l1: 2.04479\tvalid_1's l1: 2.04953\n",
      "[160]\ttraining's l1: 2.04479\tvalid_1's l1: 2.04953\n",
      "[180]\ttraining's l1: 2.04479\tvalid_1's l1: 2.04953\n",
      "[200]\ttraining's l1: 2.04479\tvalid_1's l1: 2.04953\n",
      "[220]\ttraining's l1: 2.04479\tvalid_1's l1: 2.04953\n",
      "[240]\ttraining's l1: 2.04479\tvalid_1's l1: 2.04953\n",
      "[260]\ttraining's l1: 2.04479\tvalid_1's l1: 2.04953\n",
      "[280]\ttraining's l1: 2.04479\tvalid_1's l1: 2.04953\n",
      "[300]\ttraining's l1: 2.04479\tvalid_1's l1: 2.04953\n",
      "[320]\ttraining's l1: 2.04479\tvalid_1's l1: 2.04953\n",
      "[340]\ttraining's l1: 2.04479\tvalid_1's l1: 2.04953\n",
      "[360]\ttraining's l1: 2.04479\tvalid_1's l1: 2.04953\n",
      "[380]\ttraining's l1: 2.04479\tvalid_1's l1: 2.04953\n",
      "Early stopping, best iteration is:\n",
      "[296]\ttraining's l1: 2.04479\tvalid_1's l1: 2.04953\n"
     ]
    },
    {
     "data": {
      "text/plain": [
       "LGBMRegressor(boosting_type='gbdt', class_weight=None, colsample_bytree=1.0,\n",
       "              importance_type='split', learning_rate=0.1, max_depth=-1,\n",
       "              min_child_samples=20, min_child_weight=0.001, min_split_gain=0.0,\n",
       "              n_estimators=20000, n_jobs=-1, num_leaves=31, objective='mae',\n",
       "              random_state=None, reg_alpha=0.0, reg_lambda=0.0, silent=True,\n",
       "              subsample=1.0, subsample_for_bin=200000, subsample_freq=0)"
      ]
     },
     "execution_count": 108,
     "metadata": {},
     "output_type": "execute_result"
    }
   ],
   "source": [
    "# 创建模型，训练模型\n",
    "print('='*40)\n",
    "print('Train model')\n",
    "gbm_room = lgb.LGBMRegressor(objective='mae', num_leaves=31, learning_rate=0.1,\n",
    "                             n_estimators = 20000)#num_leaves=31\n",
    "\n",
    "gbm_room.fit(\n",
    "    train_x, train_y, eval_set=[(train_x, train_y), (val_x, val_y)],\n",
    "    eval_metric='mae',\n",
    "    early_stopping_rounds=100,\n",
    "    verbose=20\n",
    ")\n",
    "\n",
    "# verbose=200"
   ]
  },
  {
   "cell_type": "code",
   "execution_count": 109,
   "metadata": {},
   "outputs": [
    {
     "name": "stdout",
     "output_type": "stream",
     "text": [
      "2.132696020237935\n"
     ]
    }
   ],
   "source": [
    "# 测试\n",
    "pred_y = gbm_room.predict(test_x, num_iteration = gbm_room.best_iteration_)\n",
    "\n",
    "mae = MAE(pred_y, np.array(test_y.Transfer_duration.tolist()))\n",
    "print(mae)"
   ]
  },
  {
   "cell_type": "code",
   "execution_count": 110,
   "metadata": {},
   "outputs": [
    {
     "data": {
      "image/png": "[encoded data removed]",
      "text/plain": [
       "<Figure size 576x432 with 1 Axes>"
      ]
     },
     "metadata": {
      "needs_background": "light"
     },
     "output_type": "display_data"
    }
   ],
   "source": [
    "trans_pred_act = pd.DataFrame({'pre_Transfer_duration': pred_y,\n",
    "                               'Transfer_duration': test_y.Transfer_duration.tolist()})\n",
    "trans_pred_act.sort_values(by = ['Transfer_duration'], inplace = True)\n",
    "\n",
    "fig = plt.figure(figsize = (8, 6))\n",
    "ax = plt.subplot(111)\n",
    "x = range(trans_pred_act.shape[0])\n",
    "y1 = trans_pred_act.pre_Transfer_duration.tolist()\n",
    "y2 = trans_pred_act.Transfer_duration.tolist()\n",
    "ax.plot(x, y1, label = 'pre_Transfer_duration')\n",
    "ax.plot(x, y2, label = 'Transfer_duration')\n",
    "\n",
    "ax.set_xlabel('The number of Samples')\n",
    "ax.set_ylabel('Duration (min)')\n",
    "ax.set_title('pre_Transfer_duration and Transfer_duration (samples order normal)')\n",
    "ax.legend()\n",
    "plt.show()"
   ]
  },
  {
   "cell_type": "code",
   "execution_count": null,
   "metadata": {},
   "outputs": [],
   "source": [
    "_"
   ]
  }
 ],
 "metadata": {
  "kernelspec": {
   "display_name": "Python 3",
   "language": "python",
   "name": "python3"
  },
  "language_info": {
   "codemirror_mode": {
    "name": "ipython",
    "version": 3
   },
   "file_extension": ".py",
   "mimetype": "text/x-python",
   "name": "python",
   "nbconvert_exporter": "python",
   "pygments_lexer": "ipython3",
   "version": "3.7.6"
  }
 },
 "nbformat": 4,
 "nbformat_minor": 2
}
