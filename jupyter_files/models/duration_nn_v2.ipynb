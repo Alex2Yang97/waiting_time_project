{
 "cells": [
  {
   "cell_type": "code",
   "execution_count": 194,
   "metadata": {},
   "outputs": [],
   "source": [
    "import os\n",
    "import datetime\n",
    "import random\n",
    "\n",
    "import pandas as pd\n",
    "import numpy as np\n",
    "import matplotlib.pyplot as plt\n",
    "\n",
    "from sklearn import preprocessing\n",
    "from sklearn.utils import shuffle\n",
    "from sklearn.impute import SimpleImputer\n",
    "\n",
    "import tensorflow as tf\n",
    "from tensorflow.keras import backend as K\n",
    "from tensorflow.keras import layers, optimizers\n",
    "from tensorflow.keras.models import Sequential\n",
    "from tensorflow.keras.utils import plot_model\n",
    "tf.compat.v1.logging.set_verbosity(tf.compat.v1.logging.ERROR)\n",
    "\n",
    "import sys\n",
    "sys.path.append(r'C:\\Users\\10768\\personal files\\waiting_time\\waiting_time_project')\n",
    "\n",
    "from utils.logger import logger\n",
    "from data_process import get_apptointment_info, get_treat_info, fill_nan, get_list\n",
    "from wtp.duration.predict_duration_lgb import FEATURE_NUM, FEATURE_CATE\n",
    "from wtp.duration.config_duration import DT_MODEL_DIR\n",
    "\n",
    "import warnings\n",
    "warnings.filterwarnings(\"ignore\")"
   ]
  },
  {
   "cell_type": "markdown",
   "metadata": {},
   "source": [
    "# 1 Process Data"
   ]
  },
  {
   "cell_type": "code",
   "execution_count": 2,
   "metadata": {
    "scrolled": false
   },
   "outputs": [
    {
     "name": "stderr",
     "output_type": "stream",
     "text": [
      "WAITING TIME: 2020-08-17 09:52:44 [INFO] Get information about appointment!\n",
      "WAITING TIME: 2020-08-17 09:52:44 [DEBUG] Get table of appointment!\n",
      "WAITING TIME: 2020-08-17 09:53:29 [DEBUG] Get table of patient!\n",
      "WAITING TIME: 2020-08-17 09:53:31 [DEBUG] Merge appointment and patient!\n",
      "WAITING TIME: 2020-08-17 09:53:31 [DEBUG] Get table of patientdoctor!\n",
      "WAITING TIME: 2020-08-17 09:53:34 [DEBUG] Merge patientdoctor!\n",
      "WAITING TIME: 2020-08-17 09:53:34 [DEBUG] Get table of diagnosis!\n",
      "WAITING TIME: 2020-08-17 09:53:35 [DEBUG] Get table of diagnosis!\n",
      "WAITING TIME: 2020-08-17 09:53:35 [DEBUG] Merge diagnosis and diagnosistranslation!\n",
      "WAITING TIME: 2020-08-17 09:53:35 [DEBUG] Get table of course!\n",
      "WAITING TIME: 2020-08-17 09:53:37 [DEBUG] Get table of plan!\n",
      "WAITING TIME: 2020-08-17 09:53:41 [DEBUG] Merge plan and course!\n",
      "WAITING TIME: 2020-08-17 09:53:41 [DEBUG] Merge plan_course and appointment!\n",
      "WAITING TIME: 2020-08-17 09:53:42 [DEBUG] Drop columns with same values!\n",
      "WAITING TIME: 2020-08-17 09:53:45 [DEBUG] Process appointment data!\n",
      "WAITING TIME: 2020-08-17 09:56:11 [INFO] Get information about treatment!\n",
      "WAITING TIME: 2020-08-17 09:56:11 [DEBUG] Get table of radiation!\n",
      "WAITING TIME: 2020-08-17 09:56:26 [DEBUG] Get table of radiationhstry!\n",
      "WAITING TIME: 2020-08-17 09:57:42 [DEBUG] Merge radiation and radiationhstry!\n",
      "WAITING TIME: 2020-08-17 09:57:43 [DEBUG] Merge plan!\n",
      "WAITING TIME: 2020-08-17 09:57:47 [DEBUG] Get table of radiation!\n",
      "WAITING TIME: 2020-08-17 09:57:49 [DEBUG] Get table of radiation!\n",
      "WAITING TIME: 2020-08-17 09:57:50 [DEBUG] Merge course and patient\n",
      "WAITING TIME: 2020-08-17 09:57:50 [DEBUG] Merge radiation and radiation!\n",
      "WAITING TIME: 2020-08-17 09:57:51 [DEBUG] Drop columns with same values!\n",
      "WAITING TIME: 2020-08-17 09:57:52 [DEBUG] Process treatment data!\n"
     ]
    }
   ],
   "source": [
    "processed_appointment_data_ = get_apptointment_info()\n",
    "processed_treatment_data_ = get_treat_info()\n",
    "\n",
    "processed_appointment_data = processed_appointment_data_.copy()\n",
    "processed_treatment_data = processed_treatment_data_.copy()\n",
    "\n",
    "processed_appointment_data = processed_appointment_data.drop_duplicates().reset_index(drop=True)\n",
    "processed_treatment_data = processed_treatment_data.drop_duplicates().reset_index(drop=True)"
   ]
  },
  {
   "cell_type": "code",
   "execution_count": 3,
   "metadata": {},
   "outputs": [],
   "source": [
    "processed_data = pd.merge(processed_appointment_data, processed_treatment_data, on=['PatientSerNum', 'date'], how='inner')\n",
    "# processed_data = processed_data.sort_values(\n",
    "#     by=['PatientSerNum', 'AppointmentSerNum', 'ScheduledStartTime', 'FractionNumber']).reset_index(drop=True)\n",
    "\n",
    "imp_mean = SimpleImputer(missing_values=np.nan, strategy='mean')\n",
    "imp_mean.fit(processed_data[FEATURE_NUM])\n",
    "processed_data.loc[:, FEATURE_NUM] = imp_mean.transform(processed_data[FEATURE_NUM])"
   ]
  },
  {
   "cell_type": "code",
   "execution_count": 4,
   "metadata": {},
   "outputs": [],
   "source": [
    "FEATURE_CATE.remove('FractionNumber')"
   ]
  },
  {
   "cell_type": "code",
   "execution_count": 5,
   "metadata": {},
   "outputs": [],
   "source": [
    "cate_onehot_data = pd.DataFrame({})\n",
    "update_cate_features = []\n",
    "for feature in FEATURE_CATE:\n",
    "    tmp = pd.get_dummies(processed_data[[feature]], prefix=f\"{feature}_\")\n",
    "    update_cate_features.extend(tmp.columns)\n",
    "    cate_onehot_data = pd.concat([cate_onehot_data, tmp], axis=1)\n",
    "\n",
    "cate_onehot_data['AppointmentSerNum'] = processed_data['AppointmentSerNum']\n",
    "cate_onehot_data = cate_onehot_data.groupby(by='AppointmentSerNum').sum()"
   ]
  },
  {
   "cell_type": "code",
   "execution_count": 6,
   "metadata": {},
   "outputs": [],
   "source": [
    "num_features_single_value = ['age', 'Scheduled_duration', 'Actual_duration']\n",
    "\n",
    "num_features_multiple_value = ['ImagesTaken', 'MU', 'MUCoeff', 'TreatmentTime']\n",
    "\n",
    "num_data_single_value = processed_data[num_features_single_value + ['AppointmentSerNum']]\n",
    "num_data_single_value = num_data_single_value.groupby(by='AppointmentSerNum').mean()\n",
    "num_data_single_value = num_data_single_value.reset_index(drop=False)\n",
    "\n",
    "num_data_multiple_value = processed_data[num_features_multiple_value + ['AppointmentSerNum']]\n",
    "num_data_multiple_value = num_data_multiple_value.groupby(by='AppointmentSerNum').sum()\n",
    "num_data_multiple_value = num_data_multiple_value.reset_index(drop=False)"
   ]
  },
  {
   "cell_type": "code",
   "execution_count": 7,
   "metadata": {},
   "outputs": [],
   "source": [
    "information_features = [\n",
    "    'PatientSerNum', 'AppointmentSerNum',\n",
    "    'ScheduledStartTime', 'ScheduledEndTime', 'ActualStartDate', 'ActualEndDate'\n",
    "]# FractionNumber\n",
    "information_data = processed_data[information_features]\n",
    "information_data = information_data.drop_duplicates().reset_index(drop=True)"
   ]
  },
  {
   "cell_type": "code",
   "execution_count": 8,
   "metadata": {},
   "outputs": [],
   "source": [
    "num_data = pd.merge(num_data_single_value, num_data_multiple_value, on='AppointmentSerNum', how='inner')\n",
    "feature_data = pd.merge(num_data, cate_onehot_data, on='AppointmentSerNum', how='inner')\n",
    "all_data = pd.merge(feature_data, information_data, on='AppointmentSerNum', how='inner')\n",
    "\n",
    "all_data = all_data.sort_values(by=['PatientSerNum', 'ScheduledStartTime']).reset_index(drop=True)"
   ]
  },
  {
   "cell_type": "markdown",
   "metadata": {},
   "source": [
    "# 2 Split Data and Train"
   ]
  },
  {
   "cell_type": "code",
   "execution_count": 186,
   "metadata": {},
   "outputs": [],
   "source": [
    "patients_lst = []\n",
    "train_samples_lst = []\n",
    "label_samples_lst = []\n",
    "for pat, sample in all_data.groupby('PatientSerNum'):\n",
    "    sample = sample[FEATURE_NUM + update_cate_features]\n",
    "    label_samples_lst.append(sample.iloc[-1, 1])\n",
    "    sample.iloc[-1, 1] = 0\n",
    "    patients_lst.append(pat)\n",
    "    train_samples_lst.append(sample.values)"
   ]
  },
  {
   "cell_type": "code",
   "execution_count": 187,
   "metadata": {},
   "outputs": [],
   "source": [
    "random.seed(1)\n",
    "random.shuffle(train_samples_lst)\n",
    "random.seed(1)\n",
    "random.shuffle(label_samples_lst)\n",
    "\n",
    "data_length = len(train_samples_lst)\n",
    "\n",
    "train_set = train_samples_lst[: int(data_length * 0.9)]\n",
    "label_train_set = label_samples_lst[: int(data_length * 0.9)]\n",
    "\n",
    "val_set = train_samples_lst[int(data_length * 0.9): int(data_length * 0.95)]\n",
    "label_val_set = label_samples_lst[int(data_length * 0.9): int(data_length * 0.95)]\n",
    "\n",
    "test_set = train_samples_lst[int(data_length * 0.95): ]\n",
    "label_test_set = label_samples_lst[int(data_length * 0.95): ]"
   ]
  },
  {
   "cell_type": "code",
   "execution_count": 188,
   "metadata": {},
   "outputs": [],
   "source": [
    "def generate_data(x_set, y_set, batch_size):\n",
    "    i = 0\n",
    "    while True:\n",
    "        feature_samples = []\n",
    "        label_samples = []\n",
    "        for b in range(batch_size):\n",
    "            if i == len(x_set):\n",
    "                i = 0\n",
    "                random.seed(1)\n",
    "                random.shuffle(x_set)\n",
    "                random.seed(1)\n",
    "                random.shuffle(y_set)\n",
    "            \n",
    "            feature_samples.append(x_set[i])\n",
    "            label_samples.append(y_set[i])\n",
    "            \n",
    "            i = i + 1\n",
    "            \n",
    "        feature_samples = tf.keras.preprocessing.sequence.pad_sequences(np.array(feature_samples), padding=\"pre\")\n",
    "        \n",
    "        yield feature_samples, np.array(label_samples)\n",
    "        # yield ({'input': train_samples}, {'output': batch_samples})"
   ]
  },
  {
   "cell_type": "code",
   "execution_count": 189,
   "metadata": {},
   "outputs": [],
   "source": [
    "def sequence_model():\n",
    "    model = Sequential()\n",
    "    model.add(\n",
    "        layers.LSTM(128,\n",
    "            batch_input_shape = (None , None, 209),\n",
    "            dropout=0.1,\n",
    "            recurrent_dropout=0.5,\n",
    "            name='input'\n",
    "        )\n",
    "    )\n",
    "\n",
    "    # model_sequence.add(layers.LSTM(\n",
    "    #         output_dim = 32,\n",
    "    #         ))\n",
    "    # stateful = True 本次batch的参数返回到下一次的训练中\n",
    "\n",
    "    model.add(layers.Dense(32))\n",
    "    model.add(layers.Dense(1, name='output'))\n",
    "    \n",
    "    return model"
   ]
  },
  {
   "cell_type": "code",
   "execution_count": 190,
   "metadata": {},
   "outputs": [],
   "source": [
    "early_stopping = tf.keras.callbacks.EarlyStopping(monitor='val_loss',\n",
    "                                                  min_delta=1e5,\n",
    "                                                  patience=5,\n",
    "                                                  verbose=1,\n",
    "                                                  restore_best_weights=True)"
   ]
  },
  {
   "cell_type": "code",
   "execution_count": 195,
   "metadata": {},
   "outputs": [],
   "source": [
    "checkpoint_path_industry = os.path.join(DT_MODEL_DIR, f'sequence_model.h5')\n",
    "cp_callback_model = tf.keras.callbacks.ModelCheckpoint(checkpoint_path_industry, \n",
    "                                                       monitor='val_loss', \n",
    "                                                       verbose=0,\n",
    "                                                       save_best_only=True, \n",
    "                                                       save_weights_only=False, \n",
    "                                                       mode='min', \n",
    "                                                       period=1)"
   ]
  },
  {
   "cell_type": "code",
   "execution_count": 196,
   "metadata": {
    "scrolled": false
   },
   "outputs": [
    {
     "name": "stdout",
     "output_type": "stream",
     "text": [
      "Epoch 1/100\n",
      "255/255 [==============================] - 7s 26ms/step - loss: 8.7239 - mean_absolute_percentage_error: 42.7300 - mae: 8.7239 - val_loss: 7.2924 - val_mean_absolute_percentage_error: 46.3395 - val_mae: 7.2924\n",
      "Epoch 2/100\n",
      "255/255 [==============================] - 7s 26ms/step - loss: 7.3914 - mean_absolute_percentage_error: 38.1214 - mae: 7.3914 - val_loss: 6.9901 - val_mean_absolute_percentage_error: 40.6725 - val_mae: 6.9901\n",
      "Epoch 3/100\n",
      "255/255 [==============================] - 7s 26ms/step - loss: 7.1628 - mean_absolute_percentage_error: 37.6186 - mae: 7.1628 - val_loss: 7.0468 - val_mean_absolute_percentage_error: 43.9671 - val_mae: 7.0468\n",
      "Epoch 4/100\n",
      "255/255 [==============================] - 7s 28ms/step - loss: 7.3054 - mean_absolute_percentage_error: 36.8763 - mae: 7.3054 - val_loss: 6.5941 - val_mean_absolute_percentage_error: 36.7840 - val_mae: 6.5941\n",
      "Epoch 5/100\n",
      "255/255 [==============================] - 7s 27ms/step - loss: 7.2020 - mean_absolute_percentage_error: 37.2476 - mae: 7.2020 - val_loss: 6.8450 - val_mean_absolute_percentage_error: 41.7577 - val_mae: 6.8450\n",
      "Epoch 6/100\n",
      "255/255 [==============================] - 7s 26ms/step - loss: 7.1877 - mean_absolute_percentage_error: 36.8475 - mae: 7.1877 - val_loss: 7.1115 - val_mean_absolute_percentage_error: 45.3742 - val_mae: 7.1115\n",
      "Epoch 7/100\n",
      "255/255 [==============================] - 6s 25ms/step - loss: 7.1365 - mean_absolute_percentage_error: 36.6309 - mae: 7.1365 - val_loss: 6.6643 - val_mean_absolute_percentage_error: 40.0349 - val_mae: 6.6643\n",
      "Epoch 8/100\n",
      "255/255 [==============================] - 6s 25ms/step - loss: 6.9916 - mean_absolute_percentage_error: 37.1012 - mae: 6.9916 - val_loss: 6.6255 - val_mean_absolute_percentage_error: 38.0908 - val_mae: 6.6255\n",
      "Epoch 9/100\n",
      "255/255 [==============================] - 6s 25ms/step - loss: 7.3106 - mean_absolute_percentage_error: 36.8388 - mae: 7.3106 - val_loss: 6.8633 - val_mean_absolute_percentage_error: 43.2167 - val_mae: 6.8633\n",
      "Epoch 10/100\n",
      "255/255 [==============================] - 7s 26ms/step - loss: 7.0773 - mean_absolute_percentage_error: 37.3150 - mae: 7.0773 - val_loss: 7.0124 - val_mean_absolute_percentage_error: 45.1158 - val_mae: 7.0124\n",
      "Epoch 11/100\n",
      "254/255 [============================>.] - ETA: 0s - loss: 7.1382 - mean_absolute_percentage_error: 36.9124 - mae: 7.1382Restoring model weights from the end of the best epoch.\n",
      "255/255 [==============================] - 7s 26ms/step - loss: 7.1334 - mean_absolute_percentage_error: 36.8825 - mae: 7.1334 - val_loss: 6.7897 - val_mean_absolute_percentage_error: 40.2548 - val_mae: 6.7897\n",
      "Epoch 00011: early stopping\n"
     ]
    },
    {
     "data": {
      "text/plain": [
       "<tensorflow.python.keras.callbacks.History at 0x20995b0f748>"
      ]
     },
     "execution_count": 196,
     "metadata": {},
     "output_type": "execute_result"
    }
   ],
   "source": [
    "model_sequence = sequence_model()\n",
    "opt = optimizers.Adam(lr=0.001)\n",
    "\n",
    "model_sequence.compile(\n",
    "    optimizer = opt,\n",
    "    loss = 'mae',\n",
    "    metrics=['mean_absolute_percentage_error', 'mae']\n",
    ")\n",
    "\n",
    "model_sequence.fit_generator(generate_data(train_set, label_train_set, 32),\n",
    "                             steps_per_epoch=len(train_set)//32,\n",
    "                             epochs=100,\n",
    "                             callbacks=[early_stopping, cp_callback_model],\n",
    "                             # batch_size=256,\n",
    "                             validation_data=generate_data(val_set, label_val_set, 32),\n",
    "                             validation_steps=len(val_set)//32)\n",
    "\n",
    "# validation_batch_size=128,\n",
    "# sample_weight=train_weight,"
   ]
  },
  {
   "cell_type": "markdown",
   "metadata": {},
   "source": [
    "# 3 Test Data"
   ]
  },
  {
   "cell_type": "code",
   "execution_count": 183,
   "metadata": {},
   "outputs": [
    {
     "name": "stderr",
     "output_type": "stream",
     "text": [
      "WAITING TIME: 2020-08-17 17:44:37 [DEBUG] MAE: 7.0650852978884515\n",
      "WAITING TIME: 2020-08-17 17:44:37 [DEBUG] MAPE: 39.01293316445505\n"
     ]
    }
   ],
   "source": [
    "padding_test_set = tf.keras.preprocessing.sequence.pad_sequences(np.array(test_set), padding=\"pre\")\n",
    "\n",
    "y_pred = model_sequence.predict(padding_test_set)\n",
    "\n",
    "residual = np.array(label_test_set) - y_pred.reshape(-1, )\n",
    "\n",
    "logger.debug(f\"MAE: {np.mean(np.abs(residual))}\")\n",
    "logger.debug(f\"MAPE: {100. * np.mean(np.abs(residual / np.array(label_test_set)))}\")"
   ]
  },
  {
   "cell_type": "code",
   "execution_count": 182,
   "metadata": {},
   "outputs": [
    {
     "data": {
      "image/png": "[encoded data removed]",
      "text/plain": [
       "<Figure size 432x288 with 1 Axes>"
      ]
     },
     "metadata": {
      "needs_background": "light"
     },
     "output_type": "display_data"
    }
   ],
   "source": [
    "res = pd.DataFrame({'true_y': label_test_set, 'pred_y': y_pred.reshape(-1, )}).sort_values(by='true_y').reset_index(drop=True)\n",
    "\n",
    "plt.plot(res.index, res['true_y'], label='true_y')\n",
    "plt.plot(res.index, res['pred_y'], label='pred_y')\n",
    "plt.legend()\n",
    "plt.show()"
   ]
  },
  {
   "cell_type": "code",
   "execution_count": null,
   "metadata": {},
   "outputs": [],
   "source": []
  }
 ],
 "metadata": {
  "kernelspec": {
   "display_name": "Python 3",
   "language": "python",
   "name": "python3"
  },
  "language_info": {
   "codemirror_mode": {
    "name": "ipython",
    "version": 3
   },
   "file_extension": ".py",
   "mimetype": "text/x-python",
   "name": "python",
   "nbconvert_exporter": "python",
   "pygments_lexer": "ipython3",
   "version": "3.7.6"
  }
 },
 "nbformat": 4,
 "nbformat_minor": 2
}
