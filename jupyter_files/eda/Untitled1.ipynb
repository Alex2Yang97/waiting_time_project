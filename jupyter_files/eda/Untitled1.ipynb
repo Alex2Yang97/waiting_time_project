{
 "cells": [
  {
   "cell_type": "code",
   "execution_count": 1,
   "metadata": {},
   "outputs": [],
   "source": [
    "import datetime"
   ]
  },
  {
   "cell_type": "code",
   "execution_count": 2,
   "metadata": {},
   "outputs": [],
   "source": [
    "# 获取季度数据\n",
    "def get_qtr_list(year, qtr):\n",
    "    qtr_list = []\n",
    "    for i in range(len(year)):\n",
    "        for j in range(len(qtr)):\n",
    "            sy = year[i]\n",
    "            sm = qtr[j]\n",
    "            start_date = datetime.date(sy, sm, 1).strftime('%Y-%m-%d %H:%M:%S')\n",
    "            if j != len(qtr)-1:\n",
    "                ey = year[i]\n",
    "                em = qtr[j+1]\n",
    "                end_date = datetime.date(ey, em, 1).strftime('%Y-%m-%d %H:%M:%S')\n",
    "#                 print(start_date, end_date)\n",
    "                qtr_list.append((start_date, end_date))\n",
    "            else:\n",
    "                ey = year[i]+1\n",
    "                em = qtr[0]\n",
    "                end_date = datetime.date(ey, em, 1).strftime('%Y-%m-%d %H:%M:%S')\n",
    "#                 print(start_date, end_date)\n",
    "                qtr_list.append((start_date, end_date))\n",
    "    return qtr_list"
   ]
  },
  {
   "cell_type": "code",
   "execution_count": 6,
   "metadata": {},
   "outputs": [
    {
     "name": "stdout",
     "output_type": "stream",
     "text": [
      "\n",
      "Start training model!!!\n"
     ]
    }
   ],
   "source": [
    "print('\\nStart training model!!!')\n",
    "qtr = [1, 4, 7, 10]\n",
    "year = [2018, 2019]# 2019\n",
    "qtr_list = get_qtr_list(year, qtr)"
   ]
  },
  {
   "cell_type": "code",
   "execution_count": 7,
   "metadata": {},
   "outputs": [
    {
     "data": {
      "text/plain": [
       "[('2018-01-01 00:00:00', '2018-04-01 00:00:00'),\n",
       " ('2018-04-01 00:00:00', '2018-07-01 00:00:00'),\n",
       " ('2018-07-01 00:00:00', '2018-10-01 00:00:00'),\n",
       " ('2018-10-01 00:00:00', '2019-01-01 00:00:00'),\n",
       " ('2019-01-01 00:00:00', '2019-04-01 00:00:00'),\n",
       " ('2019-04-01 00:00:00', '2019-07-01 00:00:00'),\n",
       " ('2019-07-01 00:00:00', '2019-10-01 00:00:00'),\n",
       " ('2019-10-01 00:00:00', '2020-01-01 00:00:00')]"
      ]
     },
     "execution_count": 7,
     "metadata": {},
     "output_type": "execute_result"
    }
   ],
   "source": [
    "qtr_list"
   ]
  },
  {
   "cell_type": "code",
   "execution_count": null,
   "metadata": {},
   "outputs": [],
   "source": []
  }
 ],
 "metadata": {
  "kernelspec": {
   "display_name": "Python 3",
   "language": "python",
   "name": "python3"
  },
  "language_info": {
   "codemirror_mode": {
    "name": "ipython",
    "version": 3
   },
   "file_extension": ".py",
   "mimetype": "text/x-python",
   "name": "python",
   "nbconvert_exporter": "python",
   "pygments_lexer": "ipython3",
   "version": "3.7.3"
  }
 },
 "nbformat": 4,
 "nbformat_minor": 2
}
