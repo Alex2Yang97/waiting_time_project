{
 "cells": [
  {
   "cell_type": "code",
   "execution_count": 1,
   "metadata": {},
   "outputs": [],
   "source": [
    "import pymysql\n",
    "import pandas as pd\n",
    "import numpy as np\n",
    "import datetime\n",
    "import time\n",
    "import sys\n",
    "sys.path.append(r'D:\\jupyter files\\waiting_time_project\\my_tools')\n",
    "import tools_for_os.for_df as ml_df"
   ]
  },
  {
   "cell_type": "code",
   "execution_count": 2,
   "metadata": {},
   "outputs": [
    {
     "name": "stdout",
     "output_type": "stream",
     "text": [
      "The shape of data_resource (477, 6)\n",
      "The shape of data_re_appt (475920, 7)\n",
      "The shape of data_appt (1074478, 17)\n",
      "The shape of data_pl (206855, 9)\n",
      "The shape of data_plmh (2333039, 10)\n"
     ]
    }
   ],
   "source": [
    "sql_re = \"\"\"SELECT * FROM resource\"\"\"\n",
    "data_re_ = ml_df.get_df_from_sql(sql_re)\n",
    "print(f'The shape of data_resource {data_re_.shape}')\n",
    "sql_re_appt = \"\"\"SELECT * FROM resourceappointment\"\"\"\n",
    "data_re_appt_ = ml_df.get_df_from_sql(sql_re_appt)\n",
    "print(f'The shape of data_re_appt {data_re_appt_.shape}')\n",
    "sql_appt = \"\"\"SELECT * FROM appointment\"\"\"\n",
    "data_appt_ = ml_df.get_df_from_sql(sql_appt)\n",
    "print(f'The shape of data_appt {data_appt_.shape}')\n",
    "sql_pl = \"\"\"SELECT * FROM patientlocation\"\"\"\n",
    "data_pl_ = ml_df.get_df_from_sql(sql_pl)\n",
    "print(f'The shape of data_pl {data_pl_.shape}')\n",
    "sql_plmh = \"\"\"SELECT * FROM patientlocationmh\"\"\"\n",
    "data_plmh_ = ml_df.get_df_from_sql(sql_plmh)\n",
    "print(f'The shape of data_plmh {data_plmh_.shape}')"
   ]
  },
  {
   "cell_type": "code",
   "execution_count": 3,
   "metadata": {},
   "outputs": [
    {
     "name": "stdout",
     "output_type": "stream",
     "text": [
      "Drop columns\n"
     ]
    }
   ],
   "source": [
    "try:\n",
    "    print('Drop columns')\n",
    "    data_appt_.drop(columns = ['LastUpdated'], inplace = True)\n",
    "    data_re_.drop(columns = ['LastUpdated'], inplace = True)\n",
    "    data_re_appt_.drop('LastUpdated', axis = 1, inplace = True)\n",
    "    data_pl_.drop(columns = ['LastUpdated'], inplace = True)\n",
    "    data_plmh_.drop(columns = ['LastUpdated'], inplace = True)\n",
    "except:\n",
    "    print('Finish droppping columns')"
   ]
  },
  {
   "cell_type": "code",
   "execution_count": 4,
   "metadata": {},
   "outputs": [],
   "source": [
    "data_re = data_re_.copy()\n",
    "data_re_appt = data_re_appt_.copy()\n",
    "data_appt = data_appt_.copy()\n",
    "data_pl = data_pl_.copy()\n",
    "data_plmh = data_plmh_.copy()"
   ]
  },
  {
   "cell_type": "markdown",
   "metadata": {},
   "source": [
    "已经检查过，一个Appointment 里面只有一个AliasSerNum"
   ]
  },
  {
   "cell_type": "code",
   "execution_count": 5,
   "metadata": {},
   "outputs": [
    {
     "name": "stdout",
     "output_type": "stream",
     "text": [
      "The shape of data_appt (1074478, 16)\n",
      "The shape of data_appt (370299, 16)\n"
     ]
    }
   ],
   "source": [
    "print(f'The shape of data_appt {data_appt.shape}')\n",
    "data_appt = data_appt[\n",
    "    (data_appt.ActualStartDate != datetime.datetime(1970, 1, 1, 0, 0)) &\n",
    "    (data_appt.ActualEndDate != datetime.datetime(1970, 1, 1, 0, 0)) &\n",
    "    (data_appt.ActualStartDate != '0000-00-00 00:00:00')]\n",
    "print(f'The shape of data_appt {data_appt.shape}')"
   ]
  },
  {
   "cell_type": "markdown",
   "metadata": {},
   "source": [
    "一个AliasSerNum 对应多个ResourceSerNum\n",
    "一个ResourceSerNum 对应多个AppointmentSerNum"
   ]
  },
  {
   "cell_type": "code",
   "execution_count": 6,
   "metadata": {},
   "outputs": [
    {
     "name": "stdout",
     "output_type": "stream",
     "text": [
      "Merge data_appt and data_re_appt\n",
      "The shape of appt_re_appt (165512, 20)\n",
      "\n",
      "Merge data_re\n",
      "The shape of appt_loc (165512, 23)\n",
      "\n",
      "Merge data_pl\n",
      "The shape of appt_loc_pl (165512, 29)\n",
      "\n",
      "Get Treat_Date\n"
     ]
    }
   ],
   "source": [
    "print('Merge data_appt and data_re_appt')\n",
    "appt_re_appt = pd.merge(data_appt, data_re_appt, on = ['AppointmentSerNum', 'AliasSerNum'], how = 'inner')\n",
    "print(f'The shape of appt_re_appt {appt_re_appt.shape}')\n",
    "appt_re_appt.drop('AliasSerNum', axis = 1, inplace = True)\n",
    "\n",
    "print('\\nMerge data_re')\n",
    "appt_loc = pd.merge(data_re, appt_re_appt, on = ['ResourceSerNum'], how = 'inner')\n",
    "print(f'The shape of appt_loc {appt_loc.shape}')\n",
    "\n",
    "print('\\nMerge data_pl')\n",
    "data_pl.drop('AliasSerNum', axis = 1, inplace = True)\n",
    "appt_loc_pl = pd.merge(data_pl, appt_loc, on = ['AppointmentSerNum'], how = 'right')\n",
    "print(f'The shape of appt_loc_pl {appt_loc_pl.shape}')\n",
    "\n",
    "print('\\nGet Treat_Date')\n",
    "appt_loc_pl['Treat_Date'] = appt_loc_pl.apply(lambda x: x.ActualStartDate.strftime(\"%Y-%m-%d\"), axis = 1)"
   ]
  },
  {
   "cell_type": "code",
   "execution_count": 8,
   "metadata": {},
   "outputs": [
    {
     "data": {
      "text/plain": [
       "dict_keys([145, 175, 176, 177, 178, 179, 180, 237, 281, 293, 301, 303, 304, 310, 313, 359, 363, 365, 366, 369, 370, 371, 372, 373, 391, 406, 409, 416, 437, 666, 672, 697])"
      ]
     },
     "execution_count": 8,
     "metadata": {},
     "output_type": "execute_result"
    }
   ],
   "source": [
    "appt_loc_pl_grouped = appt_loc_pl.groupby('ResourceSerNum')\n",
    "appt_loc_pl_grouped.groups.keys()"
   ]
  },
  {
   "cell_type": "code",
   "execution_count": 11,
   "metadata": {},
   "outputs": [
    {
     "name": "stdout",
     "output_type": "stream",
     "text": [
      "(2930, 30)\n"
     ]
    },
    {
     "name": "stderr",
     "output_type": "stream",
     "text": [
      "C:\\Users\\WENDY\\AppData\\Roaming\\Python\\Python37\\site-packages\\ipykernel_launcher.py:2: SettingWithCopyWarning: \n",
      "A value is trying to be set on a copy of a slice from a DataFrame\n",
      "\n",
      "See the caveats in the documentation: http://pandas.pydata.org/pandas-docs/stable/indexing.html#indexing-view-versus-copy\n",
      "  \n"
     ]
    }
   ],
   "source": [
    "sample = appt_loc_pl_grouped.get_group(237)\n",
    "sample.sort_values(by = 'ActualStartDate', inplace = True)\n",
    "print(sample.shape)"
   ]
  },
  {
   "cell_type": "code",
   "execution_count": 12,
   "metadata": {},
   "outputs": [
    {
     "data": {
      "text/plain": [
       "Index(['PatientLocationSerNum', 'AppointmentSerNum', 'PatientLocationAriaSer',\n",
       "       'ResourceSer', 'RevCount', 'CheckedInFlag', 'ArrivalDateTime',\n",
       "       'ResourceSerNum', 'ResourceAriaSer', 'ResourceName', 'AliasSerNum',\n",
       "       'ResourceType', 'PatientSerNum', 'AppointmentAriaSer',\n",
       "       'ActivityInstanceAriaSer', 'DiagnosisSerNum', 'PrioritySerNum',\n",
       "       'AliasExpressionSerNum', 'Status', 'State', 'ScheduledStartTime',\n",
       "       'ScheduledEndTime', 'ActualStartDate', 'ActualEndDate',\n",
       "       'EstimatedDuration', 'HstryUserName', 'ResourceAppointmentSerNum',\n",
       "       'ExclusiveFlag', 'PrimaryFlag', 'Treat_Date'],\n",
       "      dtype='object')"
      ]
     },
     "execution_count": 12,
     "metadata": {},
     "output_type": "execute_result"
    }
   ],
   "source": [
    "sample.columns"
   ]
  },
  {
   "cell_type": "code",
   "execution_count": 13,
   "metadata": {},
   "outputs": [
    {
     "data": {
      "text/plain": [
       "dict_keys(['2014-01-30', '2015-01-05', '2015-01-06', '2015-01-07', '2015-01-08', '2015-01-09', '2015-01-12', '2015-01-13', '2015-01-14', '2015-01-15', '2015-01-16', '2015-01-18', '2015-01-19', '2015-01-20', '2015-01-21', '2015-01-22', '2015-01-23', '2015-01-26', '2015-01-27', '2015-01-28', '2015-01-29', '2015-01-30', '2015-02-02', '2015-02-03', '2015-02-04', '2015-02-05', '2015-02-06', '2015-02-09', '2015-02-10', '2015-02-11', '2015-02-12', '2015-02-13', '2015-02-17', '2015-02-18', '2015-02-19', '2015-02-20', '2015-02-23', '2015-02-24', '2015-02-25', '2015-02-26', '2015-02-27', '2015-03-02', '2015-03-03', '2015-03-04', '2015-03-05', '2015-03-06', '2015-03-09', '2015-03-10', '2015-03-11', '2015-03-12', '2015-03-13', '2015-03-16', '2015-03-17', '2015-03-18', '2015-03-19', '2015-03-20', '2015-03-23', '2015-03-24', '2015-03-25', '2015-03-26', '2015-03-27', '2015-03-29', '2015-03-30', '2015-03-31', '2015-04-01', '2015-04-02', '2015-04-07', '2015-04-08', '2015-04-09', '2015-04-10', '2015-04-11', '2015-04-13', '2015-04-14', '2015-04-15', '2015-04-16', '2015-04-17', '2015-04-20', '2015-04-21', '2015-04-22', '2015-04-23', '2015-04-24', '2015-04-27', '2015-04-28', '2015-04-29', '2015-04-30', '2015-05-01', '2015-05-04', '2015-05-05', '2015-05-06', '2015-05-07', '2015-05-08', '2015-05-11', '2015-05-12', '2015-05-13', '2015-05-14', '2015-05-15', '2015-05-16', '2015-05-18', '2015-05-19', '2015-05-20', '2015-05-21', '2015-05-22', '2015-05-25', '2015-05-26', '2015-05-27', '2015-05-28', '2015-05-29', '2015-06-02', '2015-06-03', '2015-06-04', '2015-06-05', '2015-06-08', '2015-06-09', '2015-06-10', '2015-06-11'])"
      ]
     },
     "execution_count": 13,
     "metadata": {},
     "output_type": "execute_result"
    }
   ],
   "source": [
    "sample_grouped = sample.groupby('Treat_Date')\n",
    "sample_grouped.groups.keys()"
   ]
  },
  {
   "cell_type": "code",
   "execution_count": 16,
   "metadata": {},
   "outputs": [
    {
     "data": {
      "text/html": [
       "<div>\n",
       "<style scoped>\n",
       "    .dataframe tbody tr th:only-of-type {\n",
       "        vertical-align: middle;\n",
       "    }\n",
       "\n",
       "    .dataframe tbody tr th {\n",
       "        vertical-align: top;\n",
       "    }\n",
       "\n",
       "    .dataframe thead th {\n",
       "        text-align: right;\n",
       "    }\n",
       "</style>\n",
       "<table border=\"1\" class=\"dataframe\">\n",
       "  <thead>\n",
       "    <tr style=\"text-align: right;\">\n",
       "      <th></th>\n",
       "      <th>PatientLocationSerNum</th>\n",
       "      <th>AppointmentSerNum</th>\n",
       "      <th>PatientLocationAriaSer</th>\n",
       "      <th>ResourceSer</th>\n",
       "      <th>RevCount</th>\n",
       "      <th>CheckedInFlag</th>\n",
       "      <th>ArrivalDateTime</th>\n",
       "      <th>ResourceSerNum</th>\n",
       "      <th>ResourceAriaSer</th>\n",
       "      <th>ResourceName</th>\n",
       "      <th>...</th>\n",
       "      <th>ScheduledStartTime</th>\n",
       "      <th>ScheduledEndTime</th>\n",
       "      <th>ActualStartDate</th>\n",
       "      <th>ActualEndDate</th>\n",
       "      <th>EstimatedDuration</th>\n",
       "      <th>HstryUserName</th>\n",
       "      <th>ResourceAppointmentSerNum</th>\n",
       "      <th>ExclusiveFlag</th>\n",
       "      <th>PrimaryFlag</th>\n",
       "      <th>Treat_Date</th>\n",
       "    </tr>\n",
       "  </thead>\n",
       "  <tbody>\n",
       "    <tr>\n",
       "      <th>154578</th>\n",
       "      <td>NaN</td>\n",
       "      <td>641322</td>\n",
       "      <td>NaN</td>\n",
       "      <td>NaN</td>\n",
       "      <td>NaN</td>\n",
       "      <td>NaN</td>\n",
       "      <td>NaT</td>\n",
       "      <td>237</td>\n",
       "      <td>29</td>\n",
       "      <td>CL21EX-B</td>\n",
       "      <td>...</td>\n",
       "      <td>2015-06-11 11:15:00</td>\n",
       "      <td>2015-06-11 11:30:00</td>\n",
       "      <td>2015-06-11 16:00:00</td>\n",
       "      <td>2015-06-11 16:18:00</td>\n",
       "      <td>0.0</td>\n",
       "      <td>vcaissie</td>\n",
       "      <td>36536</td>\n",
       "      <td>1</td>\n",
       "      <td>0</td>\n",
       "      <td>2015-06-11</td>\n",
       "    </tr>\n",
       "  </tbody>\n",
       "</table>\n",
       "<p>1 rows × 30 columns</p>\n",
       "</div>"
      ],
      "text/plain": [
       "        PatientLocationSerNum  AppointmentSerNum  PatientLocationAriaSer  \\\n",
       "154578                    NaN             641322                     NaN   \n",
       "\n",
       "        ResourceSer  RevCount  CheckedInFlag ArrivalDateTime  ResourceSerNum  \\\n",
       "154578          NaN       NaN            NaN             NaT             237   \n",
       "\n",
       "        ResourceAriaSer ResourceName  ...   ScheduledStartTime  \\\n",
       "154578               29     CL21EX-B  ...  2015-06-11 11:15:00   \n",
       "\n",
       "           ScheduledEndTime      ActualStartDate        ActualEndDate  \\\n",
       "154578  2015-06-11 11:30:00  2015-06-11 16:00:00  2015-06-11 16:18:00   \n",
       "\n",
       "        EstimatedDuration  HstryUserName  ResourceAppointmentSerNum  \\\n",
       "154578                0.0       vcaissie                      36536   \n",
       "\n",
       "        ExclusiveFlag PrimaryFlag  Treat_Date  \n",
       "154578              1           0  2015-06-11  \n",
       "\n",
       "[1 rows x 30 columns]"
      ]
     },
     "execution_count": 16,
     "metadata": {},
     "output_type": "execute_result"
    }
   ],
   "source": [
    "sample_grouped.get_group('2015-06-11')"
   ]
  },
  {
   "cell_type": "code",
   "execution_count": null,
   "metadata": {},
   "outputs": [],
   "source": []
  }
 ],
 "metadata": {
  "kernelspec": {
   "display_name": "Python 3",
   "language": "python",
   "name": "python3"
  },
  "language_info": {
   "codemirror_mode": {
    "name": "ipython",
    "version": 3
   },
   "file_extension": ".py",
   "mimetype": "text/x-python",
   "name": "python",
   "nbconvert_exporter": "python",
   "pygments_lexer": "ipython3",
   "version": "3.7.3"
  }
 },
 "nbformat": 4,
 "nbformat_minor": 2
}
