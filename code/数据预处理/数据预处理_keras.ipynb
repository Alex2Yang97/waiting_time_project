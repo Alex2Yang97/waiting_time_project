{
 "cells": [
  {
   "cell_type": "code",
   "execution_count": 46,
   "metadata": {},
   "outputs": [],
   "source": [
    "import pandas as pd\n",
    "import numpy as np\n",
    "from sklearn import preprocessing"
   ]
  },
  {
   "cell_type": "code",
   "execution_count": 2,
   "metadata": {},
   "outputs": [],
   "source": [
    "data_path = 'D:\\\\jupyter files\\\\data_waiting_time_project\\\\preprocess_data\\\\'"
   ]
  },
  {
   "cell_type": "code",
   "execution_count": 3,
   "metadata": {
    "scrolled": true
   },
   "outputs": [
    {
     "name": "stderr",
     "output_type": "stream",
     "text": [
      "C:\\Users\\WENDY\\Anaconda3\\lib\\site-packages\\numpy\\lib\\arraysetops.py:569: FutureWarning: elementwise comparison failed; returning scalar instead, but in the future will perform elementwise comparison\n",
      "  mask |= (ar1 == a)\n"
     ]
    }
   ],
   "source": [
    "data_part1 = pd.read_csv(data_path + 'data_part1.csv', index_col = 0)\n",
    "data_part2 = pd.read_csv(data_path + 'data_part2.csv', index_col = 0)"
   ]
  },
  {
   "cell_type": "code",
   "execution_count": 16,
   "metadata": {
    "scrolled": true
   },
   "outputs": [
    {
     "name": "stdout",
     "output_type": "stream",
     "text": [
      "457 with one appointment\n",
      "1900 with more appointment\n",
      "\n",
      "500 appointment data\n",
      "\n",
      "1000 appointment data\n",
      "\n",
      "1500 appointment data\n"
     ]
    }
   ],
   "source": [
    "data_part1_grouped = data_part1.iloc[: 10000].groupby('AppointmentSerNum')\n",
    "\n",
    "appt_one_list = []\n",
    "appt_more_list = []\n",
    "for appt in data_part1_grouped.groups.keys():\n",
    "    sample = data_part1_grouped.get_group(appt)\n",
    "    if sample.shape[0] == 1:\n",
    "        appt_one_list.append(appt)\n",
    "print(f'{len(appt_one_list)} with one appointment')\n",
    "\n",
    "appt_more_list = [i for i in data_part1_grouped.groups.keys() if i not in appt_one_list]\n",
    "print(f'{len(appt_more_list)} with more appointment')\n",
    "\n",
    "\n",
    "# key_list = list(data_part1_grouped.groups.keys())\n",
    "data_part1_new = pd.DataFrame({})\n",
    "for i in range(len(appt_more_list)):\n",
    "    if (i + 1) % 500 == 0:\n",
    "        print(f'\\n{i+1} appointment data')\n",
    "        \n",
    "    sample = data_part1_grouped.get_group(appt_more_list[i])\n",
    "    new_appt = pd.DataFrame({\n",
    "        'PatientSerNum': sample.PatientSerNum.tolist()[0],\n",
    "        'AppointmentSerNum': sample.AppointmentSerNum.tolist()[0],\n",
    "        'Sex': sample.Sex.tolist()[0],\n",
    "        'age': sample.age.tolist()[0],\n",
    "        'month': sample.month.tolist()[0],\n",
    "        'date': sample.date.tolist()[0],\n",
    "        'week': sample.week.tolist()[0],\n",
    "        'hour': sample.hour.tolist()[0],\n",
    "        'Scheduled_duration': sample.Scheduled_duration.tolist()[0],\n",
    "        'Actual_duration': sample.Actual_duration.tolist()[0],\n",
    "        'ScheduledStartTime': sample.ScheduledStartTime.tolist()[0],\n",
    "        'ScheduledEndTime': sample.ScheduledEndTime.tolist()[0],\n",
    "        'ActualStartDate': sample.ActualStartDate.tolist()[0],\n",
    "        'ActualEndDate': sample.ActualEndDate.tolist()[0],\n",
    "        \n",
    "        'dxt_AliasName': [list(set(sample.dxt_AliasName.tolist()))], \n",
    "        'AliasSerNum': [list(set(sample.AliasSerNum.tolist()))], \n",
    "        'CourseSerNum': [list(set(sample.CourseSerNum.tolist()))], \n",
    "        'PlanSerNum': [list(set(sample.PlanSerNum.tolist()))], \n",
    "        'TreatmentOrientation': [list(set(sample.TreatmentOrientation.tolist()))],\n",
    "        \n",
    "    })\n",
    "    \n",
    "    data_part1_new = pd.concat([data_part1_new, new_appt], axis = 0)\n",
    "data_part1_new.sort_values(by = ['PatientSerNum', 'AppointmentSerNum', 'ScheduledStartTime'], inplace = True)\n",
    "data_part1_new.reset_index(drop = True, inplace = True)"
   ]
  },
  {
   "cell_type": "code",
   "execution_count": 27,
   "metadata": {
    "scrolled": true
   },
   "outputs": [
    {
     "name": "stdout",
     "output_type": "stream",
     "text": [
      "16 with one treatment\n",
      "3117 with more treatment\n",
      "\n",
      "500 treatment data\n",
      "\n",
      "1000 treatment data\n",
      "\n",
      "1500 treatment data\n",
      "\n",
      "2000 treatment data\n",
      "\n",
      "2500 treatment data\n",
      "\n",
      "3000 treatment data\n"
     ]
    }
   ],
   "source": [
    "data_part2_grouped = data_part2.iloc[: 10000].groupby(['PatientSerNum', 'date'])\n",
    "\n",
    "treat_one_list = []\n",
    "treat_more_list = []\n",
    "for k in data_part2_grouped.groups.keys():\n",
    "    sample = data_part2_grouped.get_group(k)\n",
    "    if sample.shape[0] == 1:\n",
    "        treat_one_list.append(appt)\n",
    "print(f'{len(treat_one_list)} with one treatment')\n",
    "\n",
    "treat_more_list = [i for i in data_part2_grouped.groups.keys() if i not in treat_one_list]\n",
    "print(f'{len(treat_more_list)} with more treatment')\n",
    "\n",
    "# key_list = list(data_part2_grouped.groups.keys())\n",
    "data_part2_new = pd.DataFrame({})\n",
    "for i in range(len(treat_more_list)):\n",
    "    if (i+1) % 500 == 0:\n",
    "        print(f'\\n{i+1} treatment data')\n",
    "        \n",
    "    sample = data_part2_grouped.get_group(treat_more_list[i])\n",
    "    try:\n",
    "        new_treat = pd.DataFrame({\n",
    "            'PatientSerNum': sample.PatientSerNum.tolist()[0],\n",
    "            'FractionNumber': sample.FractionNumber.tolist()[0],\n",
    "            'date': sample.date.tolist()[0],\n",
    "\n",
    "            'UserName': [list(set(sample.UserName.tolist()))], \n",
    "            'RadiationSerNum': [list(set(sample.RadiationSerNum.tolist()))], \n",
    "            'RadiationId': [list(set(sample.RadiationId.tolist()))], \n",
    "            'ResourceSerNum': [list(set(sample.ResourceSerNum.tolist()))], \n",
    "            'CourseId': [list(set(sample.CourseId.tolist()))],\n",
    "\n",
    "            'ImagesTaken_total': sum(sample.ImagesTaken.tolist()),\n",
    "            'MU_total': sum(sample.MU.tolist()),\n",
    "            'MUCoeff_total': sum(sample.MUCoeff.tolist()),\n",
    "            'TreatmentTime_total': sum(sample.TreatmentTime.tolist()),\n",
    "        })\n",
    "        data_part2_new = pd.concat([data_part2_new, new_treat], axis = 0)\n",
    "    except:\n",
    "        print(treat_more_list[i])\n",
    "    \n",
    "    \n",
    "data_part2_new.sort_values(by = ['PatientSerNum', 'date', 'FractionNumber'], inplace = True)\n",
    "data_part2_new.reset_index(drop = True, inplace = True)"
   ]
  },
  {
   "cell_type": "code",
   "execution_count": 32,
   "metadata": {},
   "outputs": [
    {
     "name": "stdout",
     "output_type": "stream",
     "text": [
      "The shape of data_part1_new is (1900, 19)\n",
      "The shape of data_part1_new is (3117, 12)\n",
      "The shape of data is (584, 29)\n"
     ]
    }
   ],
   "source": [
    "data_part1_new.head()\n",
    "print(f'The shape of data_part1_new is {data_part1_new.shape}')\n",
    "print(f'The shape of data_part1_new is {data_part2_new.shape}')\n",
    "\n",
    "DATA = pd.merge(data_part1_new, data_part2_new, on = ['PatientSerNum', 'date'], how = 'inner')\n",
    "DATA.sort_values(by = ['PatientSerNum', 'AppointmentSerNum', 'ScheduledStartTime', 'FractionNumber'], inplace = True)\n",
    "print(f'The shape of data is {DATA.shape}')"
   ]
  },
  {
   "cell_type": "code",
   "execution_count": 40,
   "metadata": {},
   "outputs": [
    {
     "name": "stdout",
     "output_type": "stream",
     "text": [
      "series data 52\n"
     ]
    },
    {
     "data": {
      "text/html": [
       "<div>\n",
       "<style scoped>\n",
       "    .dataframe tbody tr th:only-of-type {\n",
       "        vertical-align: middle;\n",
       "    }\n",
       "\n",
       "    .dataframe tbody tr th {\n",
       "        vertical-align: top;\n",
       "    }\n",
       "\n",
       "    .dataframe thead th {\n",
       "        text-align: right;\n",
       "    }\n",
       "</style>\n",
       "<table border=\"1\" class=\"dataframe\">\n",
       "  <thead>\n",
       "    <tr style=\"text-align: right;\">\n",
       "      <th></th>\n",
       "      <th>PatientSerNum</th>\n",
       "      <th>AppointmentSerNum</th>\n",
       "      <th>Sex</th>\n",
       "      <th>age</th>\n",
       "      <th>month</th>\n",
       "      <th>date</th>\n",
       "      <th>week</th>\n",
       "      <th>hour</th>\n",
       "      <th>Scheduled_duration</th>\n",
       "      <th>Actual_duration</th>\n",
       "      <th>...</th>\n",
       "      <th>FractionNumber</th>\n",
       "      <th>UserName</th>\n",
       "      <th>RadiationSerNum</th>\n",
       "      <th>RadiationId</th>\n",
       "      <th>ResourceSerNum</th>\n",
       "      <th>CourseId</th>\n",
       "      <th>ImagesTaken_total</th>\n",
       "      <th>MU_total</th>\n",
       "      <th>MUCoeff_total</th>\n",
       "      <th>TreatmentTime_total</th>\n",
       "    </tr>\n",
       "  </thead>\n",
       "  <tbody>\n",
       "    <tr>\n",
       "      <th>470</th>\n",
       "      <td>4524</td>\n",
       "      <td>570195</td>\n",
       "      <td>Male</td>\n",
       "      <td>68</td>\n",
       "      <td>1</td>\n",
       "      <td>2015--01--05</td>\n",
       "      <td>1</td>\n",
       "      <td>9</td>\n",
       "      <td>15.0</td>\n",
       "      <td>14.0</td>\n",
       "      <td>...</td>\n",
       "      <td>24</td>\n",
       "      <td>[poon]</td>\n",
       "      <td>[402821, 402822]</td>\n",
       "      <td>[1.2 ARC2, 1.1 ARC1]</td>\n",
       "      <td>[95]</td>\n",
       "      <td>[C1]</td>\n",
       "      <td>0</td>\n",
       "      <td>420.815</td>\n",
       "      <td>200.0</td>\n",
       "      <td>1.666666</td>\n",
       "    </tr>\n",
       "    <tr>\n",
       "      <th>471</th>\n",
       "      <td>4524</td>\n",
       "      <td>570196</td>\n",
       "      <td>Male</td>\n",
       "      <td>68</td>\n",
       "      <td>1</td>\n",
       "      <td>2015--01--06</td>\n",
       "      <td>2</td>\n",
       "      <td>9</td>\n",
       "      <td>15.0</td>\n",
       "      <td>15.0</td>\n",
       "      <td>...</td>\n",
       "      <td>25</td>\n",
       "      <td>[poon]</td>\n",
       "      <td>[402821, 402822]</td>\n",
       "      <td>[1.2 ARC2, 1.1 ARC1]</td>\n",
       "      <td>[95]</td>\n",
       "      <td>[C1]</td>\n",
       "      <td>0</td>\n",
       "      <td>420.815</td>\n",
       "      <td>200.0</td>\n",
       "      <td>1.683333</td>\n",
       "    </tr>\n",
       "    <tr>\n",
       "      <th>169</th>\n",
       "      <td>1809</td>\n",
       "      <td>568788</td>\n",
       "      <td>Male</td>\n",
       "      <td>67</td>\n",
       "      <td>1</td>\n",
       "      <td>2015--01--06</td>\n",
       "      <td>2</td>\n",
       "      <td>14</td>\n",
       "      <td>15.0</td>\n",
       "      <td>48.0</td>\n",
       "      <td>...</td>\n",
       "      <td>1</td>\n",
       "      <td>[Chen Shi Lei]</td>\n",
       "      <td>[409004, 409012, 409013, 409005]</td>\n",
       "      <td>[1.4ARC2, 1.2ARC2, 1.1ARC1, 1.3ARC1]</td>\n",
       "      <td>[107]</td>\n",
       "      <td>[C1]</td>\n",
       "      <td>14</td>\n",
       "      <td>4580.170</td>\n",
       "      <td>400.0</td>\n",
       "      <td>7.950000</td>\n",
       "    </tr>\n",
       "    <tr>\n",
       "      <th>473</th>\n",
       "      <td>4524</td>\n",
       "      <td>570198</td>\n",
       "      <td>Male</td>\n",
       "      <td>68</td>\n",
       "      <td>1</td>\n",
       "      <td>2015--01--07</td>\n",
       "      <td>3</td>\n",
       "      <td>9</td>\n",
       "      <td>15.0</td>\n",
       "      <td>15.0</td>\n",
       "      <td>...</td>\n",
       "      <td>1</td>\n",
       "      <td>[Basdeo Reeta]</td>\n",
       "      <td>[408554, 408555]</td>\n",
       "      <td>[2.2 ARC2, 2.1 ARC1]</td>\n",
       "      <td>[95]</td>\n",
       "      <td>[C1]</td>\n",
       "      <td>2</td>\n",
       "      <td>449.769</td>\n",
       "      <td>200.0</td>\n",
       "      <td>1.683333</td>\n",
       "    </tr>\n",
       "    <tr>\n",
       "      <th>170</th>\n",
       "      <td>1809</td>\n",
       "      <td>568789</td>\n",
       "      <td>Male</td>\n",
       "      <td>67</td>\n",
       "      <td>1</td>\n",
       "      <td>2015--01--07</td>\n",
       "      <td>3</td>\n",
       "      <td>14</td>\n",
       "      <td>30.0</td>\n",
       "      <td>22.0</td>\n",
       "      <td>...</td>\n",
       "      <td>2</td>\n",
       "      <td>[Stachura Jacob]</td>\n",
       "      <td>[409012, 409013]</td>\n",
       "      <td>[1.4ARC2, 1.3ARC1]</td>\n",
       "      <td>[107]</td>\n",
       "      <td>[C1]</td>\n",
       "      <td>4</td>\n",
       "      <td>1041.980</td>\n",
       "      <td>200.0</td>\n",
       "      <td>1.900000</td>\n",
       "    </tr>\n",
       "  </tbody>\n",
       "</table>\n",
       "<p>5 rows × 29 columns</p>\n",
       "</div>"
      ],
      "text/plain": [
       "     PatientSerNum  AppointmentSerNum   Sex  age  month          date  week  \\\n",
       "470           4524             570195  Male   68      1  2015--01--05     1   \n",
       "471           4524             570196  Male   68      1  2015--01--06     2   \n",
       "169           1809             568788  Male   67      1  2015--01--06     2   \n",
       "473           4524             570198  Male   68      1  2015--01--07     3   \n",
       "170           1809             568789  Male   67      1  2015--01--07     3   \n",
       "\n",
       "     hour  Scheduled_duration  Actual_duration  ... FractionNumber  \\\n",
       "470     9                15.0             14.0  ...             24   \n",
       "471     9                15.0             15.0  ...             25   \n",
       "169    14                15.0             48.0  ...              1   \n",
       "473     9                15.0             15.0  ...              1   \n",
       "170    14                30.0             22.0  ...              2   \n",
       "\n",
       "             UserName                   RadiationSerNum  \\\n",
       "470            [poon]                  [402821, 402822]   \n",
       "471            [poon]                  [402821, 402822]   \n",
       "169    [Chen Shi Lei]  [409004, 409012, 409013, 409005]   \n",
       "473    [Basdeo Reeta]                  [408554, 408555]   \n",
       "170  [Stachura Jacob]                  [409012, 409013]   \n",
       "\n",
       "                              RadiationId ResourceSerNum CourseId  \\\n",
       "470                  [1.2 ARC2, 1.1 ARC1]           [95]     [C1]   \n",
       "471                  [1.2 ARC2, 1.1 ARC1]           [95]     [C1]   \n",
       "169  [1.4ARC2, 1.2ARC2, 1.1ARC1, 1.3ARC1]          [107]     [C1]   \n",
       "473                  [2.2 ARC2, 2.1 ARC1]           [95]     [C1]   \n",
       "170                    [1.4ARC2, 1.3ARC1]          [107]     [C1]   \n",
       "\n",
       "    ImagesTaken_total  MU_total MUCoeff_total  TreatmentTime_total  \n",
       "470                 0   420.815         200.0             1.666666  \n",
       "471                 0   420.815         200.0             1.683333  \n",
       "169                14  4580.170         400.0             7.950000  \n",
       "473                 2   449.769         200.0             1.683333  \n",
       "170                 4  1041.980         200.0             1.900000  \n",
       "\n",
       "[5 rows x 29 columns]"
      ]
     },
     "execution_count": 40,
     "metadata": {},
     "output_type": "execute_result"
    }
   ],
   "source": [
    "DATA_grouped = DATA.groupby('PatientSerNum')\n",
    "\n",
    "series_data = []\n",
    "for pat in DATA_grouped.groups.keys():\n",
    "    if DATA_grouped.get_group(pat).shape[0] != 1:\n",
    "        series_data.append(pat)\n",
    "print(f'series data {len(series_data)}')\n",
    "\n",
    "series_data = pd.DataFrame({'PatientSerNum': series_data})\n",
    "series_data = pd.merge(series_data, DATA, on = 'PatientSerNum', how = 'inner')\n",
    "series_data.sort_values(by = ['ScheduledStartTime'], inplace = True)\n",
    "series_data.head()"
   ]
  },
  {
   "cell_type": "code",
   "execution_count": 41,
   "metadata": {},
   "outputs": [
    {
     "data": {
      "text/plain": [
       "Index(['PatientSerNum', 'AppointmentSerNum', 'Sex', 'age', 'month', 'date',\n",
       "       'week', 'hour', 'Scheduled_duration', 'Actual_duration',\n",
       "       'ScheduledStartTime', 'ScheduledEndTime', 'ActualStartDate',\n",
       "       'ActualEndDate', 'dxt_AliasName', 'AliasSerNum', 'CourseSerNum',\n",
       "       'PlanSerNum', 'TreatmentOrientation', 'FractionNumber', 'UserName',\n",
       "       'RadiationSerNum', 'RadiationId', 'ResourceSerNum', 'CourseId',\n",
       "       'ImagesTaken_total', 'MU_total', 'MUCoeff_total',\n",
       "       'TreatmentTime_total'],\n",
       "      dtype='object')"
      ]
     },
     "execution_count": 41,
     "metadata": {},
     "output_type": "execute_result"
    }
   ],
   "source": [
    "series_data.columns"
   ]
  },
  {
   "cell_type": "code",
   "execution_count": 45,
   "metadata": {},
   "outputs": [],
   "source": [
    "# Index(['PatientSerNum', 'AppointmentSerNum',  \n",
    "#        'ScheduledStartTime', 'ScheduledEndTime', \n",
    "#        'ActualStartDate', 'ActualEndDate',\n",
    "#        'CourseSerNum', 'PlanSerNum', 'RadiationSerNum'\n",
    "\n",
    "feature_num = ['Scheduled_duration', 'Actual_duration', 'Actual_duration',\n",
    "               'age', 'TreatmentTime_total', 'ImagesTaken_total',\n",
    "               'MU_total', 'MUCoeff_total']\n",
    "\n",
    "feature_cate = ['dxt_AliasName', 'Sex', 'AliasSerNum', \n",
    "                'month', 'week', 'hour', 'DoctorSerNum', \n",
    "                'TreatmentOrientation', 'FractionNumber',\n",
    "                'UserName', 'RadiationId', 'CourseId', 'ResourceSerNum']\n",
    "\n",
    "# 因为数据缺失，所以添加新特征，表示是否是连续的序列"
   ]
  },
  {
   "cell_type": "code",
   "execution_count": null,
   "metadata": {},
   "outputs": [],
   "source": [
    "data_cate = series_data[feature_cate]\n",
    "data_num = series_data[feature_num]\n",
    "\n"
   ]
  },
  {
   "cell_type": "code",
   "execution_count": 47,
   "metadata": {},
   "outputs": [],
   "source": [
    "label_encoder = preprocessing.LabelEncoder()\n",
    "onehot_encoder = preprocessing.OneHotEncoder()# sparse = False"
   ]
  },
  {
   "cell_type": "code",
   "execution_count": 53,
   "metadata": {},
   "outputs": [
    {
     "name": "stdout",
     "output_type": "stream",
     "text": [
      "The shape of encode_data is (13254, 13)\n"
     ]
    }
   ],
   "source": [
    "data1 = data_part1.iloc[: 10000]\n",
    "data2 = data_part2.iloc[: 10000]\n",
    "\n",
    "encode_data = pd.merge(data1, data2, on = ['PatientSerNum', 'date'], how = 'inner')\n",
    "encode_data.sort_values(by = ['PatientSerNum', 'AppointmentSerNum', 'ScheduledStartTime', 'FractionNumber'], inplace = True)\n",
    "encode_data = encode_data[feature_cate]\n",
    "print(f'The shape of encode_data is {encode_data.shape}')"
   ]
  },
  {
   "cell_type": "code",
   "execution_count": 54,
   "metadata": {},
   "outputs": [
    {
     "data": {
      "text/plain": [
       "array([1, 1, 1, ..., 0, 0, 0])"
      ]
     },
     "execution_count": 54,
     "metadata": {},
     "output_type": "execute_result"
    }
   ],
   "source": [
    "integer_encoded = label_encoder.fit_transform(encode_data.Sex)\n",
    "integer_encoded"
   ]
  },
  {
   "cell_type": "code",
   "execution_count": 58,
   "metadata": {},
   "outputs": [
    {
     "name": "stdout",
     "output_type": "stream",
     "text": [
      "['Male']\n"
     ]
    }
   ],
   "source": [
    "inverted = label_encoder.inverse_transform([np.argmax(onehot_encoded[0, :])])\n",
    "print(inverted)"
   ]
  },
  {
   "cell_type": "code",
   "execution_count": 56,
   "metadata": {},
   "outputs": [
    {
     "name": "stderr",
     "output_type": "stream",
     "text": [
      "C:\\Users\\WENDY\\Anaconda3\\lib\\site-packages\\sklearn\\preprocessing\\_encoders.py:414: FutureWarning: The handling of integer data will change in version 0.22. Currently, the categories are determined based on the range [0, max(values)], while in the future they will be determined based on the unique values.\n",
      "If you want the future behaviour and silence this warning, you can specify \"categories='auto'\".\n",
      "In case you used a LabelEncoder before this OneHotEncoder to convert the categories to integers, then you can now use the OneHotEncoder directly.\n",
      "  warnings.warn(msg, FutureWarning)\n"
     ]
    },
    {
     "data": {
      "text/plain": [
       "<13254x2 sparse matrix of type '<class 'numpy.float64'>'\n",
       "\twith 13254 stored elements in Compressed Sparse Row format>"
      ]
     },
     "execution_count": 56,
     "metadata": {},
     "output_type": "execute_result"
    }
   ],
   "source": [
    "# one-hot encode\n",
    "integer_encoded = integer_encoded.reshape(len(integer_encoded), 1)\n",
    "onehot_encoded = onehot_encoder.fit_transform(integer_encoded)\n",
    "onehot_encoded"
   ]
  },
  {
   "cell_type": "code",
   "execution_count": null,
   "metadata": {},
   "outputs": [],
   "source": []
  }
 ],
 "metadata": {
  "kernelspec": {
   "display_name": "Python 3",
   "language": "python",
   "name": "python3"
  },
  "language_info": {
   "codemirror_mode": {
    "name": "ipython",
    "version": 3
   },
   "file_extension": ".py",
   "mimetype": "text/x-python",
   "name": "python",
   "nbconvert_exporter": "python",
   "pygments_lexer": "ipython3",
   "version": "3.7.3"
  }
 },
 "nbformat": 4,
 "nbformat_minor": 2
}
