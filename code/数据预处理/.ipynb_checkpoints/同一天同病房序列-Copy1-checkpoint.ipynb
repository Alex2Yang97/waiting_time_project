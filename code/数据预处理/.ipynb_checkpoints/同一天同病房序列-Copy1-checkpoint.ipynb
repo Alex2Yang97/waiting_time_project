{
 "cells": [
  {
   "cell_type": "code",
   "execution_count": 100,
   "metadata": {},
   "outputs": [],
   "source": [
    "import pymysql\n",
    "import pandas as pd\n",
    "import numpy as np\n",
    "from sklearn import preprocessing\n",
    "from sklearn.utils import shuffle\n",
    "import datetime\n",
    "import time\n",
    "import warnings\n",
    "warnings.filterwarnings(\"ignore\")\n",
    "import sys\n",
    "sys.path.append(r'D:\\jupyter files\\waiting_time_project\\my_tools')\n",
    "import tools_for_os.for_df as ml_df"
   ]
  },
  {
   "cell_type": "code",
   "execution_count": 107,
   "metadata": {},
   "outputs": [],
   "source": [
    "# 把字符串转成datetime\n",
    "def str_to_Datetime(st):\n",
    "    dt = datetime.datetime.strptime(st, \"%Y-%m-%d %H:%M:%S\")\n",
    "    return dt\n",
    "\n",
    "# 把datetime 转成字符串\n",
    "def Datetime_to_str(d):\n",
    "    str_date = d.strftime('%Y-%m-%d %H:%M:%S')\n",
    "    return str_date\n",
    "\n",
    "# 计算时间差\n",
    "def cal_time_inv(before, now):\n",
    "    before = str_to_Datetime(before)\n",
    "    now = str_to_Datetime(now)\n",
    "    if now > before:\n",
    "        inv = (now - before).seconds\n",
    "        return inv\n",
    "    else:\n",
    "        return -1"
   ]
  },
  {
   "cell_type": "markdown",
   "metadata": {},
   "source": [
    "========================================================="
   ]
  },
  {
   "cell_type": "markdown",
   "metadata": {},
   "source": [
    "#### 这一部分的数据与处理和治疗时长预测的预处理相同"
   ]
  },
  {
   "cell_type": "markdown",
   "metadata": {},
   "source": [
    "都需要将同一个appointment 里面的特征合并，同时将分类变量进行编码"
   ]
  },
  {
   "cell_type": "code",
   "execution_count": 13,
   "metadata": {},
   "outputs": [
    {
     "name": "stderr",
     "output_type": "stream",
     "text": [
      "C:\\Users\\WENDY\\Anaconda3\\lib\\site-packages\\numpy\\lib\\arraysetops.py:569: FutureWarning: elementwise comparison failed; returning scalar instead, but in the future will perform elementwise comparison\n",
      "  mask |= (ar1 == a)\n"
     ]
    },
    {
     "name": "stdout",
     "output_type": "stream",
     "text": [
      "The shape of data is (1788434, 35)\n"
     ]
    }
   ],
   "source": [
    "data_path = 'D:\\\\jupyter files\\\\data_waiting_time_project\\\\preprocess_data\\\\'\n",
    "\n",
    "data_part1 = pd.read_csv(data_path + 'data_part1.csv', index_col = 0)\n",
    "data_part2 = pd.read_csv(data_path + 'data_part2.csv', index_col = 0)\n",
    "\n",
    "DATA = pd.merge(data_part1, data_part2, on = ['PatientSerNum', 'date'], how = 'inner')\n",
    "DATA.sort_values(by = ['PatientSerNum', 'AppointmentSerNum', 'ScheduledStartTime', 'FractionNumber'], inplace = True)\n",
    "print(f'The shape of data is {DATA.shape}')"
   ]
  },
  {
   "cell_type": "code",
   "execution_count": 14,
   "metadata": {},
   "outputs": [],
   "source": [
    "feature_num = ['Scheduled_duration', 'Actual_duration',\n",
    "               'age', 'TreatmentTime_total', 'ImagesTaken_total',\n",
    "               'MU_total', 'MUCoeff_total', 'Interval_scheduled']\n",
    "\n",
    "# RadiationId\n",
    "feature_cate = ['dxt_AliasName', 'Sex', 'AliasSerNum',\n",
    "                'month', 'week', 'hour', 'DoctorSerNum', \n",
    "                'TreatmentOrientation', 'FractionNumber',\n",
    "                'UserName', 'CourseId', 'ResourceSerNum']"
   ]
  },
  {
   "cell_type": "code",
   "execution_count": 15,
   "metadata": {},
   "outputs": [],
   "source": [
    "# 因为需要进行onehot encoding，所以在拼接数据之前，先进行数据格式的处理\n",
    "for col in feature_cate:\n",
    "    try:\n",
    "        data_part1[col].fillna('Unknown', inplace = True)\n",
    "        data_part1[col] = data_part1[col].astype(str)\n",
    "    except:\n",
    "        pass\n",
    "    \n",
    "    try:\n",
    "        data_part2[col].fillna('Unknown', inplace = True)\n",
    "        data_part2[col] = data_part2[col].astype(str)\n",
    "    except:\n",
    "        pass\n",
    "\n",
    "for col in feature_num:\n",
    "    try:\n",
    "        data_part1.fillna(0, inplace = True)\n",
    "    except:\n",
    "        pass\n",
    "    try:\n",
    "        data_part2.fillna(0, inplace = True)\n",
    "    except:\n",
    "        pass\n",
    "    \n",
    "# data_num = log1p(data_num)"
   ]
  },
  {
   "cell_type": "code",
   "execution_count": 16,
   "metadata": {},
   "outputs": [
    {
     "data": {
      "text/plain": [
       "OneHotEncoder(categorical_features=None, categories=None, drop=None,\n",
       "              dtype=<class 'numpy.float64'>, handle_unknown='ignore',\n",
       "              n_values=None, sparse=False)"
      ]
     },
     "execution_count": 16,
     "metadata": {},
     "output_type": "execute_result"
    }
   ],
   "source": [
    "# one hot encoder\n",
    "label_encoder_dxt_AliasName = preprocessing.OneHotEncoder(handle_unknown = 'ignore', sparse = False)\n",
    "label_encoder_dxt_AliasName.fit(data_part1.dxt_AliasName.values.reshape(-1, 1))\n",
    "\n",
    "label_encoder_Sex = preprocessing.OneHotEncoder(handle_unknown = 'ignore', sparse = False)\n",
    "label_encoder_Sex.fit(data_part1.Sex.values.reshape(-1, 1))\n",
    "\n",
    "label_encoder_AliasSerNum = preprocessing.OneHotEncoder(handle_unknown = 'ignore', sparse = False)\n",
    "label_encoder_AliasSerNum.fit(data_part1.AliasSerNum.values.reshape(-1, 1))\n",
    "\n",
    "label_encoder_month = preprocessing.OneHotEncoder(handle_unknown = 'ignore', sparse = False)\n",
    "label_encoder_month.fit(data_part1.month.values.reshape(-1, 1))\n",
    "\n",
    "label_encoder_week = preprocessing.OneHotEncoder(handle_unknown = 'ignore', sparse = False)\n",
    "label_encoder_week.fit(data_part1.week.values.reshape(-1, 1))\n",
    "\n",
    "label_encoder_hour = preprocessing.OneHotEncoder(handle_unknown = 'ignore', sparse = False)\n",
    "label_encoder_hour.fit(data_part1.hour.values.reshape(-1, 1))\n",
    "\n",
    "label_encoder_DoctorSerNum = preprocessing.OneHotEncoder(handle_unknown = 'ignore', sparse = False)\n",
    "label_encoder_DoctorSerNum.fit(data_part1.DoctorSerNum.values.reshape(-1, 1))\n",
    "\n",
    "label_encoder_TreatmentOrientation = preprocessing.OneHotEncoder(handle_unknown = 'ignore', sparse = False)\n",
    "label_encoder_TreatmentOrientation.fit(data_part1.TreatmentOrientation.values.reshape(-1, 1))\n",
    "\n",
    "label_encoder_FractionNumber = preprocessing.OneHotEncoder(handle_unknown = 'ignore', sparse = False)\n",
    "label_encoder_FractionNumber.fit(data_part2.FractionNumber.values.reshape(-1, 1))\n",
    "\n",
    "label_encoder_UserName = preprocessing.OneHotEncoder(handle_unknown = 'ignore', sparse = False)\n",
    "label_encoder_UserName.fit(data_part2.UserName.values.reshape(-1, 1))\n",
    "\n",
    "label_encoder_CourseId = preprocessing.OneHotEncoder(handle_unknown = 'ignore', sparse = False)\n",
    "label_encoder_CourseId.fit(data_part2.CourseId.values.reshape(-1, 1))\n",
    "\n",
    "label_encoder_ResourceSerNum = preprocessing.OneHotEncoder(handle_unknown = 'ignore', sparse = False)\n",
    "label_encoder_ResourceSerNum.fit(data_part2.ResourceSerNum.values.reshape(-1, 1))"
   ]
  },
  {
   "cell_type": "code",
   "execution_count": 18,
   "metadata": {},
   "outputs": [],
   "source": [
    "def get_list(x):\n",
    "    x = list(x)\n",
    "    if len(x) == 1:\n",
    "        return x[0]\n",
    "    else:\n",
    "        return x"
   ]
  },
  {
   "cell_type": "code",
   "execution_count": 19,
   "metadata": {
    "collapsed": true
   },
   "outputs": [
    {
     "name": "stdout",
     "output_type": "stream",
     "text": [
      "Start cateorical features\n",
      "\n",
      "Start PatientSerNum\n",
      "Start Sex\n",
      "Start DoctorSerNum\n",
      "Start date\n",
      "Start ScheduledStartTime\n",
      "Start ScheduledEndTime\n",
      "Start ActualStartDate\n",
      "Start ActualEndDate\n",
      "Start dxt_AliasName\n",
      "Start AliasSerNum\n",
      "Start CourseSerNum\n",
      "Start PlanSerNum\n",
      "Start TreatmentOrientation\n",
      "Start month\n",
      "Start week\n",
      "Start hour\n",
      "Start AppointmentSerNum\n",
      "Start numberical features\n",
      "\n",
      "Start age\n",
      "Start Scheduled_duration\n",
      "Start Actual_duration\n"
     ]
    }
   ],
   "source": [
    "new_appt = pd.DataFrame({})\n",
    "\n",
    "print('Start cateorical features')\n",
    "print('\\nStart PatientSerNum')\n",
    "new_appt['PatientSerNum'] = data_part1.groupby('AppointmentSerNum').PatientSerNum.apply(set)\n",
    "new_appt['PatientSerNum'] = new_appt['PatientSerNum'].apply(lambda x: get_list(x))\n",
    "\n",
    "print('Start Sex')\n",
    "new_appt['Sex'] = data_part1.groupby('AppointmentSerNum').Sex.apply(set)\n",
    "new_appt['Sex'] = new_appt['Sex'].apply(lambda x: get_list(x))\n",
    "\n",
    "print('Start DoctorSerNum')\n",
    "new_appt['DoctorSerNum'] = data_part1.groupby('AppointmentSerNum').DoctorSerNum.apply(set)\n",
    "new_appt['DoctorSerNum'] = new_appt['DoctorSerNum'].apply(lambda x: get_list(x))\n",
    "\n",
    "print('Start date')\n",
    "new_appt['date'] = data_part1.groupby('AppointmentSerNum').date.apply(set)\n",
    "new_appt['date'] = new_appt['date'].apply(lambda x: get_list(x))\n",
    "\n",
    "print('Start ScheduledStartTime')\n",
    "new_appt['ScheduledStartTime'] = data_part1.groupby('AppointmentSerNum').ScheduledStartTime.apply(set)\n",
    "new_appt['ScheduledStartTime'] = new_appt['ScheduledStartTime'].apply(lambda x: get_list(x))\n",
    "\n",
    "print('Start ScheduledEndTime')\n",
    "new_appt['ScheduledEndTime'] = data_part1.groupby('AppointmentSerNum').ScheduledEndTime.apply(set)\n",
    "new_appt['ScheduledEndTime'] = new_appt['ScheduledEndTime'].apply(lambda x: get_list(x))\n",
    "\n",
    "print('Start ActualStartDate')\n",
    "new_appt['ActualStartDate'] = data_part1.groupby('AppointmentSerNum').ActualStartDate.apply(set)\n",
    "new_appt['ActualStartDate'] = new_appt['ActualStartDate'].apply(lambda x: get_list(x))\n",
    "\n",
    "print('Start ActualEndDate')\n",
    "new_appt['ActualEndDate'] = data_part1.groupby('AppointmentSerNum').ActualEndDate.apply(set)\n",
    "new_appt['ActualEndDate'] = new_appt['ActualEndDate'].apply(lambda x: get_list(x))\n",
    "\n",
    "print('Start dxt_AliasName')\n",
    "new_appt['dxt_AliasName'] = data_part1.groupby('AppointmentSerNum').dxt_AliasName.apply(set)\n",
    "new_appt['dxt_AliasName'] = new_appt['dxt_AliasName'].apply(lambda x: get_list(x))\n",
    "\n",
    "print('Start AliasSerNum')\n",
    "new_appt['AliasSerNum'] = data_part1.groupby('AppointmentSerNum').AliasSerNum.apply(set)\n",
    "new_appt['AliasSerNum'] = new_appt['AliasSerNum'].apply(lambda x: get_list(x))\n",
    "\n",
    "print('Start CourseSerNum')\n",
    "new_appt['CourseSerNum'] = data_part1.groupby('AppointmentSerNum').CourseSerNum.apply(set)\n",
    "new_appt['CourseSerNum'] = new_appt['CourseSerNum'].apply(lambda x: get_list(x))\n",
    "\n",
    "print('Start PlanSerNum')\n",
    "new_appt['PlanSerNum'] = data_part1.groupby('AppointmentSerNum').PlanSerNum.apply(set)\n",
    "new_appt['PlanSerNum'] = new_appt['PlanSerNum'].apply(lambda x: get_list(x))\n",
    "\n",
    "print('Start TreatmentOrientation')\n",
    "new_appt['TreatmentOrientation'] = data_part1.groupby('AppointmentSerNum').TreatmentOrientation.apply(set)\n",
    "new_appt['TreatmentOrientation'] = new_appt['TreatmentOrientation'].apply(lambda x: get_list(x))\n",
    "\n",
    "print('Start month')\n",
    "new_appt['month'] = data_part1.groupby('AppointmentSerNum').month.apply(set)\n",
    "new_appt['month'] = new_appt['month'].apply(lambda x: get_list(x))\n",
    "\n",
    "print('Start week')\n",
    "new_appt['week'] = data_part1.groupby('AppointmentSerNum').week.apply(set)\n",
    "new_appt['week'] = new_appt['week'].apply(lambda x: get_list(x))\n",
    "\n",
    "print('Start hour')\n",
    "new_appt['hour'] = data_part1.groupby('AppointmentSerNum').hour.apply(set)\n",
    "new_appt['hour'] = new_appt['hour'].apply(lambda x: get_list(x))\n",
    "\n",
    "print('Start AppointmentSerNum')\n",
    "new_appt['AppointmentSerNum'] = new_appt.index.tolist()\n",
    "\n",
    "\n",
    "print('Start numberical features')\n",
    "print('\\nStart age')\n",
    "new_appt['age'] = data_part1.groupby('AppointmentSerNum').age.mean()\n",
    "\n",
    "print('Start Scheduled_duration')\n",
    "new_appt['Scheduled_duration'] = data_part1.groupby('AppointmentSerNum').Scheduled_duration.mean()\n",
    "\n",
    "print('Start Actual_duration')\n",
    "new_appt['Actual_duration'] = data_part1.groupby('AppointmentSerNum').Actual_duration.mean()"
   ]
  },
  {
   "cell_type": "code",
   "execution_count": 20,
   "metadata": {
    "collapsed": true
   },
   "outputs": [
    {
     "name": "stdout",
     "output_type": "stream",
     "text": [
      "Start categorical features\n",
      "\n",
      "Start FractionNumber\n",
      "Start UserName\n",
      "Start RadiationSerNum\n",
      "Start RadiationId\n",
      "Start ResourceSerNum\n",
      "Start CourseId\n",
      "Start PatientSerNum\n",
      "Start date\n",
      "Start numberical features\n",
      "\n",
      "Start ImagesTaken_total\n",
      "Start MU_total\n",
      "Start MUCoeff_total\n",
      "Start TreatmentTime_total\n"
     ]
    }
   ],
   "source": [
    "new_treat = pd.DataFrame({})\n",
    "\n",
    "print('Start categorical features')\n",
    "print('\\nStart FractionNumber')\n",
    "new_treat['FractionNumber'] = data_part2.groupby(['PatientSerNum', 'date']).FractionNumber.apply(set)\n",
    "new_treat['FractionNumber'] = new_treat['FractionNumber'].apply(lambda x: get_list(x))\n",
    "\n",
    "print('Start UserName')\n",
    "new_treat['UserName'] = data_part2.groupby(['PatientSerNum', 'date']).UserName.apply(set)\n",
    "new_treat['UserName'] = new_treat['UserName'].apply(lambda x: get_list(x))\n",
    "\n",
    "print('Start RadiationSerNum')\n",
    "new_treat['RadiationSerNum'] = data_part2.groupby(['PatientSerNum', 'date']).RadiationSerNum.apply(set)\n",
    "new_treat['RadiationSerNum'] = new_treat['RadiationSerNum'].apply(lambda x: get_list(x))\n",
    "\n",
    "print('Start RadiationId')\n",
    "new_treat['RadiationId'] = data_part2.groupby(['PatientSerNum', 'date']).RadiationId.apply(set)\n",
    "new_treat['RadiationId'] = new_treat['RadiationId'].apply(lambda x: get_list(x))\n",
    "\n",
    "# print('Start ResourceSerNum')\n",
    "# new_treat['ResourceSerNum'] = data_part2.groupby(['PatientSerNum', 'date']).ResourceSerNum.apply(set)\n",
    "# new_treat['ResourceSerNum'] = new_treat['ResourceSerNum'].apply(lambda x: get_list(x))\n",
    "\n",
    "print('Start CourseId')\n",
    "new_treat['CourseId'] = data_part2.groupby(['PatientSerNum', 'date']).CourseId.apply(set)\n",
    "new_treat['CourseId'] = new_treat['CourseId'].apply(lambda x: get_list(x))\n",
    "\n",
    "print('Start PatientSerNum')\n",
    "new_treat['PatientSerNum'] = new_treat.index.get_level_values(level = 0).tolist()\n",
    "\n",
    "print('Start date')\n",
    "new_treat['date'] = new_treat.index.get_level_values(level = 1).tolist()\n",
    "\n",
    "\n",
    "print('Start numberical features')\n",
    "print('\\nStart ImagesTaken_total')\n",
    "new_treat['ImagesTaken_total'] = data_part2.groupby(['PatientSerNum', 'date']).ImagesTaken.sum()\n",
    "\n",
    "print('Start MU_total')\n",
    "new_treat['MU_total'] = data_part2.groupby(['PatientSerNum', 'date']).MU.sum()\n",
    "\n",
    "print('Start MUCoeff_total')\n",
    "new_treat['MUCoeff_total'] = data_part2.groupby(['PatientSerNum', 'date']).MUCoeff.sum()\n",
    "\n",
    "print('Start TreatmentTime_total')\n",
    "new_treat['TreatmentTime_total'] = data_part2.groupby(['PatientSerNum', 'date']).TreatmentTime.sum()"
   ]
  },
  {
   "cell_type": "code",
   "execution_count": 52,
   "metadata": {},
   "outputs": [],
   "source": [
    "new_treat.drop('ResourceSerNum', axis = 1, inplace = True)"
   ]
  },
  {
   "cell_type": "code",
   "execution_count": 56,
   "metadata": {},
   "outputs": [
    {
     "name": "stdout",
     "output_type": "stream",
     "text": [
      "The shape of new_appt is (321034, 20)\n",
      "The shape of new_treat is (142974, 11)\n",
      "The shape of data is (139944, 29)\n"
     ]
    }
   ],
   "source": [
    "new_appt.reset_index(drop = True, inplace = True)\n",
    "new_treat.reset_index(drop = True, inplace = True)\n",
    "\n",
    "print(f'The shape of new_appt is {new_appt.shape}')\n",
    "print(f'The shape of new_treat is {new_treat.shape}')\n",
    "\n",
    "DATA = pd.merge(new_appt, new_treat, on = ['PatientSerNum', 'date'], how = 'inner')\n",
    "DATA.sort_values(by = ['PatientSerNum', 'AppointmentSerNum', 'ScheduledStartTime'], inplace = True)\n",
    "print(f'The shape of data is {DATA.shape}')"
   ]
  },
  {
   "cell_type": "code",
   "execution_count": 57,
   "metadata": {},
   "outputs": [
    {
     "name": "stdout",
     "output_type": "stream",
     "text": [
      "The shape of data is (158312, 30)\n"
     ]
    }
   ],
   "source": [
    "DATA = pd.merge(DATA, data_re_appt[['AppointmentSerNum', 'ResourceSerNum']], on = 'AppointmentSerNum', how = 'inner')\n",
    "print(f'The shape of data is {DATA.shape}')"
   ]
  },
  {
   "cell_type": "code",
   "execution_count": 58,
   "metadata": {},
   "outputs": [
    {
     "name": "stdout",
     "output_type": "stream",
     "text": [
      "The shape of data is (158312, 30)\n",
      "The shape of data is (143900, 30)\n"
     ]
    }
   ],
   "source": [
    "print(f'The shape of data is {DATA.shape}')\n",
    "DATA_ = DATA[(DATA.Actual_duration >= 10) &\n",
    "             (DATA.Actual_duration <= 60)]\n",
    "print(f'The shape of data is {DATA_.shape}')"
   ]
  },
  {
   "cell_type": "markdown",
   "metadata": {},
   "source": [
    "========================================================="
   ]
  },
  {
   "cell_type": "code",
   "execution_count": 5,
   "metadata": {},
   "outputs": [
    {
     "name": "stdout",
     "output_type": "stream",
     "text": [
      "The shape of data_resource (477, 6)\n",
      "The shape of data_re_appt (475920, 7)\n",
      "The shape of data_appt (1074478, 17)\n",
      "The shape of data_pl (206855, 9)\n",
      "The shape of data_plmh (2333039, 10)\n"
     ]
    }
   ],
   "source": [
    "sql_re = \"\"\"SELECT * FROM resource\"\"\"\n",
    "data_re_ = ml_df.get_df_from_sql(sql_re)\n",
    "print(f'The shape of data_resource {data_re_.shape}')\n",
    "sql_re_appt = \"\"\"SELECT * FROM resourceappointment\"\"\"\n",
    "data_re_appt_ = ml_df.get_df_from_sql(sql_re_appt)\n",
    "print(f'The shape of data_re_appt {data_re_appt_.shape}')\n",
    "sql_appt = \"\"\"SELECT * FROM appointment\"\"\"\n",
    "data_appt_ = ml_df.get_df_from_sql(sql_appt)\n",
    "print(f'The shape of data_appt {data_appt_.shape}')\n",
    "sql_pl = \"\"\"SELECT * FROM patientlocation\"\"\"\n",
    "data_pl_ = ml_df.get_df_from_sql(sql_pl)\n",
    "print(f'The shape of data_pl {data_pl_.shape}')\n",
    "sql_plmh = \"\"\"SELECT * FROM patientlocationmh\"\"\"\n",
    "data_plmh_ = ml_df.get_df_from_sql(sql_plmh)\n",
    "print(f'The shape of data_plmh {data_plmh_.shape}')"
   ]
  },
  {
   "cell_type": "code",
   "execution_count": 6,
   "metadata": {},
   "outputs": [
    {
     "name": "stdout",
     "output_type": "stream",
     "text": [
      "Drop columns\n"
     ]
    }
   ],
   "source": [
    "try:\n",
    "    print('Drop columns')\n",
    "    data_appt_.drop(columns = ['LastUpdated'], inplace = True)\n",
    "    data_re_.drop(columns = ['LastUpdated'], inplace = True)\n",
    "    data_re_appt_.drop('LastUpdated', axis = 1, inplace = True)\n",
    "    data_pl_.drop(columns = ['LastUpdated'], inplace = True)\n",
    "    data_plmh_.drop(columns = ['LastUpdated'], inplace = True)\n",
    "except:\n",
    "    print('Finish droppping columns')"
   ]
  },
  {
   "cell_type": "code",
   "execution_count": 7,
   "metadata": {},
   "outputs": [],
   "source": [
    "data_re = data_re_.copy()\n",
    "data_re_appt = data_re_appt_.copy()\n",
    "data_appt = data_appt_.copy()\n",
    "data_pl = data_pl_.copy()\n",
    "data_plmh = data_plmh_.copy()"
   ]
  },
  {
   "cell_type": "code",
   "execution_count": 8,
   "metadata": {
    "scrolled": false
   },
   "outputs": [
    {
     "name": "stdout",
     "output_type": "stream",
     "text": [
      "The shape of data_appt (1074478, 16)\n",
      "The shape of data_appt (370299, 16)\n",
      "Merge data_appt and data_re_appt\n",
      "The shape of appt_re_appt (165512, 20)\n",
      "\n",
      "Merge data_re\n",
      "The shape of appt_loc (165512, 23)\n",
      "\n",
      "Merge data_pl\n",
      "The shape of appt_loc_pl (165512, 29)\n",
      "\n",
      "Get Treat_Date\n",
      "The shape of room_infomation (165512, 8)\n"
     ]
    },
    {
     "data": {
      "text/html": [
       "<div>\n",
       "<style scoped>\n",
       "    .dataframe tbody tr th:only-of-type {\n",
       "        vertical-align: middle;\n",
       "    }\n",
       "\n",
       "    .dataframe tbody tr th {\n",
       "        vertical-align: top;\n",
       "    }\n",
       "\n",
       "    .dataframe thead th {\n",
       "        text-align: right;\n",
       "    }\n",
       "</style>\n",
       "<table border=\"1\" class=\"dataframe\">\n",
       "  <thead>\n",
       "    <tr style=\"text-align: right;\">\n",
       "      <th></th>\n",
       "      <th>AppointmentSerNum</th>\n",
       "      <th>PatientSerNum</th>\n",
       "      <th>AliasExpressionSerNum</th>\n",
       "      <th>ScheduledStartTime</th>\n",
       "      <th>ScheduledEndTime</th>\n",
       "      <th>ActualStartDate</th>\n",
       "      <th>ActualEndDate</th>\n",
       "      <th>ResourceSerNum</th>\n",
       "    </tr>\n",
       "  </thead>\n",
       "  <tbody>\n",
       "    <tr>\n",
       "      <th>0</th>\n",
       "      <td>849926</td>\n",
       "      <td>38996</td>\n",
       "      <td>1505</td>\n",
       "      <td>2015-10-19 14:00:00</td>\n",
       "      <td>2015-10-19 14:15:00</td>\n",
       "      <td>2015-10-19 14:18:00</td>\n",
       "      <td>2015-10-19 14:34:00</td>\n",
       "      <td>176</td>\n",
       "    </tr>\n",
       "    <tr>\n",
       "      <th>1</th>\n",
       "      <td>849927</td>\n",
       "      <td>38996</td>\n",
       "      <td>1505</td>\n",
       "      <td>2015-10-20 13:45:00</td>\n",
       "      <td>2015-10-20 14:00:00</td>\n",
       "      <td>2015-10-20 13:32:00</td>\n",
       "      <td>2015-10-20 13:48:00</td>\n",
       "      <td>177</td>\n",
       "    </tr>\n",
       "    <tr>\n",
       "      <th>2</th>\n",
       "      <td>849928</td>\n",
       "      <td>38996</td>\n",
       "      <td>1505</td>\n",
       "      <td>2015-10-21 15:30:00</td>\n",
       "      <td>2015-10-21 15:45:00</td>\n",
       "      <td>2015-10-21 14:57:00</td>\n",
       "      <td>2015-10-21 15:07:00</td>\n",
       "      <td>176</td>\n",
       "    </tr>\n",
       "    <tr>\n",
       "      <th>3</th>\n",
       "      <td>849929</td>\n",
       "      <td>38996</td>\n",
       "      <td>1505</td>\n",
       "      <td>2015-10-22 14:00:00</td>\n",
       "      <td>2015-10-22 14:15:00</td>\n",
       "      <td>2015-10-22 13:51:00</td>\n",
       "      <td>2015-10-22 13:59:00</td>\n",
       "      <td>176</td>\n",
       "    </tr>\n",
       "    <tr>\n",
       "      <th>4</th>\n",
       "      <td>849930</td>\n",
       "      <td>38996</td>\n",
       "      <td>1505</td>\n",
       "      <td>2015-10-23 13:00:00</td>\n",
       "      <td>2015-10-23 13:15:00</td>\n",
       "      <td>2015-10-23 12:52:00</td>\n",
       "      <td>2015-10-23 13:01:00</td>\n",
       "      <td>176</td>\n",
       "    </tr>\n",
       "  </tbody>\n",
       "</table>\n",
       "</div>"
      ],
      "text/plain": [
       "   AppointmentSerNum  PatientSerNum  AliasExpressionSerNum  \\\n",
       "0             849926          38996                   1505   \n",
       "1             849927          38996                   1505   \n",
       "2             849928          38996                   1505   \n",
       "3             849929          38996                   1505   \n",
       "4             849930          38996                   1505   \n",
       "\n",
       "    ScheduledStartTime     ScheduledEndTime      ActualStartDate  \\\n",
       "0  2015-10-19 14:00:00  2015-10-19 14:15:00  2015-10-19 14:18:00   \n",
       "1  2015-10-20 13:45:00  2015-10-20 14:00:00  2015-10-20 13:32:00   \n",
       "2  2015-10-21 15:30:00  2015-10-21 15:45:00  2015-10-21 14:57:00   \n",
       "3  2015-10-22 14:00:00  2015-10-22 14:15:00  2015-10-22 13:51:00   \n",
       "4  2015-10-23 13:00:00  2015-10-23 13:15:00  2015-10-23 12:52:00   \n",
       "\n",
       "         ActualEndDate  ResourceSerNum  \n",
       "0  2015-10-19 14:34:00             176  \n",
       "1  2015-10-20 13:48:00             177  \n",
       "2  2015-10-21 15:07:00             176  \n",
       "3  2015-10-22 13:59:00             176  \n",
       "4  2015-10-23 13:01:00             176  "
      ]
     },
     "execution_count": 8,
     "metadata": {},
     "output_type": "execute_result"
    }
   ],
   "source": [
    "print(f'The shape of data_appt {data_appt.shape}')\n",
    "data_appt = data_appt[\n",
    "    (data_appt.ActualStartDate != datetime.datetime(1970, 1, 1, 0, 0)) &\n",
    "    (data_appt.ActualEndDate != datetime.datetime(1970, 1, 1, 0, 0)) &\n",
    "    (data_appt.ActualStartDate != '0000-00-00 00:00:00')]\n",
    "print(f'The shape of data_appt {data_appt.shape}')\n",
    "\n",
    "# 已经检查过，一个Appointment 里面只有一个AliasSerNum\n",
    "# 一个AliasSerNum 对应多个ResourceSerNum\n",
    "# 一个ResourceSerNum 对应多个AppointmentSerNum\n",
    "print('Merge data_appt and data_re_appt')\n",
    "appt_re_appt = pd.merge(data_appt, data_re_appt, on = ['AppointmentSerNum', 'AliasSerNum'], how = 'inner')\n",
    "print(f'The shape of appt_re_appt {appt_re_appt.shape}')\n",
    "appt_re_appt.drop('AliasSerNum', axis = 1, inplace = True)\n",
    "\n",
    "print('\\nMerge data_re')\n",
    "appt_loc = pd.merge(data_re, appt_re_appt, on = ['ResourceSerNum'], how = 'inner')\n",
    "print(f'The shape of appt_loc {appt_loc.shape}')\n",
    "\n",
    "print('\\nMerge data_pl')\n",
    "data_pl.drop('AliasSerNum', axis = 1, inplace = True)\n",
    "appt_loc_pl = pd.merge(data_pl, appt_loc, on = ['AppointmentSerNum'], how = 'right')\n",
    "print(f'The shape of appt_loc_pl {appt_loc_pl.shape}')\n",
    "\n",
    "print('\\nGet Treat_Date')\n",
    "appt_loc_pl['Treat_Date'] = appt_loc_pl.apply(lambda x: x.ActualStartDate.strftime(\"%Y-%m-%d\"), axis = 1)\n",
    "\n",
    "appt_loc_pl = appt_loc_pl[[\n",
    "    'AppointmentSerNum', 'PatientSerNum', 'AliasExpressionSerNum',\n",
    "    'ScheduledStartTime', 'ScheduledEndTime',\n",
    "    'ActualStartDate', 'ActualEndDate',\n",
    "    'ResourceSerNum']]\n",
    "print(f'The shape of room_infomation {appt_loc_pl.shape}')\n",
    "appt_loc_pl.head()"
   ]
  },
  {
   "cell_type": "code",
   "execution_count": 59,
   "metadata": {},
   "outputs": [
    {
     "name": "stdout",
     "output_type": "stream",
     "text": [
      "The shape of room_infomation (143964, 31)\n"
     ]
    }
   ],
   "source": [
    "appt_loc_pl = appt_loc_pl[[\n",
    "    'AppointmentSerNum', 'PatientSerNum', 'AliasExpressionSerNum', 'ScheduledStartTime', 'ResourceSerNum']]\n",
    "# appt_loc_pl['ScheduledStartTime'] = appt_loc_pl['ScheduledStartTime'].apply(lambda x: Datetime_to_str(x))\n",
    "\n",
    "room_info = pd.merge(appt_loc_pl, DATA_, \n",
    "                     on = ['PatientSerNum', 'AppointmentSerNum', 'ScheduledStartTime', 'ResourceSerNum'], how = 'inner')\n",
    "print(f'The shape of room_infomation {room_info.shape}')"
   ]
  },
  {
   "cell_type": "code",
   "execution_count": 60,
   "metadata": {},
   "outputs": [
    {
     "data": {
      "text/plain": [
       "Index(['AppointmentSerNum', 'PatientSerNum', 'AliasExpressionSerNum',\n",
       "       'ScheduledStartTime', 'ResourceSerNum', 'Sex', 'DoctorSerNum', 'date',\n",
       "       'ScheduledEndTime', 'ActualStartDate', 'ActualEndDate', 'dxt_AliasName',\n",
       "       'AliasSerNum', 'CourseSerNum', 'PlanSerNum', 'TreatmentOrientation',\n",
       "       'month', 'week', 'hour', 'age', 'Scheduled_duration', 'Actual_duration',\n",
       "       'FractionNumber', 'UserName', 'RadiationSerNum', 'RadiationId',\n",
       "       'CourseId', 'ImagesTaken_total', 'MU_total', 'MUCoeff_total',\n",
       "       'TreatmentTime_total'],\n",
       "      dtype='object')"
      ]
     },
     "execution_count": 60,
     "metadata": {},
     "output_type": "execute_result"
    }
   ],
   "source": [
    "room_info.columns"
   ]
  },
  {
   "cell_type": "code",
   "execution_count": 61,
   "metadata": {},
   "outputs": [
    {
     "data": {
      "text/plain": [
       "dict_keys([145, 175, 176, 177, 178, 179, 180, 237, 281, 293, 301, 303, 304, 310, 359, 363, 365, 366, 369, 370, 371, 373, 391, 406, 416, 437, 666, 672, 697])"
      ]
     },
     "execution_count": 61,
     "metadata": {},
     "output_type": "execute_result"
    }
   ],
   "source": [
    "room_info_grouped = room_info.groupby(['ResourceSerNum', 'date'])\n",
    "room_info_grouped.groups.keys()"
   ]
  },
  {
   "cell_type": "code",
   "execution_count": 62,
   "metadata": {},
   "outputs": [
    {
     "data": {
      "text/plain": [
       "(20563, 31)"
      ]
     },
     "execution_count": 62,
     "metadata": {},
     "output_type": "execute_result"
    }
   ],
   "source": [
    "sample = room_info_grouped.get_group(175)\n",
    "sample.shape"
   ]
  },
  {
   "cell_type": "code",
   "execution_count": 65,
   "metadata": {},
   "outputs": [
    {
     "data": {
      "text/plain": [
       "Index(['AppointmentSerNum', 'PatientSerNum', 'AliasExpressionSerNum',\n",
       "       'ScheduledStartTime', 'ResourceSerNum', 'Sex', 'DoctorSerNum', 'date',\n",
       "       'ScheduledEndTime', 'ActualStartDate', 'ActualEndDate', 'dxt_AliasName',\n",
       "       'AliasSerNum', 'CourseSerNum', 'PlanSerNum', 'TreatmentOrientation',\n",
       "       'month', 'week', 'hour', 'age', 'Scheduled_duration', 'Actual_duration',\n",
       "       'FractionNumber', 'UserName', 'RadiationSerNum', 'RadiationId',\n",
       "       'CourseId', 'ImagesTaken_total', 'MU_total', 'MUCoeff_total',\n",
       "       'TreatmentTime_total'],\n",
       "      dtype='object')"
      ]
     },
     "execution_count": 65,
     "metadata": {},
     "output_type": "execute_result"
    }
   ],
   "source": [
    "sample.columns"
   ]
  },
  {
   "cell_type": "code",
   "execution_count": 76,
   "metadata": {},
   "outputs": [
    {
     "data": {
      "text/plain": [
       "dict_keys(['2015--06--15', '2015--06--16', '2015--06--17', '2015--06--18', '2015--06--19', '2015--06--22', '2015--06--23', '2015--06--25', '2015--06--26', '2015--06--29', '2015--06--30', '2015--07--02', '2015--07--03', '2015--07--06', '2015--07--07', '2015--07--08', '2015--07--09', '2015--07--10', '2015--07--13', '2015--07--14', '2015--07--15', '2015--07--16', '2015--07--17', '2015--07--20', '2015--07--21', '2015--07--22', '2015--07--23', '2015--07--24', '2015--07--27', '2015--07--28', '2015--07--29', '2015--07--30', '2015--07--31', '2015--08--01', '2015--08--04', '2015--08--05', '2015--08--06', '2015--08--07', '2015--08--10', '2015--08--11', '2015--08--12', '2015--08--13', '2015--08--14', '2015--08--17', '2015--08--18', '2015--08--19', '2015--08--20', '2015--08--21', '2015--08--24', '2015--08--25', '2015--08--26', '2015--08--27', '2015--08--28', '2015--08--31', '2015--09--01', '2015--09--02', '2015--09--03', '2015--09--04', '2015--09--08', '2015--09--09', '2015--09--10', '2015--09--11', '2015--09--14', '2015--09--15', '2015--09--16', '2015--09--17', '2015--09--18', '2015--09--21', '2015--09--22', '2015--09--24', '2015--09--25', '2015--09--28', '2015--09--29', '2015--09--30', '2015--10--01', '2015--10--02', '2015--10--05', '2015--10--06', '2015--10--07', '2015--10--08', '2015--10--09', '2015--10--13', '2015--10--14', '2015--10--15', '2015--10--16', '2015--10--19', '2015--10--20', '2015--10--21', '2015--10--22', '2015--10--23', '2015--10--26', '2015--10--27', '2015--10--28', '2015--10--29', '2015--10--30', '2015--11--02', '2015--11--03', '2015--11--04', '2015--11--05', '2015--11--06', '2015--11--09', '2015--11--10', '2015--11--11', '2015--11--12', '2015--11--13', '2015--11--16', '2015--11--17', '2015--11--18', '2015--11--19', '2015--11--20', '2015--11--23', '2015--11--24', '2015--11--25', '2015--11--26', '2015--11--27', '2015--11--30', '2015--12--01', '2015--12--03', '2015--12--04', '2015--12--07', '2015--12--08', '2015--12--09', '2015--12--10', '2015--12--11', '2015--12--14', '2015--12--15', '2015--12--16', '2015--12--17', '2015--12--18', '2015--12--21', '2015--12--22', '2015--12--23', '2015--12--28', '2015--12--29', '2015--12--30', '2016--01--04', '2016--01--05', '2016--01--06', '2016--01--07', '2016--01--08', '2016--01--11', '2016--01--12', '2016--01--13', '2016--01--14', '2016--01--15', '2016--01--18', '2016--01--19', '2016--01--20', '2016--01--21', '2016--01--22', '2016--01--25', '2016--01--26', '2016--01--27', '2016--01--28', '2016--01--29', '2016--02--01', '2016--02--02', '2016--02--03', '2016--02--04', '2016--02--05', '2016--02--08', '2016--02--09', '2016--02--10', '2016--02--11', '2016--02--12', '2016--02--16', '2016--02--17', '2016--02--18', '2016--02--19', '2016--02--22', '2016--02--23', '2016--02--24', '2016--02--25', '2016--02--26', '2016--02--29', '2016--03--01', '2016--03--02', '2016--03--03', '2016--03--04', '2016--03--07', '2016--03--08', '2016--03--09', '2016--03--10', '2016--03--11', '2016--03--14', '2016--03--15', '2016--03--16', '2016--03--17', '2016--03--18', '2016--03--21', '2016--03--22', '2016--03--23', '2016--03--24', '2016--03--29', '2016--03--30', '2016--03--31', '2016--04--01', '2016--04--04', '2016--04--05', '2016--04--06', '2016--04--07', '2016--04--08', '2016--04--11', '2016--04--12', '2016--04--13', '2016--04--14', '2016--04--15', '2016--04--18', '2016--04--19', '2016--04--20', '2016--04--21', '2016--04--22', '2016--04--25', '2016--04--26', '2016--04--27', '2016--04--28', '2016--04--29', '2016--05--02', '2016--05--03', '2016--05--04', '2016--05--05', '2016--05--06', '2016--05--09', '2016--05--10', '2016--05--11', '2016--05--12', '2016--05--13', '2016--05--16', '2016--05--17', '2016--05--18', '2016--05--19', '2016--05--20', '2016--05--24', '2016--05--25', '2016--05--26', '2016--05--27', '2016--05--30', '2016--05--31', '2016--06--01', '2016--06--02', '2016--06--03', '2016--06--06', '2016--06--07', '2016--06--08', '2016--06--09', '2016--06--10', '2016--06--13', '2016--06--14', '2016--06--15', '2016--06--16', '2016--06--17', '2016--06--19', '2016--06--20', '2016--06--21', '2016--06--22', '2016--06--23', '2016--06--26', '2016--06--27', '2016--06--28', '2016--06--29', '2016--06--30', '2016--07--04', '2016--07--05', '2016--07--06', '2016--07--07', '2016--07--08', '2016--07--11', '2016--07--12', '2016--07--13', '2016--07--14', '2016--07--15', '2016--07--18', '2016--07--19', '2016--07--20', '2016--07--21', '2016--07--22', '2016--07--25', '2016--07--26', '2016--07--27', '2016--07--28', '2016--07--29', '2016--08--02', '2016--08--03', '2016--08--04', '2016--08--05', '2016--08--08', '2016--08--09', '2016--08--10', '2016--08--11', '2016--08--12', '2016--08--15', '2016--08--16', '2016--08--17', '2016--08--18', '2016--08--19', '2016--08--22', '2016--08--23', '2016--08--24', '2016--08--25', '2016--08--26', '2016--08--27', '2016--08--29', '2016--08--30', '2016--08--31', '2016--09--01', '2016--09--02', '2016--09--06', '2016--09--07', '2016--09--08', '2016--09--09', '2016--09--12', '2016--09--13', '2016--09--14', '2016--09--15', '2016--09--16', '2016--09--19', '2016--09--20', '2016--09--21', '2016--09--22', '2016--09--23', '2016--09--26', '2016--09--27', '2016--09--28', '2016--09--29', '2016--09--30', '2016--10--03', '2016--10--04', '2016--10--05', '2016--10--06', '2016--10--07', '2016--10--11', '2016--10--12', '2016--10--13', '2016--10--14', '2016--10--17', '2016--10--18', '2016--10--19', '2016--10--20', '2016--10--21', '2016--10--24', '2016--10--25', '2016--10--26', '2016--10--27', '2016--10--28', '2016--10--31', '2016--11--01', '2016--11--02', '2016--11--03', '2016--11--04', '2016--11--07', '2016--11--08', '2016--11--09', '2016--11--10', '2016--11--11', '2016--11--14', '2016--11--15', '2016--11--16', '2016--11--17', '2016--11--18', '2016--11--21', '2016--11--22', '2016--11--23', '2016--11--24', '2016--11--25', '2016--11--28', '2016--11--29', '2016--11--30', '2016--12--01', '2016--12--02', '2016--12--05', '2016--12--06', '2016--12--07', '2016--12--08', '2016--12--09', '2016--12--12', '2016--12--13', '2016--12--14', '2016--12--15', '2016--12--16', '2016--12--19', '2016--12--20', '2016--12--21', '2016--12--22', '2016--12--23', '2016--12--27', '2016--12--28', '2016--12--29', '2016--12--30', '2017--01--03', '2017--01--04', '2017--01--05', '2017--01--06', '2017--01--09', '2017--01--10', '2017--01--11', '2017--01--12', '2017--01--13', '2017--01--16', '2017--01--17', '2017--01--18', '2017--01--19', '2017--01--20', '2017--01--23', '2017--01--24', '2017--01--25', '2017--01--26', '2017--01--27', '2017--01--30', '2017--01--31', '2017--02--01', '2017--02--02', '2017--02--03', '2017--02--06', '2017--02--07', '2017--02--08', '2017--02--09', '2017--02--10', '2017--02--14', '2017--02--15', '2017--02--16', '2017--02--17', '2017--02--20', '2017--02--21', '2017--02--22', '2017--02--23', '2017--02--24', '2017--02--27', '2017--02--28', '2017--03--01', '2017--03--02', '2017--03--03', '2017--03--06', '2017--03--07', '2017--03--08', '2017--03--09', '2017--03--10', '2017--03--13', '2017--03--14', '2017--03--15', '2017--03--16', '2017--03--17', '2017--03--20', '2017--03--21', '2017--03--22', '2017--03--23', '2017--03--24', '2017--03--28', '2017--03--29', '2017--03--30', '2017--03--31', '2017--04--03', '2017--04--04', '2017--04--05', '2017--04--06', '2017--04--07', '2017--04--10', '2017--04--11', '2017--04--12', '2017--04--13', '2017--04--14', '2017--04--18', '2017--04--19', '2017--04--20', '2017--04--21', '2017--04--24', '2017--04--25', '2017--04--26', '2017--04--27', '2017--04--28', '2017--05--01', '2017--05--02', '2017--05--03', '2017--05--04', '2017--05--05', '2017--05--08', '2017--05--09', '2017--05--10', '2017--05--11', '2017--05--12', '2017--05--15', '2017--05--16', '2017--05--17', '2017--05--18', '2017--05--19', '2017--05--23', '2017--05--24', '2017--05--25', '2017--05--26', '2017--05--29', '2017--05--30', '2017--05--31', '2017--06--01', '2017--06--02', '2017--06--05', '2017--06--06', '2017--06--07', '2017--06--08', '2017--06--09', '2017--06--12', '2017--06--13', '2017--06--14', '2017--06--15', '2017--06--16', '2017--06--19', '2017--06--20', '2017--06--21', '2017--06--22', '2017--06--23', '2017--06--26', '2017--06--27', '2017--06--28', '2017--06--29', '2017--06--30', '2017--07--04', '2017--07--05', '2017--07--06', '2017--07--07', '2017--07--10', '2017--07--11', '2017--07--12', '2017--07--13', '2017--07--14', '2017--07--17', '2017--07--18', '2017--07--19', '2017--07--20', '2017--07--21', '2017--07--24', '2017--07--25', '2017--07--26', '2017--07--27', '2017--07--28', '2017--07--31', '2017--08--01', '2017--08--02', '2017--08--03', '2017--08--04', '2017--08--08', '2017--08--09', '2017--08--10', '2017--08--11', '2017--08--14', '2017--08--15', '2017--08--16', '2017--08--17', '2017--08--18', '2017--08--21', '2017--08--22', '2017--08--23', '2017--08--24', '2017--08--25', '2017--08--28', '2017--08--29', '2017--08--30', '2017--08--31', '2017--09--01', '2017--09--05', '2017--09--06', '2017--09--07', '2017--09--08', '2017--09--11', '2017--09--12', '2017--09--13', '2017--09--14', '2017--09--15', '2017--09--18', '2017--09--19', '2017--09--20', '2017--09--21', '2017--09--22', '2017--09--25', '2017--09--26', '2017--09--27', '2017--09--28', '2017--09--29', '2017--10--02', '2017--10--03', '2017--10--04', '2017--10--05', '2017--10--06', '2017--10--10', '2017--10--11', '2017--10--12', '2017--10--13', '2017--10--16', '2017--10--17', '2017--10--18', '2017--10--19', '2017--10--20', '2017--10--23', '2017--10--24', '2017--10--25', '2017--10--26', '2017--10--27', '2017--10--30', '2017--10--31', '2017--11--01', '2017--11--02', '2017--11--03', '2017--11--06', '2017--11--07', '2017--11--08', '2017--11--09', '2017--11--10', '2017--11--13', '2017--11--14', '2017--11--15', '2017--11--16', '2017--11--17', '2017--11--20', '2017--11--21', '2017--11--22', '2017--11--23', '2017--11--24', '2017--11--27', '2017--11--28', '2017--11--29', '2017--11--30', '2017--12--01', '2017--12--04', '2017--12--05', '2017--12--06', '2017--12--07', '2017--12--08', '2017--12--11', '2017--12--12', '2017--12--13', '2017--12--14', '2017--12--15', '2017--12--18', '2017--12--19', '2017--12--20', '2017--12--21', '2017--12--22', '2017--12--26', '2017--12--27', '2017--12--28', '2017--12--29', '2018--01--02', '2018--01--03', '2018--01--04', '2018--01--05', '2018--01--08', '2018--01--09', '2018--01--10', '2018--01--11', '2018--01--12', '2018--01--15', '2018--01--16', '2018--01--17', '2018--01--18', '2018--01--19', '2018--01--22', '2018--01--23', '2018--01--24', '2018--01--25', '2018--01--26', '2018--01--29', '2018--01--30', '2018--01--31', '2018--02--01', '2018--02--02', '2018--02--05', '2018--02--06', '2018--02--07', '2018--02--08', '2018--02--09', '2018--02--13', '2018--02--14', '2018--02--15', '2018--02--16', '2018--02--19', '2018--02--20', '2018--02--21', '2018--02--22', '2018--02--23', '2018--02--26', '2018--02--27', '2018--02--28', '2018--03--01', '2018--03--02', '2018--03--03', '2018--03--05', '2018--03--06', '2018--03--07', '2018--03--08', '2018--03--09', '2018--03--12', '2018--03--13', '2018--03--14', '2018--03--15', '2018--03--16', '2018--03--19', '2018--03--20', '2018--03--21', '2018--03--22', '2018--03--23', '2018--03--26', '2018--03--27', '2018--03--28', '2018--03--29', '2018--04--02', '2018--04--03', '2018--04--04', '2018--04--05', '2018--04--06', '2018--04--09', '2018--04--10', '2018--04--11', '2018--04--12', '2018--04--13', '2018--04--16', '2018--04--17', '2018--04--18', '2018--04--19', '2018--04--20', '2018--04--23', '2018--04--24', '2018--04--25', '2018--04--26', '2018--04--27', '2018--04--30', '2018--05--01', '2018--05--02', '2018--05--03', '2018--05--04', '2018--05--07', '2018--05--08', '2018--05--09', '2018--05--10', '2018--05--11', '2018--05--14', '2018--05--15', '2018--05--16', '2018--05--17', '2018--05--18', '2018--05--22', '2018--05--23', '2018--05--24', '2018--05--25', '2018--05--28', '2018--05--29', '2018--05--30', '2018--05--31', '2018--06--01', '2018--06--04', '2018--06--05', '2018--06--06', '2018--06--07', '2018--06--08', '2018--06--11', '2018--06--12', '2018--06--13', '2018--06--14', '2018--06--15', '2018--06--18', '2018--06--19', '2018--06--20', '2018--06--21', '2018--06--22', '2018--06--26', '2018--06--27', '2018--06--28', '2018--06--29', '2018--06--30', '2018--07--03', '2018--07--04', '2018--07--05', '2018--07--06', '2018--07--09', '2018--07--10', '2018--07--11', '2018--07--12', '2018--07--13', '2018--07--16', '2018--07--17', '2018--07--18', '2018--07--19', '2018--07--20', '2018--07--23', '2018--07--24', '2018--07--25', '2018--07--26', '2018--07--27', '2018--07--30', '2018--07--31', '2018--08--01', '2018--08--02', '2018--08--03', '2018--08--07', '2018--08--08', '2018--08--09', '2018--08--10', '2018--08--13', '2018--08--14', '2018--08--15', '2018--08--16', '2018--08--17', '2018--08--20', '2018--08--21', '2018--08--22', '2018--08--23', '2018--08--24', '2018--08--27', '2018--08--28', '2018--08--29', '2018--08--30', '2018--08--31', '2018--09--01', '2018--09--02', '2018--09--04', '2018--09--05', '2018--09--06', '2018--09--07', '2018--09--10', '2018--09--11', '2018--09--12', '2018--09--13', '2018--09--14', '2018--09--17', '2018--09--18', '2018--09--19', '2018--09--20', '2018--09--21', '2018--09--23', '2018--09--24', '2018--09--25', '2018--09--26', '2018--09--27', '2018--09--28', '2018--10--01', '2018--10--02', '2018--10--03', '2018--10--04', '2018--10--05', '2018--10--09', '2018--10--10', '2018--10--11', '2018--10--12', '2018--10--15', '2018--10--16', '2018--10--17', '2018--10--18', '2018--10--19', '2018--10--22', '2018--10--23', '2018--10--24', '2018--10--25', '2018--10--26', '2018--10--29', '2018--10--30', '2018--10--31', '2018--11--01', '2018--11--02', '2018--11--05', '2018--11--06', '2018--11--07', '2018--11--08', '2018--11--09', '2018--11--12', '2018--11--13', '2018--11--14', '2018--11--15', '2018--11--16', '2018--11--19', '2018--11--20', '2018--11--21', '2018--11--22', '2018--11--23', '2018--11--26', '2018--11--27', '2018--11--28', '2018--11--29', '2018--11--30', '2018--12--03', '2018--12--04', '2018--12--05', '2018--12--06', '2018--12--07', '2018--12--10', '2018--12--11', '2018--12--12', '2018--12--13', '2018--12--14', '2018--12--17', '2018--12--18', '2018--12--19', '2018--12--20', '2018--12--21', '2018--12--24', '2018--12--26', '2018--12--27', '2018--12--28', '2018--12--31', '2019--01--02', '2019--01--03', '2019--01--04', '2019--01--07', '2019--01--08', '2019--01--09', '2019--01--10', '2019--01--11', '2019--01--12', '2019--01--14', '2019--01--15', '2019--01--16', '2019--01--17', '2019--01--18', '2019--01--21', '2019--01--22', '2019--01--23', '2019--01--24', '2019--01--25', '2019--01--28', '2019--01--29', '2019--01--30', '2019--01--31', '2019--02--01', '2019--02--04', '2019--02--05', '2019--02--06', '2019--02--07', '2019--02--08', '2019--02--12', '2019--02--13', '2019--02--14', '2019--02--15', '2019--02--18', '2019--02--19', '2019--02--20', '2019--02--21', '2019--02--22', '2019--02--25', '2019--02--26', '2019--02--27', '2019--02--28', '2019--03--01', '2019--03--04', '2019--03--05', '2019--03--06', '2019--03--07', '2019--03--08', '2019--03--11', '2019--03--12', '2019--03--13', '2019--03--14', '2019--03--15', '2019--03--18', '2019--03--19', '2019--03--20', '2019--03--21', '2019--03--22', '2019--03--25', '2019--03--26', '2019--03--27', '2019--03--28', '2019--03--29', '2019--04--01', '2019--04--02', '2019--04--03', '2019--04--04', '2019--04--05', '2019--04--08', '2019--04--09', '2019--04--10', '2019--04--11', '2019--04--12', '2019--04--15', '2019--04--16', '2019--04--17', '2019--04--18', '2019--04--22', '2019--04--23', '2019--04--24', '2019--04--25', '2019--04--26', '2019--04--29', '2019--04--30', '2019--05--01', '2019--05--02', '2019--05--03', '2019--05--06', '2019--05--07', '2019--05--08', '2019--05--09', '2019--05--10', '2019--05--13', '2019--05--14', '2019--05--15', '2019--05--16', '2019--05--17', '2019--05--21', '2019--05--22', '2019--05--23', '2019--05--24', '2019--05--27', '2019--05--28', '2019--05--29', '2019--05--30', '2019--05--31', '2019--06--03', '2019--06--04', '2019--06--05', '2019--06--06', '2019--06--07', '2019--06--10', '2019--06--11', '2019--06--12', '2019--06--13', '2019--06--14', '2019--06--17', '2019--06--18', '2019--06--19', '2019--06--20', '2019--06--21', '2019--06--25', '2019--06--26', '2019--06--27', '2019--06--28', '2019--07--02', '2019--07--03', '2019--07--04', '2019--07--05', '2019--07--08', '2019--07--09', '2019--07--10', '2019--07--11', '2019--07--12', '2019--07--15', '2019--07--16', '2019--07--17', '2019--07--18', '2019--07--19', '2019--07--22', '2019--07--23', '2019--07--24', '2019--07--25', '2019--07--26', '2019--07--29', '2019--07--30', '2019--07--31', '2019--08--01', '2019--08--02', '2019--08--06'])"
      ]
     },
     "execution_count": 76,
     "metadata": {},
     "output_type": "execute_result"
    }
   ],
   "source": [
    "sample_grouped.groups.keys()"
   ]
  },
  {
   "cell_type": "code",
   "execution_count": 112,
   "metadata": {},
   "outputs": [],
   "source": [
    "sample_grouped = sample.groupby('date')\n",
    "room = sample_grouped.get_group('2017--11--09')\n",
    "room.sort_values(by = 'ActualStartDate', inplace = True)\n",
    "\n",
    "room['pre_ActualEndDate'] = room.ActualEndDate.shift(periods = 1, fill_value = room.ActualStartDate.iloc[0])\n",
    "room['Transfer_duration'] = room.apply(lambda x: cal_time_inv(x.pre_ActualEndDate,x.ActualStartDate), axis = 1)\n",
    "room['Interval_number'] = room.apply(lambda x: int(x.Transfer_duration / 60 / 15), axis = 1)\n",
    "\n",
    "room.Transfer_duration.iloc[-1] = cal_time_inv(room.ActualEndDate.iloc[-2], room.ScheduledStartTime.iloc[-1])\n",
    "room.Interval_number.iloc[-1] = int(room.Transfer_duration.iloc[-1] /60 / 15)"
   ]
  },
  {
   "cell_type": "code",
   "execution_count": 113,
   "metadata": {},
   "outputs": [
    {
     "data": {
      "text/html": [
       "<div>\n",
       "<style scoped>\n",
       "    .dataframe tbody tr th:only-of-type {\n",
       "        vertical-align: middle;\n",
       "    }\n",
       "\n",
       "    .dataframe tbody tr th {\n",
       "        vertical-align: top;\n",
       "    }\n",
       "\n",
       "    .dataframe thead th {\n",
       "        text-align: right;\n",
       "    }\n",
       "</style>\n",
       "<table border=\"1\" class=\"dataframe\">\n",
       "  <thead>\n",
       "    <tr style=\"text-align: right;\">\n",
       "      <th></th>\n",
       "      <th>ScheduledStartTime</th>\n",
       "      <th>ScheduledEndTime</th>\n",
       "      <th>pre_ActualEndDate</th>\n",
       "      <th>ActualStartDate</th>\n",
       "      <th>ActualEndDate</th>\n",
       "      <th>Transfer_duration</th>\n",
       "      <th>Interval_number</th>\n",
       "    </tr>\n",
       "  </thead>\n",
       "  <tbody>\n",
       "    <tr>\n",
       "      <th>65246</th>\n",
       "      <td>2017-11-09 08:45:00</td>\n",
       "      <td>2017-11-09 09:00:00</td>\n",
       "      <td>2017-11-09 07:40:00</td>\n",
       "      <td>2017-11-09 07:40:00</td>\n",
       "      <td>2017-11-09 07:57:00</td>\n",
       "      <td>-1</td>\n",
       "      <td>0</td>\n",
       "    </tr>\n",
       "    <tr>\n",
       "      <th>65270</th>\n",
       "      <td>2017-11-09 09:00:00</td>\n",
       "      <td>2017-11-09 09:15:00</td>\n",
       "      <td>2017-11-09 07:57:00</td>\n",
       "      <td>2017-11-09 08:54:00</td>\n",
       "      <td>2017-11-09 09:20:00</td>\n",
       "      <td>3420</td>\n",
       "      <td>3</td>\n",
       "    </tr>\n",
       "    <tr>\n",
       "      <th>65274</th>\n",
       "      <td>2017-11-09 09:30:00</td>\n",
       "      <td>2017-11-09 09:45:00</td>\n",
       "      <td>2017-11-09 09:20:00</td>\n",
       "      <td>2017-11-09 09:20:00</td>\n",
       "      <td>2017-11-09 09:33:00</td>\n",
       "      <td>-1</td>\n",
       "      <td>0</td>\n",
       "    </tr>\n",
       "    <tr>\n",
       "      <th>65282</th>\n",
       "      <td>2017-11-09 09:15:00</td>\n",
       "      <td>2017-11-09 09:30:00</td>\n",
       "      <td>2017-11-09 09:33:00</td>\n",
       "      <td>2017-11-09 09:44:00</td>\n",
       "      <td>2017-11-09 09:54:00</td>\n",
       "      <td>660</td>\n",
       "      <td>0</td>\n",
       "    </tr>\n",
       "    <tr>\n",
       "      <th>65284</th>\n",
       "      <td>2017-11-09 10:30:00</td>\n",
       "      <td>2017-11-09 10:45:00</td>\n",
       "      <td>2017-11-09 09:54:00</td>\n",
       "      <td>2017-11-09 09:57:00</td>\n",
       "      <td>2017-11-09 10:12:00</td>\n",
       "      <td>180</td>\n",
       "      <td>0</td>\n",
       "    </tr>\n",
       "    <tr>\n",
       "      <th>65279</th>\n",
       "      <td>2017-11-09 10:15:00</td>\n",
       "      <td>2017-11-09 10:30:00</td>\n",
       "      <td>2017-11-09 10:12:00</td>\n",
       "      <td>2017-11-09 10:13:00</td>\n",
       "      <td>2017-11-09 10:25:00</td>\n",
       "      <td>60</td>\n",
       "      <td>0</td>\n",
       "    </tr>\n",
       "    <tr>\n",
       "      <th>65271</th>\n",
       "      <td>2017-11-09 10:00:00</td>\n",
       "      <td>2017-11-09 10:15:00</td>\n",
       "      <td>2017-11-09 10:25:00</td>\n",
       "      <td>2017-11-09 10:25:00</td>\n",
       "      <td>2017-11-09 10:37:00</td>\n",
       "      <td>-1</td>\n",
       "      <td>0</td>\n",
       "    </tr>\n",
       "    <tr>\n",
       "      <th>65297</th>\n",
       "      <td>2017-11-09 11:00:00</td>\n",
       "      <td>2017-11-09 11:15:00</td>\n",
       "      <td>2017-11-09 10:37:00</td>\n",
       "      <td>2017-11-09 10:38:00</td>\n",
       "      <td>2017-11-09 10:48:00</td>\n",
       "      <td>60</td>\n",
       "      <td>0</td>\n",
       "    </tr>\n",
       "    <tr>\n",
       "      <th>65299</th>\n",
       "      <td>2017-11-09 10:45:00</td>\n",
       "      <td>2017-11-09 11:00:00</td>\n",
       "      <td>2017-11-09 10:48:00</td>\n",
       "      <td>2017-11-09 10:50:00</td>\n",
       "      <td>2017-11-09 11:15:00</td>\n",
       "      <td>120</td>\n",
       "      <td>0</td>\n",
       "    </tr>\n",
       "    <tr>\n",
       "      <th>65316</th>\n",
       "      <td>2017-11-09 11:30:00</td>\n",
       "      <td>2017-11-09 11:45:00</td>\n",
       "      <td>2017-11-09 11:15:00</td>\n",
       "      <td>2017-11-09 11:18:00</td>\n",
       "      <td>2017-11-09 11:43:00</td>\n",
       "      <td>180</td>\n",
       "      <td>0</td>\n",
       "    </tr>\n",
       "    <tr>\n",
       "      <th>65312</th>\n",
       "      <td>2017-11-09 11:45:00</td>\n",
       "      <td>2017-11-09 12:15:00</td>\n",
       "      <td>2017-11-09 11:43:00</td>\n",
       "      <td>2017-11-09 11:53:00</td>\n",
       "      <td>2017-11-09 12:18:00</td>\n",
       "      <td>600</td>\n",
       "      <td>0</td>\n",
       "    </tr>\n",
       "    <tr>\n",
       "      <th>65306</th>\n",
       "      <td>2017-11-09 12:15:00</td>\n",
       "      <td>2017-11-09 12:30:00</td>\n",
       "      <td>2017-11-09 12:18:00</td>\n",
       "      <td>2017-11-09 12:21:00</td>\n",
       "      <td>2017-11-09 12:39:00</td>\n",
       "      <td>180</td>\n",
       "      <td>0</td>\n",
       "    </tr>\n",
       "    <tr>\n",
       "      <th>65340</th>\n",
       "      <td>2017-11-09 13:15:00</td>\n",
       "      <td>2017-11-09 13:30:00</td>\n",
       "      <td>2017-11-09 12:39:00</td>\n",
       "      <td>2017-11-09 13:06:00</td>\n",
       "      <td>2017-11-09 13:21:00</td>\n",
       "      <td>1620</td>\n",
       "      <td>1</td>\n",
       "    </tr>\n",
       "    <tr>\n",
       "      <th>65298</th>\n",
       "      <td>2017-11-09 12:30:00</td>\n",
       "      <td>2017-11-09 13:00:00</td>\n",
       "      <td>2017-11-09 13:21:00</td>\n",
       "      <td>2017-11-09 13:21:00</td>\n",
       "      <td>2017-11-09 13:46:00</td>\n",
       "      <td>-1</td>\n",
       "      <td>0</td>\n",
       "    </tr>\n",
       "    <tr>\n",
       "      <th>65342</th>\n",
       "      <td>2017-11-09 13:30:00</td>\n",
       "      <td>2017-11-09 14:00:00</td>\n",
       "      <td>2017-11-09 13:46:00</td>\n",
       "      <td>2017-11-09 13:47:00</td>\n",
       "      <td>2017-11-09 14:19:00</td>\n",
       "      <td>60</td>\n",
       "      <td>0</td>\n",
       "    </tr>\n",
       "    <tr>\n",
       "      <th>65348</th>\n",
       "      <td>2017-11-09 14:00:00</td>\n",
       "      <td>2017-11-09 14:15:00</td>\n",
       "      <td>2017-11-09 14:19:00</td>\n",
       "      <td>2017-11-09 14:20:00</td>\n",
       "      <td>2017-11-09 14:31:00</td>\n",
       "      <td>60</td>\n",
       "      <td>0</td>\n",
       "    </tr>\n",
       "    <tr>\n",
       "      <th>65357</th>\n",
       "      <td>2017-11-09 14:15:00</td>\n",
       "      <td>2017-11-09 14:45:00</td>\n",
       "      <td>2017-11-09 14:31:00</td>\n",
       "      <td>2017-11-09 14:32:00</td>\n",
       "      <td>2017-11-09 14:48:00</td>\n",
       "      <td>60</td>\n",
       "      <td>0</td>\n",
       "    </tr>\n",
       "    <tr>\n",
       "      <th>65368</th>\n",
       "      <td>2017-11-09 16:45:00</td>\n",
       "      <td>2017-11-09 17:00:00</td>\n",
       "      <td>2017-11-09 14:48:00</td>\n",
       "      <td>2017-11-09 16:02:00</td>\n",
       "      <td>2017-11-09 16:22:00</td>\n",
       "      <td>4440</td>\n",
       "      <td>4</td>\n",
       "    </tr>\n",
       "    <tr>\n",
       "      <th>65369</th>\n",
       "      <td>2017-11-09 15:15:00</td>\n",
       "      <td>2017-11-09 15:30:00</td>\n",
       "      <td>2017-11-09 16:22:00</td>\n",
       "      <td>2017-11-09 16:27:00</td>\n",
       "      <td>2017-11-09 16:40:00</td>\n",
       "      <td>300</td>\n",
       "      <td>0</td>\n",
       "    </tr>\n",
       "    <tr>\n",
       "      <th>65387</th>\n",
       "      <td>2017-11-09 17:45:00</td>\n",
       "      <td>2017-11-09 18:00:00</td>\n",
       "      <td>2017-11-09 16:40:00</td>\n",
       "      <td>2017-11-09 16:41:00</td>\n",
       "      <td>2017-11-09 17:10:00</td>\n",
       "      <td>60</td>\n",
       "      <td>0</td>\n",
       "    </tr>\n",
       "  </tbody>\n",
       "</table>\n",
       "</div>"
      ],
      "text/plain": [
       "        ScheduledStartTime     ScheduledEndTime    pre_ActualEndDate  \\\n",
       "65246  2017-11-09 08:45:00  2017-11-09 09:00:00  2017-11-09 07:40:00   \n",
       "65270  2017-11-09 09:00:00  2017-11-09 09:15:00  2017-11-09 07:57:00   \n",
       "65274  2017-11-09 09:30:00  2017-11-09 09:45:00  2017-11-09 09:20:00   \n",
       "65282  2017-11-09 09:15:00  2017-11-09 09:30:00  2017-11-09 09:33:00   \n",
       "65284  2017-11-09 10:30:00  2017-11-09 10:45:00  2017-11-09 09:54:00   \n",
       "65279  2017-11-09 10:15:00  2017-11-09 10:30:00  2017-11-09 10:12:00   \n",
       "65271  2017-11-09 10:00:00  2017-11-09 10:15:00  2017-11-09 10:25:00   \n",
       "65297  2017-11-09 11:00:00  2017-11-09 11:15:00  2017-11-09 10:37:00   \n",
       "65299  2017-11-09 10:45:00  2017-11-09 11:00:00  2017-11-09 10:48:00   \n",
       "65316  2017-11-09 11:30:00  2017-11-09 11:45:00  2017-11-09 11:15:00   \n",
       "65312  2017-11-09 11:45:00  2017-11-09 12:15:00  2017-11-09 11:43:00   \n",
       "65306  2017-11-09 12:15:00  2017-11-09 12:30:00  2017-11-09 12:18:00   \n",
       "65340  2017-11-09 13:15:00  2017-11-09 13:30:00  2017-11-09 12:39:00   \n",
       "65298  2017-11-09 12:30:00  2017-11-09 13:00:00  2017-11-09 13:21:00   \n",
       "65342  2017-11-09 13:30:00  2017-11-09 14:00:00  2017-11-09 13:46:00   \n",
       "65348  2017-11-09 14:00:00  2017-11-09 14:15:00  2017-11-09 14:19:00   \n",
       "65357  2017-11-09 14:15:00  2017-11-09 14:45:00  2017-11-09 14:31:00   \n",
       "65368  2017-11-09 16:45:00  2017-11-09 17:00:00  2017-11-09 14:48:00   \n",
       "65369  2017-11-09 15:15:00  2017-11-09 15:30:00  2017-11-09 16:22:00   \n",
       "65387  2017-11-09 17:45:00  2017-11-09 18:00:00  2017-11-09 16:40:00   \n",
       "\n",
       "           ActualStartDate        ActualEndDate  Transfer_duration  \\\n",
       "65246  2017-11-09 07:40:00  2017-11-09 07:57:00                 -1   \n",
       "65270  2017-11-09 08:54:00  2017-11-09 09:20:00               3420   \n",
       "65274  2017-11-09 09:20:00  2017-11-09 09:33:00                 -1   \n",
       "65282  2017-11-09 09:44:00  2017-11-09 09:54:00                660   \n",
       "65284  2017-11-09 09:57:00  2017-11-09 10:12:00                180   \n",
       "65279  2017-11-09 10:13:00  2017-11-09 10:25:00                 60   \n",
       "65271  2017-11-09 10:25:00  2017-11-09 10:37:00                 -1   \n",
       "65297  2017-11-09 10:38:00  2017-11-09 10:48:00                 60   \n",
       "65299  2017-11-09 10:50:00  2017-11-09 11:15:00                120   \n",
       "65316  2017-11-09 11:18:00  2017-11-09 11:43:00                180   \n",
       "65312  2017-11-09 11:53:00  2017-11-09 12:18:00                600   \n",
       "65306  2017-11-09 12:21:00  2017-11-09 12:39:00                180   \n",
       "65340  2017-11-09 13:06:00  2017-11-09 13:21:00               1620   \n",
       "65298  2017-11-09 13:21:00  2017-11-09 13:46:00                 -1   \n",
       "65342  2017-11-09 13:47:00  2017-11-09 14:19:00                 60   \n",
       "65348  2017-11-09 14:20:00  2017-11-09 14:31:00                 60   \n",
       "65357  2017-11-09 14:32:00  2017-11-09 14:48:00                 60   \n",
       "65368  2017-11-09 16:02:00  2017-11-09 16:22:00               4440   \n",
       "65369  2017-11-09 16:27:00  2017-11-09 16:40:00                300   \n",
       "65387  2017-11-09 16:41:00  2017-11-09 17:10:00                 60   \n",
       "\n",
       "       Interval_number  \n",
       "65246                0  \n",
       "65270                3  \n",
       "65274                0  \n",
       "65282                0  \n",
       "65284                0  \n",
       "65279                0  \n",
       "65271                0  \n",
       "65297                0  \n",
       "65299                0  \n",
       "65316                0  \n",
       "65312                0  \n",
       "65306                0  \n",
       "65340                1  \n",
       "65298                0  \n",
       "65342                0  \n",
       "65348                0  \n",
       "65357                0  \n",
       "65368                4  \n",
       "65369                0  \n",
       "65387                0  "
      ]
     },
     "execution_count": 113,
     "metadata": {},
     "output_type": "execute_result"
    }
   ],
   "source": [
    "room[['ScheduledStartTime', 'ScheduledEndTime', 'pre_ActualEndDate', 'ActualStartDate', 'ActualEndDate', 'Transfer_duration', 'Interval_number']]"
   ]
  },
  {
   "cell_type": "code",
   "execution_count": 114,
   "metadata": {},
   "outputs": [],
   "source": []
  },
  {
   "cell_type": "code",
   "execution_count": null,
   "metadata": {},
   "outputs": [],
   "source": [
    "sample_grouped.get_group('2015-05-29')[[\n",
    "    'AppointmentSerNum', 'PatientSerNum', 'AppointmentAriaSer',\n",
    "    'ActivityInstanceAriaSer', 'DiagnosisSerNum', 'PrioritySerNum',\n",
    "    'AliasExpressionSerNum', 'ScheduledStartTime', 'ScheduledEndTime',\n",
    "    'ActualStartDate', 'ActualEndDate', 'ResourceAppointmentSerNum']]"
   ]
  }
 ],
 "metadata": {
  "kernelspec": {
   "display_name": "Python 3",
   "language": "python",
   "name": "python3"
  },
  "language_info": {
   "codemirror_mode": {
    "name": "ipython",
    "version": 3
   },
   "file_extension": ".py",
   "mimetype": "text/x-python",
   "name": "python",
   "nbconvert_exporter": "python",
   "pygments_lexer": "ipython3",
   "version": "3.7.3"
  }
 },
 "nbformat": 4,
 "nbformat_minor": 2
}
