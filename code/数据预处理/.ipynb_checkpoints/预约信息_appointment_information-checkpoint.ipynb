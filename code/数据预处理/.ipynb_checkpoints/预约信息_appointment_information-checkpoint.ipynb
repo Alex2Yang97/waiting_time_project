{
 "cells": [
  {
   "cell_type": "code",
   "execution_count": 1,
   "metadata": {},
   "outputs": [],
   "source": [
    "import pymysql\n",
    "import pandas as pd\n",
    "import numpy as np\n",
    "import datetime\n",
    "import sys\n",
    "sys.path.append(r'D:\\jupyter files\\waiting_time_project\\my_tools')\n",
    "import tools_for_os.for_df as ml_df"
   ]
  },
  {
   "cell_type": "code",
   "execution_count": 2,
   "metadata": {},
   "outputs": [
    {
     "name": "stdout",
     "output_type": "stream",
     "text": [
      "The shape of data_appointment (1074478, 17)\n",
      "The shape of data_dx (39486, 12)\n",
      "The shape of data_dxt (1291, 6)\n",
      "The shape of data_pt (51062, 2)\n",
      "The shape of data_co (58360, 11)\n",
      "The shape of data_pl (148421, 13)\n",
      "The shape of data_pd (148770, 7)\n"
     ]
    }
   ],
   "source": [
    "sql_appointment = \"\"\"SELECT * FROM appointment\"\"\"\n",
    "data_appointment = ml_df.get_df_from_sql(sql_appointment)\n",
    "print(f'The shape of data_appointment {data_appointment.shape}')\n",
    "sql_dx = \"\"\"SELECT * FROM diagnosis\"\"\"\n",
    "data_dx = ml_df.get_df_from_sql(sql_dx)\n",
    "print(f'The shape of data_dx {data_dx.shape}')\n",
    "sql_dxt = \"\"\"SELECT * FROM diagnosistranslation\"\"\"\n",
    "data_dxt = ml_df.get_df_from_sql(sql_dxt)\n",
    "print(f'The shape of data_dxt {data_dxt.shape}')\n",
    "sql_pt = \"\"\"SELECT * FROM patient\"\"\"\n",
    "data_pt = ml_df.get_df_from_sql(sql_pt)\n",
    "print(f'The shape of data_pt {data_pt.shape}')\n",
    "sql_co = \"\"\"SELECT * FROM course\"\"\"\n",
    "data_co = ml_df.get_df_from_sql(sql_co)\n",
    "print(f'The shape of data_co {data_co.shape}')\n",
    "sql_pl = \"\"\"SELECT * FROM plan\"\"\"\n",
    "data_pl = ml_df.get_df_from_sql(sql_pl)\n",
    "print(f'The shape of data_pl {data_pl.shape}')\n",
    "sql_pd = \"\"\"SELECT * FROM patientdoctor\"\"\"\n",
    "data_pd = ml_df.get_df_from_sql(sql_pd)\n",
    "print(f'The shape of data_pd {data_pd.shape}')"
   ]
  },
  {
   "cell_type": "code",
   "execution_count": 3,
   "metadata": {},
   "outputs": [
    {
     "name": "stdout",
     "output_type": "stream",
     "text": [
      "Drop columns\n"
     ]
    }
   ],
   "source": [
    "try:\n",
    "    data_appointment.drop(columns = ['LastUpdated'], inplace = True)\n",
    "    data_dx.drop('LastUpdated', axis = 1, inplace = True)\n",
    "    data_dxt.drop('LastUpdated', axis = 1, inplace = True)\n",
    "    data_pt.drop('LastUpdated', axis = 1, inplace = True)\n",
    "    data_co.drop('LastUpdated', axis = 1, inplace = True)\n",
    "    data_pl.drop('LastUpdated', axis = 1, inplace = True)\n",
    "    data_pd.drop('LastUpdated', axis = 1, inplace = True)\n",
    "    print('Drop columns')\n",
    "except:\n",
    "    print('Finish droppping columns')"
   ]
  },
  {
   "cell_type": "markdown",
   "metadata": {},
   "source": [
    "## Appointment 表"
   ]
  },
  {
   "cell_type": "code",
   "execution_count": 4,
   "metadata": {},
   "outputs": [
    {
     "data": {
      "text/plain": [
       "Index(['AppointmentSerNum', 'PatientSerNum', 'AppointmentAriaSer',\n",
       "       'ActivityInstanceAriaSer', 'DiagnosisSerNum', 'PrioritySerNum',\n",
       "       'AliasSerNum', 'AliasExpressionSerNum', 'Status', 'State',\n",
       "       'ScheduledStartTime', 'ScheduledEndTime', 'ActualStartDate',\n",
       "       'ActualEndDate', 'EstimatedDuration', 'HstryUserName'],\n",
       "      dtype='object')"
      ]
     },
     "execution_count": 4,
     "metadata": {},
     "output_type": "execute_result"
    }
   ],
   "source": [
    "data_appointment.columns"
   ]
  },
  {
   "cell_type": "code",
   "execution_count": 5,
   "metadata": {},
   "outputs": [
    {
     "data": {
      "text/plain": [
       "datetime.datetime(1970, 1, 1, 0, 0)"
      ]
     },
     "execution_count": 5,
     "metadata": {},
     "output_type": "execute_result"
    }
   ],
   "source": [
    "data_appointment.ActualStartDate.iloc[0]"
   ]
  },
  {
   "cell_type": "code",
   "execution_count": 6,
   "metadata": {},
   "outputs": [
    {
     "name": "stdout",
     "output_type": "stream",
     "text": [
      "The shape of data_appointment (1074478, 16)\n",
      "The shape of data_appointment (370303, 16)\n"
     ]
    }
   ],
   "source": [
    "print(f'The shape of data_appointment {data_appointment.shape}')\n",
    "data_appointment = data_appointment[\n",
    "    (data_appointment.ActualStartDate != datetime.datetime(1970, 1, 1, 0, 0))&\n",
    "    (data_appointment.ActualEndDate != datetime.datetime(1970, 1, 1, 0, 0))]\n",
    "print(f'The shape of data_appointment {data_appointment.shape}')"
   ]
  },
  {
   "cell_type": "code",
   "execution_count": 7,
   "metadata": {},
   "outputs": [
    {
     "data": {
      "text/plain": [
       "Completed           369089\n",
       "Pt. CompltFinish      1210\n",
       "                         4\n",
       "Name: Status, dtype: int64"
      ]
     },
     "execution_count": 7,
     "metadata": {},
     "output_type": "execute_result"
    }
   ],
   "source": [
    "data_appointment.Status.value_counts()"
   ]
  },
  {
   "cell_type": "code",
   "execution_count": 8,
   "metadata": {},
   "outputs": [
    {
     "data": {
      "text/plain": [
       "Active     370296\n",
       "                4\n",
       "Deleted         3\n",
       "Name: State, dtype: int64"
      ]
     },
     "execution_count": 8,
     "metadata": {},
     "output_type": "execute_result"
    }
   ],
   "source": [
    "data_appointment.State.value_counts()"
   ]
  },
  {
   "cell_type": "code",
   "execution_count": 9,
   "metadata": {},
   "outputs": [
    {
     "name": "stdout",
     "output_type": "stream",
     "text": [
      "The shape of data_appointment (370303, 16)\n",
      "The shape of data_appointment (370296, 16)\n",
      "The shape of data_appointment (370296, 16)\n"
     ]
    }
   ],
   "source": [
    "print(f'The shape of data_appointment {data_appointment.shape}')\n",
    "data_appointment = data_appointment[data_appointment.State == 'Active']\n",
    "print(f'The shape of data_appointment {data_appointment.shape}')\n",
    "data_appointment = data_appointment[(data_appointment.Status == 'Completed') | \n",
    "                                    (data_appointment.Status == 'Pt. CompltFinish')]\n",
    "print(f'The shape of data_appointment {data_appointment.shape}')"
   ]
  },
  {
   "cell_type": "markdown",
   "metadata": {},
   "source": [
    "## PatientDoctor 表"
   ]
  },
  {
   "cell_type": "code",
   "execution_count": 10,
   "metadata": {
    "scrolled": true
   },
   "outputs": [
    {
     "data": {
      "text/plain": [
       "37    148770\n",
       "Name: AliasSerNum, dtype: int64"
      ]
     },
     "execution_count": 10,
     "metadata": {},
     "output_type": "execute_result"
    }
   ],
   "source": [
    "data_pd.AliasSerNum.value_counts()"
   ]
  },
  {
   "cell_type": "markdown",
   "metadata": {},
   "source": [
    "##### PatientDoctor 表中，AliasSerNum 只有37"
   ]
  },
  {
   "cell_type": "markdown",
   "metadata": {},
   "source": [
    "##### 筛选出 OncologistFlag = 1，PrimaryFlag = 1 的数据"
   ]
  },
  {
   "cell_type": "code",
   "execution_count": 11,
   "metadata": {},
   "outputs": [
    {
     "name": "stdout",
     "output_type": "stream",
     "text": [
      "The shape of data_pd (148770, 6)\n",
      "The shape of data_pd (51535, 6)\n",
      "The shape of data_pd (49874, 6)\n"
     ]
    }
   ],
   "source": [
    "print(f'The shape of data_pd {data_pd.shape}')\n",
    "data_pd = data_pd[data_pd.OncologistFlag == 1]\n",
    "print(f'The shape of data_pd {data_pd.shape}')\n",
    "data_pd = data_pd[data_pd.PrimaryFlag == 1]\n",
    "print(f'The shape of data_pd {data_pd.shape}')"
   ]
  },
  {
   "cell_type": "markdown",
   "metadata": {},
   "source": [
    "## Plan 表"
   ]
  },
  {
   "cell_type": "code",
   "execution_count": 12,
   "metadata": {},
   "outputs": [
    {
     "data": {
      "text/html": [
       "<div>\n",
       "<style scoped>\n",
       "    .dataframe tbody tr th:only-of-type {\n",
       "        vertical-align: middle;\n",
       "    }\n",
       "\n",
       "    .dataframe tbody tr th {\n",
       "        vertical-align: top;\n",
       "    }\n",
       "\n",
       "    .dataframe thead th {\n",
       "        text-align: right;\n",
       "    }\n",
       "</style>\n",
       "<table border=\"1\" class=\"dataframe\">\n",
       "  <thead>\n",
       "    <tr style=\"text-align: right;\">\n",
       "      <th></th>\n",
       "      <th>PlanSerNum</th>\n",
       "      <th>CourseSerNum</th>\n",
       "      <th>PlanAriaSer</th>\n",
       "      <th>PlanId</th>\n",
       "      <th>AliasSerNum</th>\n",
       "      <th>AliasExpressionSerNum</th>\n",
       "      <th>TreatmentOrientation</th>\n",
       "      <th>CreationDate</th>\n",
       "      <th>Status</th>\n",
       "      <th>StatusDate</th>\n",
       "      <th>TreatmentType</th>\n",
       "      <th>Intent</th>\n",
       "    </tr>\n",
       "  </thead>\n",
       "  <tbody>\n",
       "    <tr>\n",
       "      <th>0</th>\n",
       "      <td>1</td>\n",
       "      <td>40522</td>\n",
       "      <td>929513</td>\n",
       "      <td>FT1 RT BREAST</td>\n",
       "      <td>37</td>\n",
       "      <td>0</td>\n",
       "      <td>HFS</td>\n",
       "      <td>2015-08-03 09:53:00</td>\n",
       "      <td>TreatApproval</td>\n",
       "      <td>2015-08-05 11:56:00</td>\n",
       "      <td>Linac</td>\n",
       "      <td>CURATIVE</td>\n",
       "    </tr>\n",
       "    <tr>\n",
       "      <th>1</th>\n",
       "      <td>2</td>\n",
       "      <td>40438</td>\n",
       "      <td>929546</td>\n",
       "      <td>FT1 RT BREAST</td>\n",
       "      <td>37</td>\n",
       "      <td>0</td>\n",
       "      <td>HFS</td>\n",
       "      <td>2015-08-03 11:40:00</td>\n",
       "      <td>TreatApproval</td>\n",
       "      <td>2015-08-05 14:23:00</td>\n",
       "      <td>Linac</td>\n",
       "      <td>CURATIVE</td>\n",
       "    </tr>\n",
       "    <tr>\n",
       "      <th>2</th>\n",
       "      <td>3</td>\n",
       "      <td>40024</td>\n",
       "      <td>922090</td>\n",
       "      <td>FP1 RT BREAST</td>\n",
       "      <td>37</td>\n",
       "      <td>0</td>\n",
       "      <td>HFS</td>\n",
       "      <td>2015-06-25 16:15:00</td>\n",
       "      <td>TreatApproval</td>\n",
       "      <td>2015-06-29 14:52:00</td>\n",
       "      <td>Linac</td>\n",
       "      <td>CURATIVE</td>\n",
       "    </tr>\n",
       "    <tr>\n",
       "      <th>3</th>\n",
       "      <td>4</td>\n",
       "      <td>40569</td>\n",
       "      <td>928000</td>\n",
       "      <td>FT1 LT BREAST</td>\n",
       "      <td>37</td>\n",
       "      <td>0</td>\n",
       "      <td>HFS</td>\n",
       "      <td>2015-07-27 15:34:00</td>\n",
       "      <td>Retired</td>\n",
       "      <td>2015-08-04 09:16:00</td>\n",
       "      <td>Linac</td>\n",
       "      <td>CURATIVE</td>\n",
       "    </tr>\n",
       "    <tr>\n",
       "      <th>4</th>\n",
       "      <td>5</td>\n",
       "      <td>40644</td>\n",
       "      <td>929664</td>\n",
       "      <td>FT1 LT BREAST</td>\n",
       "      <td>37</td>\n",
       "      <td>0</td>\n",
       "      <td>HFS</td>\n",
       "      <td>2015-08-04 09:56:00</td>\n",
       "      <td>TreatApproval</td>\n",
       "      <td>2015-08-05 13:29:00</td>\n",
       "      <td>Linac</td>\n",
       "      <td>CURATIVE</td>\n",
       "    </tr>\n",
       "  </tbody>\n",
       "</table>\n",
       "</div>"
      ],
      "text/plain": [
       "   PlanSerNum  CourseSerNum  PlanAriaSer         PlanId  AliasSerNum  \\\n",
       "0           1         40522       929513  FT1 RT BREAST           37   \n",
       "1           2         40438       929546  FT1 RT BREAST           37   \n",
       "2           3         40024       922090  FP1 RT BREAST           37   \n",
       "3           4         40569       928000  FT1 LT BREAST           37   \n",
       "4           5         40644       929664  FT1 LT BREAST           37   \n",
       "\n",
       "   AliasExpressionSerNum TreatmentOrientation        CreationDate  \\\n",
       "0                      0                  HFS 2015-08-03 09:53:00   \n",
       "1                      0                  HFS 2015-08-03 11:40:00   \n",
       "2                      0                  HFS 2015-06-25 16:15:00   \n",
       "3                      0                  HFS 2015-07-27 15:34:00   \n",
       "4                      0                  HFS 2015-08-04 09:56:00   \n",
       "\n",
       "          Status          StatusDate TreatmentType    Intent  \n",
       "0  TreatApproval 2015-08-05 11:56:00         Linac  CURATIVE  \n",
       "1  TreatApproval 2015-08-05 14:23:00         Linac  CURATIVE  \n",
       "2  TreatApproval 2015-06-29 14:52:00         Linac  CURATIVE  \n",
       "3        Retired 2015-08-04 09:16:00         Linac  CURATIVE  \n",
       "4  TreatApproval 2015-08-05 13:29:00         Linac  CURATIVE  "
      ]
     },
     "execution_count": 12,
     "metadata": {},
     "output_type": "execute_result"
    }
   ],
   "source": [
    "data_pl.head()"
   ]
  },
  {
   "cell_type": "code",
   "execution_count": 13,
   "metadata": {
    "scrolled": true
   },
   "outputs": [
    {
     "data": {
      "text/plain": [
       "Unapproved          74207\n",
       "TreatApproval       47300\n",
       "Rejected            14855\n",
       "PlanApproval         4944\n",
       "Retired              3873\n",
       "CompletedEarly       2550\n",
       "Completed             458\n",
       "ExternalApproval      222\n",
       "Reviewed               12\n",
       "Name: Status, dtype: int64"
      ]
     },
     "execution_count": 13,
     "metadata": {},
     "output_type": "execute_result"
    }
   ],
   "source": [
    "data_pl.Status.value_counts()"
   ]
  },
  {
   "cell_type": "code",
   "execution_count": 14,
   "metadata": {
    "scrolled": true
   },
   "outputs": [
    {
     "data": {
      "text/plain": [
       "EmergencyPS         7162\n",
       "1                   1489\n",
       "FP1 BRAIN           1395\n",
       "ORIGINAL            1337\n",
       "FINAL PLAN 1        1310\n",
       "FP1 PROSTATE        1249\n",
       "FILMS               1162\n",
       "FP1 PELVIS          1155\n",
       "BRAIN               1000\n",
       "RT BREAST            972\n",
       "LT BREAST            936\n",
       "FP1 RBREAST          875\n",
       "FILM                 835\n",
       "FP1 ENT              829\n",
       "2                    818\n",
       "FP1 RT BREAST        789\n",
       "FP1 LT BREAST        783\n",
       "CF                   740\n",
       "FP1 LBREAST          722\n",
       "PROSTATE             653\n",
       "PELVIS               626\n",
       "FP1 RLUNG            619\n",
       "FP1_BRAIN            588\n",
       "FP2 LT BREAST        567\n",
       "FP1 RT LUNG          522\n",
       "FP1 RECTUM           512\n",
       "FP2 RT BREAST        474\n",
       "FP1 LLUNG            468\n",
       "CFS                  466\n",
       "PS1                  458\n",
       "                    ... \n",
       "PL2 MOD                1\n",
       "FinF13V                1\n",
       "FP2_SPLEEN             1\n",
       "KV/KV                  1\n",
       "LB15 S2                1\n",
       "NoWingHUOR ES          1\n",
       "FP1 ORBITS:1           1\n",
       "FP1_VERTEX             1\n",
       "P1 LT CWorig:1         1\n",
       "EvaluateTarek          1\n",
       "CF PROSTATE PL3        1\n",
       "FT1 PELVIScou          1\n",
       "rr-3RAprtl_ho          1\n",
       "PL2 TRY3               1\n",
       "FILMS BRAIN+MAND       1\n",
       "FP2_RTPELVIS           1\n",
       "UPPER ABD PL1MOD       1\n",
       "M1P1 RT HI #           1\n",
       "postcouch              1\n",
       "fraction 19/2          1\n",
       "C/W PL3                1\n",
       "ElectronTest           1\n",
       "FP1_E-PATCH            1\n",
       "MIM Sum P1-P4          1\n",
       "6x-pathlengt1          1\n",
       "NONE15x15 6F           1\n",
       "RT PELVIS CF           1\n",
       "FP1 RT org             1\n",
       "FP1 SC+AX:1            1\n",
       "FinF:1                 1\n",
       "Name: PlanId, Length: 39712, dtype: int64"
      ]
     },
     "execution_count": 14,
     "metadata": {},
     "output_type": "execute_result"
    }
   ],
   "source": [
    "data_pl.PlanId.value_counts()"
   ]
  },
  {
   "cell_type": "code",
   "execution_count": 15,
   "metadata": {},
   "outputs": [
    {
     "name": "stdout",
     "output_type": "stream",
     "text": [
      "The shape of data_pl (148421, 12)\n",
      "The shape of data_pl_ (47300, 12)\n"
     ]
    }
   ],
   "source": [
    "print(f'The shape of data_pl {data_pl.shape}')\n",
    "data_pl_ = data_pl[data_pl.Status == 'TreatApproval']\n",
    "print(f'The shape of data_pl_ {data_pl_.shape}')"
   ]
  },
  {
   "cell_type": "code",
   "execution_count": 16,
   "metadata": {
    "scrolled": true
   },
   "outputs": [
    {
     "data": {
      "text/plain": [
       "FP1 BRAIN        1093\n",
       "FP1 PROSTATE     1074\n",
       "FP1 RBREAST       768\n",
       "FP1 PELVIS        727\n",
       "FP1 RT BREAST     648\n",
       "FP1 LBREAST       621\n",
       "FP1 LT BREAST     615\n",
       "FP2 LT BREAST     521\n",
       "FP1 RLUNG         515\n",
       "FP1_BRAIN         490\n",
       "FP2 RT BREAST     436\n",
       "FP2 LBREAST       412\n",
       "FP1 RT LUNG       390\n",
       "FP1 RECTUM        376\n",
       "FP1 LLUNG         370\n",
       "FP1 ENT           366\n",
       "FP2 RBREAST       363\n",
       "FP1 CHEST         327\n",
       "FP2 PROSTATE      327\n",
       "FP1 ABDOMEN       305\n",
       "FP1 LT LUNG       276\n",
       "FP1 WBI           263\n",
       "FT1 LT BREAST     241\n",
       "FP1 PELVIS #      240\n",
       "FP1_PELVIS        238\n",
       "FP1 LBREASTBH     230\n",
       "C1_FP1_BRAIN      206\n",
       "FT1 RT BREAST     205\n",
       "FP1 BLADDER       204\n",
       "FP2 RECTUM        200\n",
       "                 ... \n",
       "FP1 P-AORTICS       1\n",
       "ver FP2 BRAIN       1\n",
       "FPL1T11-L1          1\n",
       "TB3 1.8 FHI1        1\n",
       "QA_EPID_6B:1        1\n",
       "FP1_Lpelvis         1\n",
       "FPL1 LTCW           1\n",
       "FPL1-LTC/WALL       1\n",
       "FP1_LT ORBIT        1\n",
       "FP1_mc              1\n",
       "QA_FPM1A            1\n",
       "QA_IMAGING1         1\n",
       "FP1 ENT SUP         1\n",
       "FP1 Scalp RT        1\n",
       "RT 9TH RIB          1\n",
       "DIR CHEEK RT        1\n",
       "FP1LSPINEL2         1\n",
       "POST RT ABD         1\n",
       "FP1 _RT HIP         1\n",
       "FP1 Lchestwal       1\n",
       "PA SCALP            1\n",
       "FPL2-PROSTAT        1\n",
       "RT PINNA            1\n",
       "INT MAM CHAIN       1\n",
       "FP4 LT NECK         1\n",
       "4x4_1600dr          1\n",
       "FP1_LIVER:1         1\n",
       "FP1 LT MED E-       1\n",
       "C1FP2_MC_QA2r       1\n",
       "MOD RT LUNG         1\n",
       "Name: PlanId, Length: 10977, dtype: int64"
      ]
     },
     "execution_count": 16,
     "metadata": {},
     "output_type": "execute_result"
    }
   ],
   "source": [
    "data_pl_.PlanId.value_counts()"
   ]
  },
  {
   "cell_type": "code",
   "execution_count": 17,
   "metadata": {},
   "outputs": [],
   "source": [
    "##### "
   ]
  },
  {
   "cell_type": "markdown",
   "metadata": {},
   "source": [
    "##### ============按照之前的方法筛数据==================="
   ]
  },
  {
   "cell_type": "markdown",
   "metadata": {},
   "source": [
    "##### Appointment 的预处理"
   ]
  },
  {
   "cell_type": "code",
   "execution_count": 18,
   "metadata": {},
   "outputs": [
    {
     "name": "stdout",
     "output_type": "stream",
     "text": [
      "The shape of data_appointment (370296, 16)\n",
      "The shape of data_appointment_ (0, 16)\n",
      "The shape of data_appointment_ (0, 16)\n"
     ]
    }
   ],
   "source": [
    "print(f'The shape of data_appointment {data_appointment.shape}')\n",
    "data_appointment_ = data_appointment[(data_appointment.AliasSerNum == 31) &\n",
    "                                     (data_appointment.AliasSerNum == 23) &\n",
    "                                     (data_appointment.ActualStartDate != datetime.datetime(1970, 1, 1, 0, 0)) &\n",
    "                                     (data_appointment.ActualEndDate != datetime.datetime(1970, 1, 1, 0, 0)) &\n",
    "                                     (data_appointment.ActualStartDate != data_appointment.ActualEndDate)]\n",
    "print(f'The shape of data_appointment_ {data_appointment_.shape}')\n",
    "\n",
    "data_appointment_ = data_appointment_[(data_appointment_.State == 'Active') &\n",
    "                                     ((data_appointment_.Status == 'Completed') |\n",
    "                                     (data_appointment_.Status == 'Pt. CompltFinish'))]\n",
    "print(f'The shape of data_appointment_ {data_appointment_.shape}')"
   ]
  },
  {
   "cell_type": "markdown",
   "metadata": {},
   "source": [
    "##### PatientDoctor 的预处理"
   ]
  },
  {
   "cell_type": "code",
   "execution_count": 23,
   "metadata": {},
   "outputs": [
    {
     "name": "stdout",
     "output_type": "stream",
     "text": [
      "The shape of data_pd (49874, 6)\n",
      "The shape of data_pd_ (49874, 6)\n"
     ]
    }
   ],
   "source": [
    "print(f'The shape of data_pd {data_pd.shape}')\n",
    "data_pd_ = data_pd[(data_pd.OncologistFlag == 1) &\n",
    "                   (data_pd.PrimaryFlag == 1)]\n",
    "print(f'The shape of data_pd_ {data_pd_.shape}')"
   ]
  },
  {
   "cell_type": "markdown",
   "metadata": {},
   "source": [
    "##### Plan 的预处理"
   ]
  },
  {
   "cell_type": "code",
   "execution_count": 25,
   "metadata": {},
   "outputs": [
    {
     "name": "stdout",
     "output_type": "stream",
     "text": [
      "The shape of data_pl (148421, 12)\n",
      "The shape of data_pl_ (47300, 12)\n"
     ]
    },
    {
     "name": "stderr",
     "output_type": "stream",
     "text": [
      "C:\\Users\\WENDY\\Anaconda3\\lib\\site-packages\\pandas\\core\\generic.py:5096: SettingWithCopyWarning: \n",
      "A value is trying to be set on a copy of a slice from a DataFrame.\n",
      "Try using .loc[row_indexer,col_indexer] = value instead\n",
      "\n",
      "See the caveats in the documentation: http://pandas.pydata.org/pandas-docs/stable/indexing.html#indexing-view-versus-copy\n",
      "  self[name] = value\n"
     ]
    }
   ],
   "source": [
    "print(f'The shape of data_pl {data_pl.shape}')\n",
    "data_pl_ = data_pl[data_pl.Status == 'TreatApproval']\n",
    "data_pl_.TreatmentOrientation = data_pl_.TreatmentOrientation.apply(\n",
    "    lambda x: 'NULL' if x == '' else x)\n",
    "print(f'The shape of data_pl_ {data_pl_.shape}')"
   ]
  },
  {
   "cell_type": "markdown",
   "metadata": {},
   "source": [
    "##### Course 的预处理"
   ]
  },
  {
   "cell_type": "code",
   "execution_count": 27,
   "metadata": {
    "scrolled": true
   },
   "outputs": [
    {
     "data": {
      "text/plain": [
       "C1                  24054\n",
       "1                   10772\n",
       "C2                   5113\n",
       "C3                   1997\n",
       "2                    1415\n",
       "C4                    903\n",
       "BRACHY                569\n",
       "PHYSICSQA_C           552\n",
       "MD ORIG_C1            498\n",
       "PHYSICS QA            453\n",
       "C5                    426\n",
       "RADCALC_C1            418\n",
       "3                     378\n",
       "MD ORIG_C2            274\n",
       "Brachy                268\n",
       "C6                    213\n",
       "TomoDQA_C1            213\n",
       "C1_CK_DOSE            174\n",
       "PHYSICS_QA            164\n",
       "PhysicsQA_C           149\n",
       "hypo_study            144\n",
       "NOT USED              135\n",
       "MD ORIG_C3            128\n",
       "4                     125\n",
       "Physics QA            120\n",
       "C7                    114\n",
       "PHYSICS_QA_C1         102\n",
       "TEACHING              102\n",
       "MIM SUM C1+C2          99\n",
       "PHYSICSQA_C1           93\n",
       "                    ...  \n",
       "newdose                 1\n",
       "CONTOUR SIMPLE          1\n",
       "NOTUSED2                1\n",
       "TB3 RARC SE             1\n",
       "Ignore-RR T             1\n",
       "test_epoon              1\n",
       "Oblique Pai             1\n",
       "RADCALC_C8              1\n",
       "try                     1\n",
       "MIM_C2+C3+C4+C6         1\n",
       "C3-TB3                  1\n",
       "Physiscs QA             1\n",
       "Mim_C1+C2+C3            1\n",
       "INITIAL PLAN            1\n",
       "new                     1\n",
       "TR-SCLAVBREAST          1\n",
       "Glen_TB3                1\n",
       "PHYSICS_QA-C1           1\n",
       "Sphere_RARC             1\n",
       "QA_Pros-21-             1\n",
       "PHYS_QA-C3              1\n",
       "MIM SUM C2+C3+C5        1\n",
       "ConeAx-Test2-SI         1\n",
       "Tomo_Plan_C             1\n",
       "STX_6MV                 1\n",
       "BRACHY PROS             1\n",
       "ImagInsert2016qa        1\n",
       "Physics_QA_C2           1\n",
       "Plan Sum C1+C2          1\n",
       "TB3 SET2 IM             1\n",
       "Name: CourseId, Length: 3118, dtype: int64"
      ]
     },
     "execution_count": 27,
     "metadata": {},
     "output_type": "execute_result"
    }
   ],
   "source": [
    "data_co.CourseId.value_counts()"
   ]
  },
  {
   "cell_type": "code",
   "execution_count": 20,
   "metadata": {},
   "outputs": [
    {
     "data": {
      "text/plain": [
       "HFS     102510\n",
       "NULL     41850\n",
       "FFS       3157\n",
       "HFP        605\n",
       "FFP        186\n",
       "HFDR        41\n",
       "HFDL        36\n",
       "FFDL        28\n",
       "FFDR         8\n",
       "Name: TreatmentOrientation, dtype: int64"
      ]
     },
     "execution_count": 20,
     "metadata": {},
     "output_type": "execute_result"
    }
   ],
   "source": [
    "data_pl.TreatmentOrientation.value_counts()"
   ]
  },
  {
   "cell_type": "markdown",
   "metadata": {},
   "source": []
  },
  {
   "cell_type": "code",
   "execution_count": 21,
   "metadata": {},
   "outputs": [
    {
     "name": "stdout",
     "output_type": "stream",
     "text": [
      "The shape of data_pd (49874, 6)\n"
     ]
    }
   ],
   "source": []
  },
  {
   "cell_type": "code",
   "execution_count": 22,
   "metadata": {},
   "outputs": [
    {
     "data": {
      "text/plain": [
       "2"
      ]
     },
     "execution_count": 22,
     "metadata": {},
     "output_type": "execute_result"
    }
   ],
   "source": [
    "data_appointment.AliasSerNum.iloc[0]"
   ]
  },
  {
   "cell_type": "markdown",
   "metadata": {},
   "source": [
    "##### ===================================================="
   ]
  },
  {
   "cell_type": "markdown",
   "metadata": {},
   "source": [
    "## 合并数据"
   ]
  },
  {
   "cell_type": "code",
   "execution_count": null,
   "metadata": {},
   "outputs": [],
   "source": []
  },
  {
   "cell_type": "code",
   "execution_count": null,
   "metadata": {},
   "outputs": [],
   "source": []
  },
  {
   "cell_type": "code",
   "execution_count": null,
   "metadata": {},
   "outputs": [],
   "source": []
  }
 ],
 "metadata": {
  "kernelspec": {
   "display_name": "Python 3",
   "language": "python",
   "name": "python3"
  },
  "language_info": {
   "codemirror_mode": {
    "name": "ipython",
    "version": 3
   },
   "file_extension": ".py",
   "mimetype": "text/x-python",
   "name": "python",
   "nbconvert_exporter": "python",
   "pygments_lexer": "ipython3",
   "version": "3.7.3"
  }
 },
 "nbformat": 4,
 "nbformat_minor": 2
}
