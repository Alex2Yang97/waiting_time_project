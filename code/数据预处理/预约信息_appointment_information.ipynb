{
 "cells": [
  {
   "cell_type": "code",
   "execution_count": 3,
   "metadata": {},
   "outputs": [],
   "source": [
    "import pymysql\n",
    "import pandas as pd\n",
    "import numpy as np\n",
    "import datetime\n",
    "import gc\n",
    "import sys\n",
    "sys.path.append(r'D:\\jupyter files\\waiting_time_project\\my_tools')\n",
    "import tools_for_os.for_df as ml_df"
   ]
  },
  {
   "cell_type": "code",
   "execution_count": 2,
   "metadata": {},
   "outputs": [
    {
     "name": "stdout",
     "output_type": "stream",
     "text": [
      "The shape of data_appointment (1074478, 17)\n",
      "The shape of data_dx (39486, 12)\n",
      "The shape of data_dxt (1291, 6)\n",
      "The shape of data_pt (51062, 2)\n",
      "The shape of data_ptc (51308, 6)\n",
      "The shape of data_co (58360, 11)\n",
      "The shape of data_pl (148421, 13)\n",
      "The shape of data_pd (148770, 7)\n"
     ]
    }
   ],
   "source": [
    "sql_appointment = \"\"\"SELECT * FROM appointment\"\"\"\n",
    "data_appointment = ml_df.get_df_from_sql(sql_appointment)\n",
    "print(f'The shape of data_appointment {data_appointment.shape}')\n",
    "sql_dx = \"\"\"SELECT * FROM diagnosis\"\"\"\n",
    "data_dx = ml_df.get_df_from_sql(sql_dx)\n",
    "print(f'The shape of data_dx {data_dx.shape}')\n",
    "sql_dxt = \"\"\"SELECT * FROM diagnosistranslation\"\"\"\n",
    "data_dxt = ml_df.get_df_from_sql(sql_dxt)\n",
    "print(f'The shape of data_dxt {data_dxt.shape}')\n",
    "sql_pt = \"\"\"SELECT * FROM patient\"\"\"\n",
    "data_pt = ml_df.get_df_from_sql(sql_pt)\n",
    "print(f'The shape of data_pt {data_pt.shape}')\n",
    "sql_ptc = \"\"\"SELECT * FROM patientcopy\"\"\"\n",
    "data_ptc = ml_df.get_df_from_sql(sql_ptc)\n",
    "print(f'The shape of data_ptc {data_ptc.shape}')\n",
    "sql_co = \"\"\"SELECT * FROM course\"\"\"\n",
    "data_co = ml_df.get_df_from_sql(sql_co)\n",
    "print(f'The shape of data_co {data_co.shape}')\n",
    "sql_pl = \"\"\"SELECT * FROM plan\"\"\"\n",
    "data_pl = ml_df.get_df_from_sql(sql_pl)\n",
    "print(f'The shape of data_pl {data_pl.shape}')\n",
    "sql_pd = \"\"\"SELECT * FROM patientdoctor\"\"\"\n",
    "data_pd = ml_df.get_df_from_sql(sql_pd)\n",
    "print(f'The shape of data_pd {data_pd.shape}')"
   ]
  },
  {
   "cell_type": "code",
   "execution_count": 4,
   "metadata": {},
   "outputs": [
    {
     "name": "stdout",
     "output_type": "stream",
     "text": [
      "Drop columns\n"
     ]
    }
   ],
   "source": [
    "try:\n",
    "    data_appointment.drop(columns = ['LastUpdated'], inplace = True)\n",
    "    data_dx.drop('LastUpdated', axis = 1, inplace = True)\n",
    "    data_dxt.drop('LastUpdated', axis = 1, inplace = True)\n",
    "    data_pt.drop('LastUpdated', axis = 1, inplace = True)\n",
    "    data_ptc.drop('LastUpdated', axis = 1, inplace = True)\n",
    "    data_co.drop('LastUpdated', axis = 1, inplace = True)\n",
    "    data_pl.drop('LastUpdated', axis = 1, inplace = True)\n",
    "    data_pd.drop('LastUpdated', axis = 1, inplace = True)\n",
    "    print('Drop columns')\n",
    "except:\n",
    "    print('Finish droppping columns')"
   ]
  },
  {
   "cell_type": "markdown",
   "metadata": {},
   "source": [
    "=========================================================================="
   ]
  },
  {
   "cell_type": "markdown",
   "metadata": {},
   "source": [
    "## Appointment 表"
   ]
  },
  {
   "cell_type": "code",
   "execution_count": 4,
   "metadata": {},
   "outputs": [
    {
     "data": {
      "text/plain": [
       "Index(['AppointmentSerNum', 'PatientSerNum', 'AppointmentAriaSer',\n",
       "       'ActivityInstanceAriaSer', 'DiagnosisSerNum', 'PrioritySerNum',\n",
       "       'AliasSerNum', 'AliasExpressionSerNum', 'Status', 'State',\n",
       "       'ScheduledStartTime', 'ScheduledEndTime', 'ActualStartDate',\n",
       "       'ActualEndDate', 'EstimatedDuration', 'HstryUserName'],\n",
       "      dtype='object')"
      ]
     },
     "execution_count": 4,
     "metadata": {},
     "output_type": "execute_result"
    }
   ],
   "source": [
    "data_appointment.columns"
   ]
  },
  {
   "cell_type": "code",
   "execution_count": 5,
   "metadata": {},
   "outputs": [
    {
     "data": {
      "text/plain": [
       "datetime.datetime(1970, 1, 1, 0, 0)"
      ]
     },
     "execution_count": 5,
     "metadata": {},
     "output_type": "execute_result"
    }
   ],
   "source": [
    "data_appointment.ActualStartDate.iloc[0]"
   ]
  },
  {
   "cell_type": "code",
   "execution_count": 6,
   "metadata": {},
   "outputs": [
    {
     "name": "stdout",
     "output_type": "stream",
     "text": [
      "The shape of data_appointment (1074478, 16)\n",
      "The shape of data_appointment (370303, 16)\n"
     ]
    }
   ],
   "source": [
    "print(f'The shape of data_appointment {data_appointment.shape}')\n",
    "data_appointment = data_appointment[\n",
    "    (data_appointment.ActualStartDate != datetime.datetime(1970, 1, 1, 0, 0))&\n",
    "    (data_appointment.ActualEndDate != datetime.datetime(1970, 1, 1, 0, 0))]\n",
    "print(f'The shape of data_appointment {data_appointment.shape}')"
   ]
  },
  {
   "cell_type": "code",
   "execution_count": 7,
   "metadata": {},
   "outputs": [
    {
     "data": {
      "text/plain": [
       "Completed           369089\n",
       "Pt. CompltFinish      1210\n",
       "                         4\n",
       "Name: Status, dtype: int64"
      ]
     },
     "execution_count": 7,
     "metadata": {},
     "output_type": "execute_result"
    }
   ],
   "source": [
    "data_appointment.Status.value_counts()"
   ]
  },
  {
   "cell_type": "code",
   "execution_count": 8,
   "metadata": {},
   "outputs": [
    {
     "data": {
      "text/plain": [
       "Active     370296\n",
       "                4\n",
       "Deleted         3\n",
       "Name: State, dtype: int64"
      ]
     },
     "execution_count": 8,
     "metadata": {},
     "output_type": "execute_result"
    }
   ],
   "source": [
    "data_appointment.State.value_counts()"
   ]
  },
  {
   "cell_type": "code",
   "execution_count": 9,
   "metadata": {
    "scrolled": true
   },
   "outputs": [
    {
     "name": "stdout",
     "output_type": "stream",
     "text": [
      "The shape of data_appointment (370303, 16)\n",
      "The shape of data_appointment (370296, 16)\n",
      "The shape of data_appointment (370296, 16)\n"
     ]
    }
   ],
   "source": [
    "print(f'The shape of data_appointment {data_appointment.shape}')\n",
    "data_appointment = data_appointment[data_appointment.State == 'Active']\n",
    "print(f'The shape of data_appointment {data_appointment.shape}')\n",
    "data_appointment = data_appointment[(data_appointment.Status == 'Completed') | \n",
    "                                    (data_appointment.Status == 'Pt. CompltFinish')]\n",
    "print(f'The shape of data_appointment {data_appointment.shape}')"
   ]
  },
  {
   "cell_type": "markdown",
   "metadata": {},
   "source": [
    "## PatientDoctor 表"
   ]
  },
  {
   "cell_type": "code",
   "execution_count": 10,
   "metadata": {
    "collapsed": true
   },
   "outputs": [
    {
     "data": {
      "text/plain": [
       "37    148770\n",
       "Name: AliasSerNum, dtype: int64"
      ]
     },
     "execution_count": 10,
     "metadata": {},
     "output_type": "execute_result"
    }
   ],
   "source": [
    "data_pd.AliasSerNum.value_counts()"
   ]
  },
  {
   "cell_type": "markdown",
   "metadata": {},
   "source": [
    "##### PatientDoctor 表中，AliasSerNum 只有37"
   ]
  },
  {
   "cell_type": "markdown",
   "metadata": {},
   "source": [
    "##### 筛选出 OncologistFlag = 1，PrimaryFlag = 1 的数据"
   ]
  },
  {
   "cell_type": "code",
   "execution_count": 11,
   "metadata": {
    "collapsed": true
   },
   "outputs": [
    {
     "name": "stdout",
     "output_type": "stream",
     "text": [
      "The shape of data_pd (148770, 6)\n",
      "The shape of data_pd (51535, 6)\n",
      "The shape of data_pd (49874, 6)\n"
     ]
    }
   ],
   "source": [
    "print(f'The shape of data_pd {data_pd.shape}')\n",
    "data_pd = data_pd[data_pd.OncologistFlag == 1]\n",
    "print(f'The shape of data_pd {data_pd.shape}')\n",
    "data_pd = data_pd[data_pd.PrimaryFlag == 1]\n",
    "print(f'The shape of data_pd {data_pd.shape}')"
   ]
  },
  {
   "cell_type": "markdown",
   "metadata": {},
   "source": [
    "## Plan 表"
   ]
  },
  {
   "cell_type": "code",
   "execution_count": 12,
   "metadata": {
    "collapsed": true
   },
   "outputs": [
    {
     "data": {
      "text/html": [
       "<div>\n",
       "<style scoped>\n",
       "    .dataframe tbody tr th:only-of-type {\n",
       "        vertical-align: middle;\n",
       "    }\n",
       "\n",
       "    .dataframe tbody tr th {\n",
       "        vertical-align: top;\n",
       "    }\n",
       "\n",
       "    .dataframe thead th {\n",
       "        text-align: right;\n",
       "    }\n",
       "</style>\n",
       "<table border=\"1\" class=\"dataframe\">\n",
       "  <thead>\n",
       "    <tr style=\"text-align: right;\">\n",
       "      <th></th>\n",
       "      <th>PlanSerNum</th>\n",
       "      <th>CourseSerNum</th>\n",
       "      <th>PlanAriaSer</th>\n",
       "      <th>PlanId</th>\n",
       "      <th>AliasSerNum</th>\n",
       "      <th>AliasExpressionSerNum</th>\n",
       "      <th>TreatmentOrientation</th>\n",
       "      <th>CreationDate</th>\n",
       "      <th>Status</th>\n",
       "      <th>StatusDate</th>\n",
       "      <th>TreatmentType</th>\n",
       "      <th>Intent</th>\n",
       "    </tr>\n",
       "  </thead>\n",
       "  <tbody>\n",
       "    <tr>\n",
       "      <th>0</th>\n",
       "      <td>1</td>\n",
       "      <td>40522</td>\n",
       "      <td>929513</td>\n",
       "      <td>FT1 RT BREAST</td>\n",
       "      <td>37</td>\n",
       "      <td>0</td>\n",
       "      <td>HFS</td>\n",
       "      <td>2015-08-03 09:53:00</td>\n",
       "      <td>TreatApproval</td>\n",
       "      <td>2015-08-05 11:56:00</td>\n",
       "      <td>Linac</td>\n",
       "      <td>CURATIVE</td>\n",
       "    </tr>\n",
       "    <tr>\n",
       "      <th>1</th>\n",
       "      <td>2</td>\n",
       "      <td>40438</td>\n",
       "      <td>929546</td>\n",
       "      <td>FT1 RT BREAST</td>\n",
       "      <td>37</td>\n",
       "      <td>0</td>\n",
       "      <td>HFS</td>\n",
       "      <td>2015-08-03 11:40:00</td>\n",
       "      <td>TreatApproval</td>\n",
       "      <td>2015-08-05 14:23:00</td>\n",
       "      <td>Linac</td>\n",
       "      <td>CURATIVE</td>\n",
       "    </tr>\n",
       "    <tr>\n",
       "      <th>2</th>\n",
       "      <td>3</td>\n",
       "      <td>40024</td>\n",
       "      <td>922090</td>\n",
       "      <td>FP1 RT BREAST</td>\n",
       "      <td>37</td>\n",
       "      <td>0</td>\n",
       "      <td>HFS</td>\n",
       "      <td>2015-06-25 16:15:00</td>\n",
       "      <td>TreatApproval</td>\n",
       "      <td>2015-06-29 14:52:00</td>\n",
       "      <td>Linac</td>\n",
       "      <td>CURATIVE</td>\n",
       "    </tr>\n",
       "    <tr>\n",
       "      <th>3</th>\n",
       "      <td>4</td>\n",
       "      <td>40569</td>\n",
       "      <td>928000</td>\n",
       "      <td>FT1 LT BREAST</td>\n",
       "      <td>37</td>\n",
       "      <td>0</td>\n",
       "      <td>HFS</td>\n",
       "      <td>2015-07-27 15:34:00</td>\n",
       "      <td>Retired</td>\n",
       "      <td>2015-08-04 09:16:00</td>\n",
       "      <td>Linac</td>\n",
       "      <td>CURATIVE</td>\n",
       "    </tr>\n",
       "    <tr>\n",
       "      <th>4</th>\n",
       "      <td>5</td>\n",
       "      <td>40644</td>\n",
       "      <td>929664</td>\n",
       "      <td>FT1 LT BREAST</td>\n",
       "      <td>37</td>\n",
       "      <td>0</td>\n",
       "      <td>HFS</td>\n",
       "      <td>2015-08-04 09:56:00</td>\n",
       "      <td>TreatApproval</td>\n",
       "      <td>2015-08-05 13:29:00</td>\n",
       "      <td>Linac</td>\n",
       "      <td>CURATIVE</td>\n",
       "    </tr>\n",
       "  </tbody>\n",
       "</table>\n",
       "</div>"
      ],
      "text/plain": [
       "   PlanSerNum  CourseSerNum  PlanAriaSer         PlanId  AliasSerNum  \\\n",
       "0           1         40522       929513  FT1 RT BREAST           37   \n",
       "1           2         40438       929546  FT1 RT BREAST           37   \n",
       "2           3         40024       922090  FP1 RT BREAST           37   \n",
       "3           4         40569       928000  FT1 LT BREAST           37   \n",
       "4           5         40644       929664  FT1 LT BREAST           37   \n",
       "\n",
       "   AliasExpressionSerNum TreatmentOrientation        CreationDate  \\\n",
       "0                      0                  HFS 2015-08-03 09:53:00   \n",
       "1                      0                  HFS 2015-08-03 11:40:00   \n",
       "2                      0                  HFS 2015-06-25 16:15:00   \n",
       "3                      0                  HFS 2015-07-27 15:34:00   \n",
       "4                      0                  HFS 2015-08-04 09:56:00   \n",
       "\n",
       "          Status          StatusDate TreatmentType    Intent  \n",
       "0  TreatApproval 2015-08-05 11:56:00         Linac  CURATIVE  \n",
       "1  TreatApproval 2015-08-05 14:23:00         Linac  CURATIVE  \n",
       "2  TreatApproval 2015-06-29 14:52:00         Linac  CURATIVE  \n",
       "3        Retired 2015-08-04 09:16:00         Linac  CURATIVE  \n",
       "4  TreatApproval 2015-08-05 13:29:00         Linac  CURATIVE  "
      ]
     },
     "execution_count": 12,
     "metadata": {},
     "output_type": "execute_result"
    }
   ],
   "source": [
    "data_pl.head()"
   ]
  },
  {
   "cell_type": "code",
   "execution_count": 13,
   "metadata": {
    "collapsed": true
   },
   "outputs": [
    {
     "data": {
      "text/plain": [
       "Unapproved          74207\n",
       "TreatApproval       47300\n",
       "Rejected            14855\n",
       "PlanApproval         4944\n",
       "Retired              3873\n",
       "CompletedEarly       2550\n",
       "Completed             458\n",
       "ExternalApproval      222\n",
       "Reviewed               12\n",
       "Name: Status, dtype: int64"
      ]
     },
     "execution_count": 13,
     "metadata": {},
     "output_type": "execute_result"
    }
   ],
   "source": [
    "data_pl.Status.value_counts()"
   ]
  },
  {
   "cell_type": "code",
   "execution_count": 14,
   "metadata": {
    "collapsed": true
   },
   "outputs": [
    {
     "data": {
      "text/plain": [
       "EmergencyPS        7162\n",
       "1                  1489\n",
       "FP1 BRAIN          1395\n",
       "ORIGINAL           1337\n",
       "FINAL PLAN 1       1310\n",
       "FP1 PROSTATE       1249\n",
       "FILMS              1162\n",
       "FP1 PELVIS         1155\n",
       "BRAIN              1000\n",
       "RT BREAST           972\n",
       "LT BREAST           936\n",
       "FP1 RBREAST         875\n",
       "FILM                835\n",
       "FP1 ENT             829\n",
       "2                   818\n",
       "FP1 RT BREAST       789\n",
       "FP1 LT BREAST       783\n",
       "CF                  740\n",
       "FP1 LBREAST         722\n",
       "PROSTATE            653\n",
       "PELVIS              626\n",
       "FP1 RLUNG           619\n",
       "FP1_BRAIN           588\n",
       "FP2 LT BREAST       567\n",
       "FP1 RT LUNG         522\n",
       "FP1 RECTUM          512\n",
       "FP2 RT BREAST       474\n",
       "FP1 LLUNG           468\n",
       "CFS                 466\n",
       "PS1                 458\n",
       "                   ... \n",
       "NEW OPT               1\n",
       "C2M1P2                1\n",
       "FILM RECTUM REC       1\n",
       "E Lt Bst              1\n",
       "FP1LBREASTBHr         1\n",
       "EXTENDED DIST         1\n",
       "PL1 Ant/Neck          1\n",
       "BLADDER MOD           1\n",
       "C-SPINE-6x            1\n",
       "FP1LTLG48GNHC         1\n",
       "QA_FP1_STOMAC         1\n",
       "THIGH PL2             1\n",
       "FP1 LT FLAN #         1\n",
       "MOD.PL1               1\n",
       "FP1 ANTCW el          1\n",
       "FP1 ESOPHsup          1\n",
       "MOD PL1SET-UP         1\n",
       "_Spine_SimTes         1\n",
       "dmax 1000             1\n",
       "7FLD TwoCntr          1\n",
       "GTV 2                 1\n",
       "ANT SUPCLAV           1\n",
       "TRY 1                 1\n",
       "SETUP pl1             1\n",
       "mp4                   1\n",
       "rapidarc RR           1\n",
       "RARC_crazy6           1\n",
       "CF AX SPCLV           1\n",
       "FP3 ShortSSD          1\n",
       "FP1_TSPINE T7         1\n",
       "Name: PlanId, Length: 39712, dtype: int64"
      ]
     },
     "execution_count": 14,
     "metadata": {},
     "output_type": "execute_result"
    }
   ],
   "source": [
    "data_pl.PlanId.value_counts()"
   ]
  },
  {
   "cell_type": "code",
   "execution_count": 15,
   "metadata": {},
   "outputs": [
    {
     "name": "stdout",
     "output_type": "stream",
     "text": [
      "The shape of data_pl (148421, 12)\n",
      "The shape of data_pl_ (47300, 12)\n"
     ]
    }
   ],
   "source": [
    "print(f'The shape of data_pl {data_pl.shape}')\n",
    "data_pl_ = data_pl[data_pl.Status == 'TreatApproval']\n",
    "print(f'The shape of data_pl_ {data_pl_.shape}')"
   ]
  },
  {
   "cell_type": "code",
   "execution_count": 16,
   "metadata": {
    "collapsed": true
   },
   "outputs": [
    {
     "data": {
      "text/plain": [
       "FP1 BRAIN        1093\n",
       "FP1 PROSTATE     1074\n",
       "FP1 RBREAST       768\n",
       "FP1 PELVIS        727\n",
       "FP1 RT BREAST     648\n",
       "FP1 LBREAST       621\n",
       "FP1 LT BREAST     615\n",
       "FP2 LT BREAST     521\n",
       "FP1 RLUNG         515\n",
       "FP1_BRAIN         490\n",
       "FP2 RT BREAST     436\n",
       "FP2 LBREAST       412\n",
       "FP1 RT LUNG       390\n",
       "FP1 RECTUM        376\n",
       "FP1 LLUNG         370\n",
       "FP1 ENT           366\n",
       "FP2 RBREAST       363\n",
       "FP1 CHEST         327\n",
       "FP2 PROSTATE      327\n",
       "FP1 ABDOMEN       305\n",
       "FP1 LT LUNG       276\n",
       "FP1 WBI           263\n",
       "FT1 LT BREAST     241\n",
       "FP1 PELVIS #      240\n",
       "FP1_PELVIS        238\n",
       "FP1 LBREASTBH     230\n",
       "C1_FP1_BRAIN      206\n",
       "FT1 RT BREAST     205\n",
       "FP1 BLADDER       204\n",
       "FP2 RECTUM        200\n",
       "                 ... \n",
       "DAN NOV 20          1\n",
       "FP1_DIAPHRAGM       1\n",
       "RT ILLIAC CRE       1\n",
       "Vaginal_MOD         1\n",
       "FP1-RT CHEST        1\n",
       "Lt Arm Site 2       1\n",
       "QA_C1_FP1_mc        1\n",
       "FPL1C1-C4           1\n",
       "FP1LHEMIPELVI       1\n",
       "CB_TEST             1\n",
       "GP1 LARYNX          1\n",
       "T2                  1\n",
       "P1 Lat lankle       1\n",
       "FPL1 T11-S3         1\n",
       "FP1 L Chest         1\n",
       "FP1 SCLV            1\n",
       "FP1 LT BRmp         1\n",
       "FB1 L3 SPINE        1\n",
       "BARCHY LT BST       1\n",
       "FP1 R_LCW           1\n",
       "FP1 LTELBOW         1\n",
       "1P1 LFOREARM        1\n",
       "M1P1 RCW BH         1\n",
       "THIN MCISOHU1       1\n",
       "FP1LFOREARM         1\n",
       "FP1a LLEG INF       1\n",
       "OESOPH BRK          1\n",
       "FP1_ENTC0           1\n",
       "FP1_T11-L4 #2       1\n",
       "M1P1RT AXIL #       1\n",
       "Name: PlanId, Length: 10977, dtype: int64"
      ]
     },
     "execution_count": 16,
     "metadata": {},
     "output_type": "execute_result"
    }
   ],
   "source": [
    "data_pl_.PlanId.value_counts()"
   ]
  },
  {
   "cell_type": "code",
   "execution_count": 17,
   "metadata": {},
   "outputs": [
    {
     "data": {
      "text/plain": [
       "Index(['DiagnosisSerNum', 'PatientSerNum', 'AliasSerNum', 'DiagnosisAriaSer',\n",
       "       'DiagnosisCreationDate', 'DiagnosisCode', 'Description',\n",
       "       'HistologyCode', 'HistDescription', 'ObjectStatus', 'DiagnosisType'],\n",
       "      dtype='object')"
      ]
     },
     "execution_count": 17,
     "metadata": {},
     "output_type": "execute_result"
    }
   ],
   "source": [
    "data_dx.columns"
   ]
  },
  {
   "cell_type": "code",
   "execution_count": 18,
   "metadata": {
    "collapsed": true
   },
   "outputs": [
    {
     "data": {
      "text/plain": [
       "C50.9     5794\n",
       "C34.9     3620\n",
       "C61       3541\n",
       "C79.5     2164\n",
       "C79.3     1178\n",
       "C20       1072\n",
       "C71.9     1057\n",
       "C34.1     1050\n",
       "C61.9      795\n",
       "C50.4      761\n",
       "C54.1      704\n",
       "C85.9      680\n",
       "C67.9      572\n",
       "C49.9      564\n",
       "C50.8      416\n",
       "C34.3      391\n",
       "C80        369\n",
       "C20.9      329\n",
       "C78.0      321\n",
       "C64        306\n",
       "C41.2      305\n",
       "C18.9      295\n",
       "C53.9      287\n",
       "C43.9      285\n",
       "D05.1      283\n",
       "D05.9      281\n",
       "C15.9      281\n",
       "C44.9      264\n",
       "C79.4      230\n",
       "C41.4      226\n",
       "          ... \n",
       "C69.2q       1\n",
       "D38.4        1\n",
       "C49.2s       1\n",
       "348.5        1\n",
       "724.50       1\n",
       "C72.2r       1\n",
       "C38.1        1\n",
       "C58          1\n",
       "C51.9s       1\n",
       "C05.9p       1\n",
       "C25.1        1\n",
       "191.3        1\n",
       "C16.0a       1\n",
       "719.26       1\n",
       "C77.0s       1\n",
       "J98.4        1\n",
       "C11.3        1\n",
       "C38.4c       1\n",
       "789.0        1\n",
       "C04.8p       1\n",
       "C53.9p       1\n",
       "K86.8        1\n",
       "C50.40       1\n",
       "191.1        1\n",
       "C25.3        1\n",
       "192.1        1\n",
       "780.7        1\n",
       "C42.2a       1\n",
       "M54.5        1\n",
       "197.7        1\n",
       "Name: DiagnosisCode, Length: 994, dtype: int64"
      ]
     },
     "execution_count": 18,
     "metadata": {},
     "output_type": "execute_result"
    }
   ],
   "source": [
    "data_dx.DiagnosisCode.value_counts()"
   ]
  },
  {
   "cell_type": "code",
   "execution_count": 19,
   "metadata": {},
   "outputs": [
    {
     "data": {
      "text/plain": [
       "Index(['DiagnosisTranslationSerNum', 'AliasName', 'WLMAliasName',\n",
       "       'WLMAliasDetailed', 'DiagnosisCode'],\n",
       "      dtype='object')"
      ]
     },
     "execution_count": 19,
     "metadata": {},
     "output_type": "execute_result"
    }
   ],
   "source": [
    "data_dxt.columns"
   ]
  },
  {
   "cell_type": "code",
   "execution_count": 20,
   "metadata": {
    "scrolled": true
   },
   "outputs": [
    {
     "data": {
      "text/plain": [
       "(1291, 5)"
      ]
     },
     "execution_count": 20,
     "metadata": {},
     "output_type": "execute_result"
    }
   ],
   "source": [
    "data_dxt.shape"
   ]
  },
  {
   "cell_type": "markdown",
   "metadata": {},
   "source": [
    "=========================================================================="
   ]
  },
  {
   "cell_type": "markdown",
   "metadata": {},
   "source": [
    "## 数据预处理"
   ]
  },
  {
   "cell_type": "code",
   "execution_count": 29,
   "metadata": {},
   "outputs": [],
   "source": [
    "data_path = 'D:\\\\jupyter files\\\\data_waiting_time_project\\\\preprocess_data\\\\'"
   ]
  },
  {
   "cell_type": "code",
   "execution_count": 5,
   "metadata": {},
   "outputs": [],
   "source": [
    "def data_compare(df1, df2, name):\n",
    "    df_count1 = df1[name].value_counts().index.tolist()\n",
    "    df_count2 = df2[name].value_counts().index.tolist()\n",
    "    same = list(set(df_count1).intersection(set(df_count1)))\n",
    "    print(f'same: {len(same)}')\n",
    "    \n",
    "    a = list(set(df_count1).difference(set(df_count2)))\n",
    "    print(f'df1 has, df2 does not has: {len(a)}')\n",
    "    b = list(set(df_count2).difference(set(df_count1)))\n",
    "    print(f'df2 has, df1 does not has: {len(b)}')"
   ]
  },
  {
   "cell_type": "code",
   "execution_count": 6,
   "metadata": {},
   "outputs": [],
   "source": [
    "# data_compare(pl_co, pt_pd_appt_dx_dxt, 'DiagnosisSerNum')"
   ]
  },
  {
   "cell_type": "code",
   "execution_count": 23,
   "metadata": {
    "scrolled": true
   },
   "outputs": [
    {
     "name": "stdout",
     "output_type": "stream",
     "text": [
      "========================================\n",
      "Start merging data\n",
      "====================\n",
      "Process data_appointment\n",
      "\n",
      "The shape of data_appointment (1074478, 16)\n",
      "The shape of data_appointment_ (367413, 16)\n",
      "The shape of data_appointment_ (367410, 16)\n",
      "====================\n",
      "Merge data_pt and data_appointment_\n",
      "\n",
      "The shape of data_appointment_ (367410, 16)\n",
      "The shape of data_pt (51062, 1)\n",
      "pt_appt shape is (367410, 16)\n",
      "\n",
      "Merge data_ptc\n",
      "\n",
      "The shape of data_ptc (51308, 5)\n",
      "pt_appt shape is (367410, 20)\n",
      "====================\n",
      "Process data_pd\n",
      "\n",
      "The shape of data_pd (148770, 6)\n",
      "The shape of data_pd_ (49874, 6)\n",
      "====================\n",
      "Merge data_pd_ and pt_appt\n",
      "\n",
      "pt_pd_appt shape is (410947, 24)\n",
      "====================\n",
      "Merge data_dxt and data_dx\n",
      "\n",
      "The shape of data_dx (39486, 11)\n",
      "The shape of dx_dxt_ (1291, 5)\n",
      "dx_dxt shape is (51712, 15)\n",
      "\n",
      "Merge pt_appt and dx_dxt\n",
      "\n",
      "pt_pd_appt_dx_dxt shape is (459642, 36)\n",
      "====================\n",
      "Process data_pl\n",
      "\n",
      "The shape of data_pl (148421, 12)\n",
      "The shape of data_pl_ (47300, 12)\n",
      "====================\n",
      "Merge data_pl_ and data_co\n",
      "\n",
      "The shape of data_pl_ (47300, 11)\n",
      "The shape of data_co_ (58360, 9)\n",
      "pl_co shape is (47300, 19)\n",
      "\n",
      "Merge pt_pd_appt_dx_dxt and pl_co\n",
      "\n",
      "pt_pd_appt_dx_dxt_pl_co shape is (1047176, 51)\n",
      "====================\n",
      "Drop columns with same values\n",
      "\n",
      "pt_pd_appt_dx_dxt_pl_co shape (1047176, 47)\n"
     ]
    }
   ],
   "source": [
    "print('='*40)\n",
    "print(f'Start merging data')\n",
    "\n",
    "# 筛选appointment 中的数据\n",
    "print('='*20)\n",
    "print('Process data_appointment')\n",
    "print(f'\\nThe shape of data_appointment {data_appointment.shape}')\n",
    "data_appointment_ = data_appointment[((data_appointment.AliasSerNum == 31) |\n",
    "                                     (data_appointment.AliasSerNum == 23)) &\n",
    "                                     (data_appointment.ActualStartDate != datetime.datetime(1970, 1, 1, 0, 0)) &\n",
    "                                     (data_appointment.ActualEndDate != datetime.datetime(1970, 1, 1, 0, 0)) &\n",
    "                                     (data_appointment.ActualStartDate != data_appointment.ActualEndDate)]\n",
    "print(f'The shape of data_appointment_ {data_appointment_.shape}')\n",
    "\n",
    "data_appointment_ = data_appointment_[(data_appointment_.State == 'Active') &\n",
    "                                      ((data_appointment_.Status == 'Completed') |\n",
    "                                       (data_appointment_.Status == 'Pt. CompltFinish'))]\n",
    "print(f'The shape of data_appointment_ {data_appointment_.shape}')\n",
    "\n",
    "# 拼接data_pt 和data_appointment_\n",
    "print('='*20)\n",
    "print(f'Merge data_pt and data_appointment_')\n",
    "print(f'\\nThe shape of data_appointment_ {data_appointment_.shape}')\n",
    "print(f'The shape of data_pt {data_pt.shape}')\n",
    "pt_appt = pd.merge(data_appointment_, data_pt, on = 'PatientSerNum', how = 'inner')\n",
    "print(f'pt_appt shape is {pt_appt.shape}')\n",
    "# del data_appointment_, data_pt\n",
    "# gc.collect()\n",
    "\n",
    "print(f'\\nMerge data_ptc')\n",
    "print(f'\\nThe shape of data_ptc {data_ptc.shape}')\n",
    "pt_appt = pd.merge(pt_appt, data_ptc, on = 'PatientSerNum', how = 'inner')\n",
    "print(f'pt_appt shape is {pt_appt.shape}')\n",
    "# del data_ptc\n",
    "# gc.collect()\n",
    "\n",
    "# PatientDoctor 的预处理\n",
    "print('='*20)\n",
    "print('Process data_pd')\n",
    "print(f'\\nThe shape of data_pd {data_pd.shape}')\n",
    "data_pd_ = data_pd[(data_pd.OncologistFlag == 1) &\n",
    "                   (data_pd.PrimaryFlag == 1)]\n",
    "print(f'The shape of data_pd_ {data_pd_.shape}')\n",
    "\n",
    "# 拼接pt_appt 和data_pd_\n",
    "print('='*20)\n",
    "print(f'Merge data_pd_ and pt_appt')\n",
    "# data_pd_, data_appt AliasSerNum 不同，data_appt_ 中只保留了23、31，data_pd_ 中只有37\n",
    "data_pd_.drop('AliasSerNum', axis = 1, inplace = True)\n",
    "pt_pd_appt = pd.merge(pt_appt, data_pd_, on = 'PatientSerNum', how = 'left')\n",
    "print(f'\\npt_pd_appt shape is {pt_pd_appt.shape}')\n",
    "# del pt_appt, data_pd_\n",
    "# gc.collect()\n",
    "\n",
    "# 拼接data_dxt 和data_dx\n",
    "print('='*20)\n",
    "print(f'Merge data_dxt and data_dx')\n",
    "dx_dxt_ = data_dxt.rename(columns={'AliasName': 'dxt_AliasName'}, inplace = False) \n",
    "print(f'\\nThe shape of data_dx {data_dx.shape}')\n",
    "print(f'The shape of dx_dxt_ {dx_dxt_.shape}')\n",
    "dx_dxt = pd.merge(data_dx, dx_dxt_, on = 'DiagnosisCode', how = 'left')\n",
    "print(f'dx_dxt shape is {dx_dxt.shape}')\n",
    "\n",
    "# 拼接pt_appt 和dx_dxt\n",
    "print(f'\\nMerge pt_appt and dx_dxt')\n",
    "dx_dxt.drop('AliasSerNum', axis = 1, inplace = True)\n",
    "dx_dxt.drop('PatientSerNum', axis = 1, inplace = True)\n",
    "pt_pd_appt_dx_dxt = pd.merge(pt_pd_appt, dx_dxt, on = ['DiagnosisSerNum'], how = 'inner')\n",
    "print(f'\\npt_pd_appt_dx_dxt shape is {pt_pd_appt_dx_dxt.shape}')\n",
    "\n",
    "# Plan 的预处理\n",
    "print('='*20)\n",
    "print('Process data_pl')\n",
    "print(f'\\nThe shape of data_pl {data_pl.shape}')\n",
    "data_pl_ = data_pl[data_pl.Status == 'TreatApproval']\n",
    "data_pl_.TreatmentOrientation = data_pl_.TreatmentOrientation.apply(\n",
    "    lambda x: 'NULL' if x == '' else x)\n",
    "print(f'The shape of data_pl_ {data_pl_.shape}')\n",
    "\n",
    "# 拼接data_pl_ 和data_co\n",
    "print('='*20)\n",
    "print(f'Merge data_pl_ and data_co')\n",
    "data_pl_.drop('AliasSerNum', axis = 1, inplace = True)\n",
    "data_co_ = data_co.drop('AliasSerNum', axis = 1, inplace = False)\n",
    "print(f'\\nThe shape of data_pl_ {data_pl_.shape}')\n",
    "print(f'The shape of data_co_ {data_co_.shape}')\n",
    "pl_co = pd.merge(data_pl_, data_co_, on = 'CourseSerNum', how = 'inner')\n",
    "print(f'pl_co shape is {pl_co.shape}')\n",
    "\n",
    "print(f'\\nMerge pt_pd_appt_dx_dxt and pl_co')\n",
    "pl_co.drop('AliasExpressionSerNum', axis = 1, inplace = True)\n",
    "pl_co.drop('DiagnosisSerNum', axis = 1, inplace = True)\n",
    "pl_co.drop('PrioritySerNum', axis = 1, inplace = True)\n",
    "pl_co.rename(columns={'Status': 'Status_plan'}, inplace=True)\n",
    "pt_pd_appt_dx_dxt_pl_co = pd.merge(pt_pd_appt_dx_dxt, pl_co,\n",
    "                                   on = ['PatientSerNum'], \n",
    "                                   how = 'inner')\n",
    "print(f'\\npt_pd_appt_dx_dxt_pl_co shape is {pt_pd_appt_dx_dxt_pl_co.shape}')\n",
    "\n",
    "# print(pt_pd_appt_dx_dxt_pl_co.columns)\n",
    "\n",
    "#　删除值完全相同的列\n",
    "print('='*20)\n",
    "print(f'Drop columns with same values')\n",
    "for col in pt_pd_appt_dx_dxt_pl_co.columns:\n",
    "    if len(pt_pd_appt_dx_dxt_pl_co[col].unique()) == 1:\n",
    "        pt_pd_appt_dx_dxt_pl_co.drop(col, axis = 1, inplace = True)\n",
    "print(f'\\npt_pd_appt_dx_dxt_pl_co shape {pt_pd_appt_dx_dxt_pl_co.shape}')\n",
    "\n",
    "# print(pt_pd_appt_dx_dxt_pl_co.columns)\n"
   ]
  },
  {
   "cell_type": "code",
   "execution_count": 25,
   "metadata": {},
   "outputs": [],
   "source": [
    "feature_columns = [\n",
    "    'dxt_AliasName',\n",
    "    'DateOfBirth', 'Sex',\n",
    "    'AliasSerNum', 'PatientSerNum', 'AppointmentSerNum',\n",
    "    'ScheduledStartTime', 'ScheduledEndTime', 'ActualStartDate', 'ActualEndDate',\n",
    "    'CourseSerNum', \n",
    "    'DoctorSerNum',\n",
    "    'PlanSerNum',\n",
    "    'TreatmentOrientation'\n",
    "]\n",
    "\n",
    "data_part1 = pt_pd_appt_dx_dxt_pl_co[feature_columns]"
   ]
  },
  {
   "cell_type": "code",
   "execution_count": 27,
   "metadata": {},
   "outputs": [
    {
     "name": "stderr",
     "output_type": "stream",
     "text": [
      "C:\\Users\\WENDY\\AppData\\Roaming\\Python\\Python37\\site-packages\\ipykernel_launcher.py:2: SettingWithCopyWarning: \n",
      "A value is trying to be set on a copy of a slice from a DataFrame.\n",
      "Try using .loc[row_indexer,col_indexer] = value instead\n",
      "\n",
      "See the caveats in the documentation: http://pandas.pydata.org/pandas-docs/stable/indexing.html#indexing-view-versus-copy\n",
      "  \n",
      "C:\\Users\\WENDY\\AppData\\Roaming\\Python\\Python37\\site-packages\\ipykernel_launcher.py:5: SettingWithCopyWarning: \n",
      "A value is trying to be set on a copy of a slice from a DataFrame.\n",
      "Try using .loc[row_indexer,col_indexer] = value instead\n",
      "\n",
      "See the caveats in the documentation: http://pandas.pydata.org/pandas-docs/stable/indexing.html#indexing-view-versus-copy\n",
      "  \"\"\"\n",
      "C:\\Users\\WENDY\\AppData\\Roaming\\Python\\Python37\\site-packages\\ipykernel_launcher.py:6: SettingWithCopyWarning: \n",
      "A value is trying to be set on a copy of a slice from a DataFrame.\n",
      "Try using .loc[row_indexer,col_indexer] = value instead\n",
      "\n",
      "See the caveats in the documentation: http://pandas.pydata.org/pandas-docs/stable/indexing.html#indexing-view-versus-copy\n",
      "  \n",
      "C:\\Users\\WENDY\\AppData\\Roaming\\Python\\Python37\\site-packages\\ipykernel_launcher.py:7: SettingWithCopyWarning: \n",
      "A value is trying to be set on a copy of a slice from a DataFrame.\n",
      "Try using .loc[row_indexer,col_indexer] = value instead\n",
      "\n",
      "See the caveats in the documentation: http://pandas.pydata.org/pandas-docs/stable/indexing.html#indexing-view-versus-copy\n",
      "  import sys\n",
      "C:\\Users\\WENDY\\AppData\\Roaming\\Python\\Python37\\site-packages\\ipykernel_launcher.py:8: SettingWithCopyWarning: \n",
      "A value is trying to be set on a copy of a slice from a DataFrame.\n",
      "Try using .loc[row_indexer,col_indexer] = value instead\n",
      "\n",
      "See the caveats in the documentation: http://pandas.pydata.org/pandas-docs/stable/indexing.html#indexing-view-versus-copy\n",
      "  \n",
      "C:\\Users\\WENDY\\AppData\\Roaming\\Python\\Python37\\site-packages\\ipykernel_launcher.py:11: SettingWithCopyWarning: \n",
      "A value is trying to be set on a copy of a slice from a DataFrame.\n",
      "Try using .loc[row_indexer,col_indexer] = value instead\n",
      "\n",
      "See the caveats in the documentation: http://pandas.pydata.org/pandas-docs/stable/indexing.html#indexing-view-versus-copy\n",
      "  # This is added back by InteractiveShellApp.init_path()\n",
      "C:\\Users\\WENDY\\AppData\\Roaming\\Python\\Python37\\site-packages\\ipykernel_launcher.py:12: SettingWithCopyWarning: \n",
      "A value is trying to be set on a copy of a slice from a DataFrame.\n",
      "Try using .loc[row_indexer,col_indexer] = value instead\n",
      "\n",
      "See the caveats in the documentation: http://pandas.pydata.org/pandas-docs/stable/indexing.html#indexing-view-versus-copy\n",
      "  if sys.path[0] == '':\n",
      "C:\\Users\\WENDY\\AppData\\Roaming\\Python\\Python37\\site-packages\\ipykernel_launcher.py:14: SettingWithCopyWarning: \n",
      "A value is trying to be set on a copy of a slice from a DataFrame\n",
      "\n",
      "See the caveats in the documentation: http://pandas.pydata.org/pandas-docs/stable/indexing.html#indexing-view-versus-copy\n",
      "  \n"
     ]
    }
   ],
   "source": [
    "# 患者年龄\n",
    "data_part1['age'] = data_part1.apply(lambda x: int((x.ActualStartDate - x.DateOfBirth).days/365), axis = 1)\n",
    "\n",
    "# 时间相关的特征，月-日-周-小时\n",
    "data_part1['month'] = data_part1.apply(lambda x: x.ScheduledStartTime.strftime(\"%m\"), axis = 1)\n",
    "data_part1['date'] = data_part1.apply(lambda x: x.ScheduledStartTime.strftime(\"%Y--%m--%d\"), axis = 1)\n",
    "data_part1['week'] = data_part1.apply(lambda x: x.ScheduledStartTime.strftime(\"%w\"), axis = 1)\n",
    "data_part1['hour'] = data_part1.apply(lambda x: x.ScheduledStartTime.strftime(\"%H\"), axis = 1)\n",
    "\n",
    "# 时长相关特征\n",
    "data_part1['Scheduled_duration'] = data_part1.apply(lambda x: (x.ScheduledEndTime - x.ScheduledStartTime).seconds/60, axis = 1)\n",
    "data_part1['Actual_duration'] = data_part1.apply(lambda x: (x.ActualEndDate - x.ActualStartDate).seconds/60, axis = 1)\n",
    "\n",
    "data_part1.sort_values(by = ['PatientSerNum', 'AppointmentSerNum'], inplace = True)"
   ]
  },
  {
   "cell_type": "code",
   "execution_count": 28,
   "metadata": {},
   "outputs": [
    {
     "data": {
      "text/html": [
       "<div>\n",
       "<style scoped>\n",
       "    .dataframe tbody tr th:only-of-type {\n",
       "        vertical-align: middle;\n",
       "    }\n",
       "\n",
       "    .dataframe tbody tr th {\n",
       "        vertical-align: top;\n",
       "    }\n",
       "\n",
       "    .dataframe thead th {\n",
       "        text-align: right;\n",
       "    }\n",
       "</style>\n",
       "<table border=\"1\" class=\"dataframe\">\n",
       "  <thead>\n",
       "    <tr style=\"text-align: right;\">\n",
       "      <th></th>\n",
       "      <th>dxt_AliasName</th>\n",
       "      <th>DateOfBirth</th>\n",
       "      <th>Sex</th>\n",
       "      <th>AliasSerNum</th>\n",
       "      <th>PatientSerNum</th>\n",
       "      <th>AppointmentSerNum</th>\n",
       "      <th>ScheduledStartTime</th>\n",
       "      <th>ScheduledEndTime</th>\n",
       "      <th>ActualStartDate</th>\n",
       "      <th>ActualEndDate</th>\n",
       "      <th>...</th>\n",
       "      <th>DoctorSerNum</th>\n",
       "      <th>PlanSerNum</th>\n",
       "      <th>TreatmentOrientation</th>\n",
       "      <th>age</th>\n",
       "      <th>month</th>\n",
       "      <th>date</th>\n",
       "      <th>week</th>\n",
       "      <th>hour</th>\n",
       "      <th>Scheduled_duration</th>\n",
       "      <th>Actual_duration</th>\n",
       "    </tr>\n",
       "  </thead>\n",
       "  <tbody>\n",
       "    <tr>\n",
       "      <th>0</th>\n",
       "      <td>Breast</td>\n",
       "      <td>1948-09-13 00:00:00</td>\n",
       "      <td>Female</td>\n",
       "      <td>31</td>\n",
       "      <td>18</td>\n",
       "      <td>567562</td>\n",
       "      <td>2008-05-09 10:15:00</td>\n",
       "      <td>2008-05-09 10:30:00</td>\n",
       "      <td>2008-05-09 09:20:00</td>\n",
       "      <td>2008-05-09 09:53:00</td>\n",
       "      <td>...</td>\n",
       "      <td>6376.0</td>\n",
       "      <td>43453</td>\n",
       "      <td>HFS</td>\n",
       "      <td>59</td>\n",
       "      <td>05</td>\n",
       "      <td>2008--05--09</td>\n",
       "      <td>5</td>\n",
       "      <td>10</td>\n",
       "      <td>15.0</td>\n",
       "      <td>33.0</td>\n",
       "    </tr>\n",
       "    <tr>\n",
       "      <th>1</th>\n",
       "      <td>Breast</td>\n",
       "      <td>1931-04-02 00:00:00</td>\n",
       "      <td>Female</td>\n",
       "      <td>23</td>\n",
       "      <td>67</td>\n",
       "      <td>567569</td>\n",
       "      <td>2010-04-09 09:15:00</td>\n",
       "      <td>2010-04-09 09:30:00</td>\n",
       "      <td>2010-04-09 09:15:00</td>\n",
       "      <td>2010-04-09 09:28:00</td>\n",
       "      <td>...</td>\n",
       "      <td>5691.0</td>\n",
       "      <td>57293</td>\n",
       "      <td>HFS</td>\n",
       "      <td>79</td>\n",
       "      <td>04</td>\n",
       "      <td>2010--04--09</td>\n",
       "      <td>5</td>\n",
       "      <td>09</td>\n",
       "      <td>15.0</td>\n",
       "      <td>13.0</td>\n",
       "    </tr>\n",
       "    <tr>\n",
       "      <th>2</th>\n",
       "      <td>Breast</td>\n",
       "      <td>1931-04-02 00:00:00</td>\n",
       "      <td>Female</td>\n",
       "      <td>23</td>\n",
       "      <td>67</td>\n",
       "      <td>567570</td>\n",
       "      <td>2010-04-12 09:15:00</td>\n",
       "      <td>2010-04-12 09:30:00</td>\n",
       "      <td>2010-04-12 08:57:00</td>\n",
       "      <td>2010-04-12 09:09:00</td>\n",
       "      <td>...</td>\n",
       "      <td>5691.0</td>\n",
       "      <td>57293</td>\n",
       "      <td>HFS</td>\n",
       "      <td>79</td>\n",
       "      <td>04</td>\n",
       "      <td>2010--04--12</td>\n",
       "      <td>1</td>\n",
       "      <td>09</td>\n",
       "      <td>15.0</td>\n",
       "      <td>12.0</td>\n",
       "    </tr>\n",
       "    <tr>\n",
       "      <th>3</th>\n",
       "      <td>Breast</td>\n",
       "      <td>1931-04-02 00:00:00</td>\n",
       "      <td>Female</td>\n",
       "      <td>23</td>\n",
       "      <td>67</td>\n",
       "      <td>567571</td>\n",
       "      <td>2010-04-13 09:15:00</td>\n",
       "      <td>2010-04-13 09:30:00</td>\n",
       "      <td>2010-04-13 09:40:00</td>\n",
       "      <td>2010-04-13 09:56:00</td>\n",
       "      <td>...</td>\n",
       "      <td>5691.0</td>\n",
       "      <td>57293</td>\n",
       "      <td>HFS</td>\n",
       "      <td>79</td>\n",
       "      <td>04</td>\n",
       "      <td>2010--04--13</td>\n",
       "      <td>2</td>\n",
       "      <td>09</td>\n",
       "      <td>15.0</td>\n",
       "      <td>16.0</td>\n",
       "    </tr>\n",
       "    <tr>\n",
       "      <th>4</th>\n",
       "      <td>Breast</td>\n",
       "      <td>1931-04-02 00:00:00</td>\n",
       "      <td>Female</td>\n",
       "      <td>23</td>\n",
       "      <td>67</td>\n",
       "      <td>567572</td>\n",
       "      <td>2010-04-14 09:15:00</td>\n",
       "      <td>2010-04-14 09:30:00</td>\n",
       "      <td>2010-04-14 09:06:00</td>\n",
       "      <td>2010-04-14 09:46:00</td>\n",
       "      <td>...</td>\n",
       "      <td>5691.0</td>\n",
       "      <td>57293</td>\n",
       "      <td>HFS</td>\n",
       "      <td>79</td>\n",
       "      <td>04</td>\n",
       "      <td>2010--04--14</td>\n",
       "      <td>3</td>\n",
       "      <td>09</td>\n",
       "      <td>15.0</td>\n",
       "      <td>40.0</td>\n",
       "    </tr>\n",
       "  </tbody>\n",
       "</table>\n",
       "<p>5 rows × 21 columns</p>\n",
       "</div>"
      ],
      "text/plain": [
       "  dxt_AliasName          DateOfBirth     Sex  AliasSerNum  PatientSerNum  \\\n",
       "0        Breast  1948-09-13 00:00:00  Female           31             18   \n",
       "1        Breast  1931-04-02 00:00:00  Female           23             67   \n",
       "2        Breast  1931-04-02 00:00:00  Female           23             67   \n",
       "3        Breast  1931-04-02 00:00:00  Female           23             67   \n",
       "4        Breast  1931-04-02 00:00:00  Female           23             67   \n",
       "\n",
       "   AppointmentSerNum   ScheduledStartTime     ScheduledEndTime  \\\n",
       "0             567562  2008-05-09 10:15:00  2008-05-09 10:30:00   \n",
       "1             567569  2010-04-09 09:15:00  2010-04-09 09:30:00   \n",
       "2             567570  2010-04-12 09:15:00  2010-04-12 09:30:00   \n",
       "3             567571  2010-04-13 09:15:00  2010-04-13 09:30:00   \n",
       "4             567572  2010-04-14 09:15:00  2010-04-14 09:30:00   \n",
       "\n",
       "       ActualStartDate        ActualEndDate  ...  DoctorSerNum  PlanSerNum  \\\n",
       "0  2008-05-09 09:20:00  2008-05-09 09:53:00  ...        6376.0       43453   \n",
       "1  2010-04-09 09:15:00  2010-04-09 09:28:00  ...        5691.0       57293   \n",
       "2  2010-04-12 08:57:00  2010-04-12 09:09:00  ...        5691.0       57293   \n",
       "3  2010-04-13 09:40:00  2010-04-13 09:56:00  ...        5691.0       57293   \n",
       "4  2010-04-14 09:06:00  2010-04-14 09:46:00  ...        5691.0       57293   \n",
       "\n",
       "   TreatmentOrientation age  month          date week hour Scheduled_duration  \\\n",
       "0                   HFS  59     05  2008--05--09    5   10               15.0   \n",
       "1                   HFS  79     04  2010--04--09    5   09               15.0   \n",
       "2                   HFS  79     04  2010--04--12    1   09               15.0   \n",
       "3                   HFS  79     04  2010--04--13    2   09               15.0   \n",
       "4                   HFS  79     04  2010--04--14    3   09               15.0   \n",
       "\n",
       "   Actual_duration  \n",
       "0             33.0  \n",
       "1             13.0  \n",
       "2             12.0  \n",
       "3             16.0  \n",
       "4             40.0  \n",
       "\n",
       "[5 rows x 21 columns]"
      ]
     },
     "execution_count": 28,
     "metadata": {},
     "output_type": "execute_result"
    }
   ],
   "source": [
    "data_part1.head()"
   ]
  },
  {
   "cell_type": "code",
   "execution_count": 179,
   "metadata": {},
   "outputs": [],
   "source": [
    "data_part1_grouped = data_part1.groupby('PatientSerNum')\n",
    "sample_data = data_part1_grouped.get_group(67)"
   ]
  },
  {
   "cell_type": "code",
   "execution_count": 30,
   "metadata": {},
   "outputs": [],
   "source": [
    "data_part1.to_csv(data_path + 'data_part1.csv')"
   ]
  },
  {
   "cell_type": "code",
   "execution_count": null,
   "metadata": {},
   "outputs": [],
   "source": []
  }
 ],
 "metadata": {
  "kernelspec": {
   "display_name": "Python 3",
   "language": "python",
   "name": "python3"
  },
  "language_info": {
   "codemirror_mode": {
    "name": "ipython",
    "version": 3
   },
   "file_extension": ".py",
   "mimetype": "text/x-python",
   "name": "python",
   "nbconvert_exporter": "python",
   "pygments_lexer": "ipython3",
   "version": "3.7.3"
  }
 },
 "nbformat": 4,
 "nbformat_minor": 2
}
