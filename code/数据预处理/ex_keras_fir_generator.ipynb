{
 "cells": [
  {
   "cell_type": "code",
   "execution_count": 3,
   "metadata": {},
   "outputs": [],
   "source": [
    "import numpy as np\n",
    "import tensorflow as tf\n",
    "from tensorflow.keras.models import Sequential\n",
    "from tensorflow.keras.layers import LSTM, Dense, TimeDistributed\n",
    "from tensorflow.keras.utils import to_categorical\n",
    "\n",
    "tf.compat.v1.logging.set_verbosity(tf.compat.v1.logging.ERROR)"
   ]
  },
  {
   "cell_type": "code",
   "execution_count": 5,
   "metadata": {},
   "outputs": [
    {
     "name": "stdout",
     "output_type": "stream",
     "text": [
      "Model: \"sequential_1\"\n",
      "__________________________________________________________________________________________\n",
      "Layer (type)                            Output Shape                        Param #       \n",
      "==========================================================================================\n",
      "lstm_2 (LSTM)                           (None, None, 32)                    4864          \n",
      "__________________________________________________________________________________________\n",
      "lstm_3 (LSTM)                           (None, None, 8)                     1312          \n",
      "__________________________________________________________________________________________\n",
      "time_distributed_1 (TimeDistributed)    (None, None, 2)                     18            \n",
      "==========================================================================================\n",
      "Total params: 6,194\n",
      "Trainable params: 6,194\n",
      "Non-trainable params: 0\n",
      "__________________________________________________________________________________________\n",
      "None\n"
     ]
    }
   ],
   "source": [
    "model = Sequential()\n",
    "\n",
    "model.add(LSTM(32, return_sequences=True, input_shape=(None, 5)))\n",
    "model.add(LSTM(8, return_sequences=True))\n",
    "model.add(TimeDistributed(Dense(2, activation='sigmoid')))\n",
    "\n",
    "print(model.summary(90))\n",
    "\n",
    "model.compile(loss='categorical_crossentropy',\n",
    "              optimizer='adam')"
   ]
  },
  {
   "cell_type": "code",
   "execution_count": 6,
   "metadata": {},
   "outputs": [
    {
     "name": "stdout",
     "output_type": "stream",
     "text": [
      "Epoch 1/10\n",
      "30/30 [==============================] - 3s 91ms/step - loss: 0.6932\n",
      "Epoch 2/10\n",
      "30/30 [==============================] - 2s 66ms/step - loss: 0.6853\n",
      "Epoch 3/10\n",
      "30/30 [==============================] - 2s 69ms/step - loss: 0.6713\n",
      "Epoch 4/10\n",
      "30/30 [==============================] - 3s 86ms/step - loss: 0.6297\n",
      "Epoch 5/10\n",
      "30/30 [==============================] - 2s 69ms/step - loss: 0.5258\n",
      "Epoch 6/10\n",
      "30/30 [==============================] - 2s 70ms/step - loss: 0.3964\n",
      "Epoch 7/10\n",
      "30/30 [==============================] - 2s 70ms/step - loss: 0.2978\n",
      "Epoch 8/10\n",
      "30/30 [==============================] - 2s 69ms/step - loss: 0.2244\n",
      "Epoch 9/10\n",
      "30/30 [==============================] - 2s 68ms/step - loss: 0.1765\n",
      "Epoch 10/10\n",
      "30/30 [==============================] - 2s 66ms/step - loss: 0.1455\n"
     ]
    },
    {
     "data": {
      "text/plain": [
       "<tensorflow.python.keras.callbacks.History at 0x2af8a258bc8>"
      ]
     },
     "execution_count": 6,
     "metadata": {},
     "output_type": "execute_result"
    }
   ],
   "source": [
    "def train_generator():\n",
    "    while True:\n",
    "        sequence_length = np.random.randint(10, 100)\n",
    "        x_train = np.random.random((1000, sequence_length, 5))\n",
    "        # y_train will depend on past 5 timesteps of x\n",
    "        y_train = x_train[:, :, 0]\n",
    "        for i in range(1, 5):\n",
    "            y_train[:, i:] += x_train[:, :-i, i]\n",
    "        y_train = to_categorical(y_train > 2.5)\n",
    "        yield x_train, y_train\n",
    "\n",
    "model.fit_generator(train_generator(), steps_per_epoch=30, epochs=10, verbose=1)"
   ]
  },
  {
   "cell_type": "code",
   "execution_count": null,
   "metadata": {},
   "outputs": [],
   "source": []
  }
 ],
 "metadata": {
  "kernelspec": {
   "display_name": "Python 3",
   "language": "python",
   "name": "python3"
  },
  "language_info": {
   "codemirror_mode": {
    "name": "ipython",
    "version": 3
   },
   "file_extension": ".py",
   "mimetype": "text/x-python",
   "name": "python",
   "nbconvert_exporter": "python",
   "pygments_lexer": "ipython3",
   "version": "3.7.6"
  }
 },
 "nbformat": 4,
 "nbformat_minor": 4
}
