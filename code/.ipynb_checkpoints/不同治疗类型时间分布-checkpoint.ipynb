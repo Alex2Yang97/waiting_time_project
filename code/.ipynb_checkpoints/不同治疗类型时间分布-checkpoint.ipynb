{
 "cells": [
  {
   "cell_type": "code",
   "execution_count": 1,
   "metadata": {},
   "outputs": [],
   "source": [
    "import pickle\n",
    "import MySQLdb\n",
    "import numpy as np\n",
    "import random\n",
    "import matplotlib.pyplot as plt\n",
    "import datetime\n",
    "import operator as op\n",
    "import math\n",
    "import random\n",
    "import pandas as pd\n",
    "import os"
   ]
  },
  {
   "cell_type": "code",
   "execution_count": 2,
   "metadata": {},
   "outputs": [
    {
     "name": "stdout",
     "output_type": "stream",
     "text": [
      "D:\\jupyter files\\preprocess_data_waiting_time_project already exists!\n"
     ]
    }
   ],
   "source": [
    "file_path = 'D:\\\\jupyter files\\\\'\n",
    "preprocess_path = file_path + 'preprocess_data_waiting_time_project'\n",
    "if not os.path.exists(preprocess_path):\n",
    "    os.makedirs(preprocess_path)\n",
    "else:\n",
    "    print(preprocess_path, 'already exists!')"
   ]
  },
  {
   "cell_type": "code",
   "execution_count": 5,
   "metadata": {},
   "outputs": [],
   "source": [
    "# 保存预处理之后的数据，pickle文件\n",
    "def pickle_dump(data_to_pickle, filename, local_path):\n",
    "    \"\"\" Function to write data to pickle format. \"\"\"\n",
    "    file = os.path.join(local_path, filename)\n",
    "    pickle.dump(data_to_pickle, open(file, \"wb+\"))\n",
    "\n",
    "# 读取预处理之后的数据，pickle文件\n",
    "def pickle_load(filename, local_path):\n",
    "    \"\"\" Function to load data to pickle format. \"\"\"\n",
    "    file = os.path.join(local_path, filename)\n",
    "    with open(file, 'rb') as f:\n",
    "        u = pickle._Unpickler(f)\n",
    "        u.encoding = 'latin1'\n",
    "        data = u.load()\n",
    "    return data"
   ]
  },
  {
   "cell_type": "code",
   "execution_count": 6,
   "metadata": {},
   "outputs": [],
   "source": [
    "# Connect to the MySQL database\n",
    "def getSQLtest(sql):\n",
    "    # Connect to the MySQL database\n",
    "    db = MySQLdb.connect(host='localhost',\n",
    "                         port=3306,\n",
    "                         user='root',\n",
    "                         passwd='root',\n",
    "                         db='originaldata')\n",
    "    db_cursor = db.cursor(MySQLdb.cursors.DictCursor)\n",
    "    sql0 = \"\"\"\n",
    "         set sql_mode = 'STRICT_TRANS_TABLES,NO_ZERO_IN_DATE,NO_ZERO_DATE,ERROR_FOR_DIVISION_BY_ZERO,NO_ENGINE_SUBSTITUTION';\n",
    "    \"\"\"       \n",
    "    db_cursor.execute(sql0)\n",
    "    db_cursor.execute(sql)\n",
    "    db_results = db_cursor.fetchall()\n",
    "    db_cursor.close()\n",
    "    print (\"Fetched Preliminary query results\")\n",
    "    print (\"Number of results: \" + str(len(db_results)))\n",
    "    return db_results"
   ]
  },
  {
   "cell_type": "code",
   "execution_count": 24,
   "metadata": {},
   "outputs": [],
   "source": [
    "# 没有年龄和性别\n",
    "\n",
    "# Preliminary query for feature data\n",
    "\n",
    "sql1 = \"\"\"\n",
    "    SELECT\n",
    "        ap.AppointmentSerNum,\n",
    "        ap.AliasSerNum,\n",
    "        ap.PatientSerNum,\n",
    "        ap.ScheduledStartTime,\n",
    "        ap.ScheduledEndTime,\n",
    "        ap.ActualStartDate,\n",
    "        ap.ActualEndDate,\n",
    "        \n",
    "        res.ResourceName,\n",
    "        res.ResourceType,\n",
    "        \n",
    "        ptlmh.PatientLocationMHSerNum,\n",
    "        ptlmh.RevCount,\n",
    "        ptlmh.ArrivalDateTime,\n",
    "        ptlmh.HstryDateTime,\n",
    "        ptlmh.checkedInFlag,\n",
    "        \n",
    "        ptl.ArrivalDateTime pltArrivalDateTime,\n",
    "        ptl.checkedInFlag\n",
    "        \n",
    "    FROM\n",
    "        Appointment ap\n",
    "    INNER JOIN Patientlocation ptl\n",
    "        ON ptl.AppointmentSerNum = ap.AppointmentSerNum\n",
    "    INNER JOIN Patientlocationmh ptlmh\n",
    "        ON ptlmh.AppointmentSerNum = ptl.AppointmentSerNum\n",
    "    INNER JOIN Resourceappointment resapp\n",
    "        ON resapp.AppointmentSerNum = ptlmh.AppointmentSerNum\n",
    "    INNER JOIN Resource res\n",
    "        ON res.ResourceSerNum = resapp.ResourceSerNum\n",
    "    \n",
    "    WHERE\n",
    "        ap.ActualStartDate NOT IN ('0000-00-00 00:00:00','1970-01-01 00:00:00')\n",
    "    AND ap.ActualEndDate NOT IN ('0000-00-00 00:00:00','1970-01-01 00:00:00')\n",
    "    AND ap.ScheduledStartTime NOT IN ('0000-00-00 00:00:00','1970-01-01 00:00:00')\n",
    "    AND ap.ScheduledEndTime NOT IN ('0000-00-00 00:00:00','1970-01-01 00:00:00')\n",
    "    AND ap.ActualEndDate NOT IN ('0000-00-00 00:00:00','1970-01-01 00:00:00')\n",
    "\"\"\"\n",
    "# LIMIT1: 在某些情况下，如果明知道查询结果只有一个，SQL语句中使用LIMIT 1会提高查询效率"
   ]
  },
  {
   "cell_type": "code",
   "execution_count": 25,
   "metadata": {
    "scrolled": true
   },
   "outputs": [
    {
     "name": "stdout",
     "output_type": "stream",
     "text": [
      "Executing query...\n",
      "Fetched Preliminary query results\n",
      "Number of results: 1767529\n",
      "Finish!\n"
     ]
    }
   ],
   "source": [
    "print(\"Executing query...\")\n",
    "db_timestamps = getSQLtest(sql1)\n",
    "print('Finish!')"
   ]
  },
  {
   "cell_type": "code",
   "execution_count": 13,
   "metadata": {},
   "outputs": [],
   "source": [
    "# pickle_dump(db_timestamps, 'db_timestamps.p', preprocess_path)"
   ]
  },
  {
   "cell_type": "code",
   "execution_count": 10,
   "metadata": {},
   "outputs": [],
   "source": [
    "# db_timestamps = pickle_load('db_timestamps.p', preprocess_path)"
   ]
  },
  {
   "cell_type": "code",
   "execution_count": 77,
   "metadata": {
    "scrolled": true
   },
   "outputs": [
    {
     "name": "stdout",
     "output_type": "stream",
     "text": [
      "Start getting db_timestamps dictionary\n",
      "Finish getting timestamps_dict dictionary\n",
      "The number of patients: 8232\n",
      "The number of appointments: 122933\n",
      "The number of appointments for one patients: 1494818\n"
     ]
    }
   ],
   "source": [
    "print('Start getting db_timestamps dictionary')\n",
    "timestamps_dict = {}\n",
    "\n",
    "# Loop through each result\n",
    "count_PatientSerNum = 0\n",
    "count_AppointmentSerNum = 0\n",
    "count_PatientLocationMHSerNum = 0\n",
    "\n",
    "count_machine = 0\n",
    "count_staff = 0\n",
    "\n",
    "\n",
    "for row in db_timestamps:\n",
    "    count = count + 1\n",
    "#     if count % 1000 == 0:\n",
    "#         print('Getting %d db_timestamps dictionary'%count)\n",
    "#         print(row)\n",
    "\n",
    "    # Retrieve row params    \n",
    "    PatientSerNum = row['PatientSerNum']\n",
    "    AppointmentSerNum = row['AppointmentSerNum']\n",
    "    AliasSerNum = row['AliasSerNum']\n",
    "    ScheduledStartTime = row['ScheduledStartTime']\n",
    "    ScheduledEndTime = row['ScheduledEndTime']\n",
    "    ActualStartDate = row['ActualStartDate']\n",
    "    ActualEndDate = row['ActualEndDate']\n",
    "    ResourceName = row['ResourceName']\n",
    "    ResourceType = row['ResourceType']\n",
    "    PatientLocationMHSerNum = row['PatientLocationMHSerNum']\n",
    "    RevCount = row['RevCount']\n",
    "    ArrivalDateTime = row['ArrivalDateTime']\n",
    "    HstryDateTime = row['HstryDateTime']\n",
    "    checkedInFlag = row['checkedInFlag']\n",
    "    pltArrivalDateTime = row['pltArrivalDateTime']\n",
    "    ptlcheckedInFlag = row['ptl.checkedInFlag']\n",
    "    \n",
    "    if PatientSerNum not in timestamps_dict.keys():\n",
    "        count_PatientSerNum = count_PatientSerNum + 1\n",
    "        count_AppointmentSerNum = count_AppointmentSerNum + 1\n",
    "        count_PatientLocationMHSerNum = count_PatientLocationMHSerNum + 1\n",
    "        timestamps_dict[PatientSerNum] = {\n",
    "            AppointmentSerNum: {\n",
    "                PatientLocationMHSerNum: {\n",
    "                    'ScheduledStartTime': [ScheduledStartTime],\n",
    "                    'ScheduledEndTime': [ScheduledEndTime],\n",
    "                    'ActualStartDate': [ActualStartDate],\n",
    "                    'ActualEndDate': [ActualEndDate],\n",
    "                    'ArrivalDateTime': [ArrivalDateTime],\n",
    "                    'HstryDateTime': [HstryDateTime],\n",
    "                    'pltArrivalDateTime': [pltArrivalDateTime],\n",
    "                    'AliasSerNum': [AliasSerNum],\n",
    "                    'ResourceName': [ResourceName],\n",
    "                    'ResourceType': [ResourceType],\n",
    "                    'PatientLocationMHSerNum': [PatientLocationMHSerNum],\n",
    "                    'RevCount': [RevCount],\n",
    "                    'checkedInFlag': [checkedInFlag],\n",
    "                    'ptlcheckedInFlag': [ptlcheckedInFlag]\n",
    "                }\n",
    "            }\n",
    "        }\n",
    "        continue\n",
    "        \n",
    "    if AppointmentSerNum not in timestamps_dict[PatientSerNum].keys():\n",
    "        count_AppointmentSerNum = count_AppointmentSerNum + 1\n",
    "        count_PatientLocationMHSerNum = count_PatientLocationMHSerNum + 1\n",
    "        timestamps_dict[PatientSerNum][AppointmentSerNum] = {\n",
    "            PatientLocationMHSerNum: {\n",
    "                'ScheduledStartTime': [ScheduledStartTime],\n",
    "                'ScheduledEndTime': [ScheduledEndTime],\n",
    "                'ActualStartDate': [ActualStartDate],\n",
    "                'ActualEndDate': [ActualEndDate],\n",
    "                'ArrivalDateTime': [ArrivalDateTime],\n",
    "                'HstryDateTime': [HstryDateTime],\n",
    "                'pltArrivalDateTime': [pltArrivalDateTime],\n",
    "                'AliasSerNum': [AliasSerNum],\n",
    "                'ResourceName': [ResourceName],\n",
    "                'ResourceType': [ResourceType],\n",
    "                'PatientLocationMHSerNum': [PatientLocationMHSerNum],\n",
    "                'RevCount': [RevCount],\n",
    "                'checkedInFlag': [checkedInFlag],\n",
    "                'ptlcheckedInFlag': [ptlcheckedInFlag]\n",
    "            }\n",
    "        }\n",
    "        continue\n",
    "        \n",
    "    if PatientLocationMHSerNum not in timestamps_dict[PatientSerNum][AppointmentSerNum].keys():\n",
    "        count_PatientLocationMHSerNum = count_PatientLocationMHSerNum + 1\n",
    "        timestamps_dict[PatientSerNum][AppointmentSerNum][PatientLocationMHSerNum] = {\n",
    "            'ScheduledStartTime': [ScheduledStartTime],\n",
    "            'ScheduledEndTime': [ScheduledEndTime],\n",
    "            'ActualStartDate': [ActualStartDate],\n",
    "            'ActualEndDate': [ActualEndDate],\n",
    "            'ArrivalDateTime': [ArrivalDateTime],\n",
    "            'HstryDateTime': [HstryDateTime],\n",
    "            'pltArrivalDateTime': [pltArrivalDateTime],\n",
    "            'AliasSerNum': [AliasSerNum],\n",
    "            'ResourceName': [ResourceName],\n",
    "            'ResourceType': [ResourceType],\n",
    "            'PatientLocationMHSerNum': [PatientLocationMHSerNum],\n",
    "            'RevCount': [RevCount],\n",
    "            'checkedInFlag': [checkedInFlag],\n",
    "            'ptlcheckedInFlag': [ptlcheckedInFlag]\n",
    "        }\n",
    "        continue    \n",
    "\n",
    "print('Finish getting timestamps_dict dictionary')\n",
    "print('The number of count_PatientSerNum:', count_PatientSerNum)\n",
    "print('The number of count_AppointmentSerNum:', count_AppointmentSerNum)\n",
    "print('The number of count_PatientLocationMHSerNum:', count_PatientLocationMHSerNum)"
   ]
  },
  {
   "cell_type": "code",
   "execution_count": 79,
   "metadata": {},
   "outputs": [
    {
     "name": "stdout",
     "output_type": "stream",
     "text": [
      "The number of AppointmentSerNum for one PatientSerNum: 14.933551992225462\n",
      "The number of PatientLocationMHSerNum for one AppointmentSerNum: 12.159615400258678\n",
      "The number of PatientLocationMHSerNum for one PatientSerNum: 181.58624878522838\n"
     ]
    }
   ],
   "source": [
    "print('The number of AppointmentSerNum for one PatientSerNum:', count_AppointmentSerNum / count_PatientSerNum)\n",
    "print('The number of PatientLocationMHSerNum for one AppointmentSerNum:', count_PatientLocationMHSerNum / count_AppointmentSerNum)\n",
    "print('The number of PatientLocationMHSerNum for one PatientSerNum:', count_PatientLocationMHSerNum / count_PatientSerNum)"
   ]
  },
  {
   "cell_type": "code",
   "execution_count": 93,
   "metadata": {},
   "outputs": [
    {
     "name": "stdout",
     "output_type": "stream",
     "text": [
      "[0]\n",
      "[1]\n",
      "[2]\n",
      "[3]\n",
      "[4]\n",
      "[5]\n",
      "[6]\n",
      "[7]\n",
      "[8]\n",
      "[9]\n"
     ]
    }
   ],
   "source": [
    "pat1 = list(timestamps_dict.keys())[0]\n",
    "appt1 = list(timestamps_dict[pat1].keys())[2]\n",
    "\n",
    "for patloc in timestamps_dict[pat1][appt1].values():\n",
    "    print(patloc['RevCount'])\n",
    "# pat1\n",
    "\n",
    "# for key, pat timestamps_dict[pat1].items():\n",
    "#     for appt in pat."
   ]
  },
  {
   "cell_type": "code",
   "execution_count": 92,
   "metadata": {},
   "outputs": [
    {
     "data": {
      "text/plain": [
       "{290358: {'ScheduledStartTime': [datetime.datetime(2015, 10, 20, 13, 45)],\n",
       "  'ScheduledEndTime': [datetime.datetime(2015, 10, 20, 14, 0)],\n",
       "  'ActualStartDate': [datetime.datetime(2015, 10, 20, 13, 32)],\n",
       "  'ActualEndDate': [datetime.datetime(2015, 10, 20, 13, 48)],\n",
       "  'ArrivalDateTime': [datetime.datetime(2015, 10, 20, 12, 11)],\n",
       "  'HstryDateTime': [datetime.datetime(2015, 10, 20, 12, 11)],\n",
       "  'pltArrivalDateTime': [datetime.datetime(2015, 10, 20, 13, 27)],\n",
       "  'AliasSerNum': [23],\n",
       "  'ResourceName': ['TB_4'],\n",
       "  'ResourceType': ['Machine'],\n",
       "  'PatientLocationMHSerNum': [290358],\n",
       "  'RevCount': [0],\n",
       "  'checkedInFlag': [1],\n",
       "  'ptlcheckedInFlag': [1]},\n",
       " 290359: {'ScheduledStartTime': [datetime.datetime(2015, 10, 20, 13, 45)],\n",
       "  'ScheduledEndTime': [datetime.datetime(2015, 10, 20, 14, 0)],\n",
       "  'ActualStartDate': [datetime.datetime(2015, 10, 20, 13, 32)],\n",
       "  'ActualEndDate': [datetime.datetime(2015, 10, 20, 13, 48)],\n",
       "  'ArrivalDateTime': [datetime.datetime(2015, 10, 20, 13, 27)],\n",
       "  'HstryDateTime': [datetime.datetime(2015, 10, 20, 13, 27)],\n",
       "  'pltArrivalDateTime': [datetime.datetime(2015, 10, 20, 13, 27)],\n",
       "  'AliasSerNum': [23],\n",
       "  'ResourceName': ['TB_4'],\n",
       "  'ResourceType': ['Machine'],\n",
       "  'PatientLocationMHSerNum': [290359],\n",
       "  'RevCount': [1],\n",
       "  'checkedInFlag': [1],\n",
       "  'ptlcheckedInFlag': [1]},\n",
       " 290360: {'ScheduledStartTime': [datetime.datetime(2015, 10, 20, 13, 45)],\n",
       "  'ScheduledEndTime': [datetime.datetime(2015, 10, 20, 14, 0)],\n",
       "  'ActualStartDate': [datetime.datetime(2015, 10, 20, 13, 32)],\n",
       "  'ActualEndDate': [datetime.datetime(2015, 10, 20, 13, 48)],\n",
       "  'ArrivalDateTime': [datetime.datetime(2015, 10, 20, 13, 27)],\n",
       "  'HstryDateTime': [datetime.datetime(2015, 10, 20, 13, 32)],\n",
       "  'pltArrivalDateTime': [datetime.datetime(2015, 10, 20, 13, 27)],\n",
       "  'AliasSerNum': [23],\n",
       "  'ResourceName': ['TB_4'],\n",
       "  'ResourceType': ['Machine'],\n",
       "  'PatientLocationMHSerNum': [290360],\n",
       "  'RevCount': [2],\n",
       "  'checkedInFlag': [1],\n",
       "  'ptlcheckedInFlag': [1]},\n",
       " 290361: {'ScheduledStartTime': [datetime.datetime(2015, 10, 20, 13, 45)],\n",
       "  'ScheduledEndTime': [datetime.datetime(2015, 10, 20, 14, 0)],\n",
       "  'ActualStartDate': [datetime.datetime(2015, 10, 20, 13, 32)],\n",
       "  'ActualEndDate': [datetime.datetime(2015, 10, 20, 13, 48)],\n",
       "  'ArrivalDateTime': [datetime.datetime(2015, 10, 20, 13, 27)],\n",
       "  'HstryDateTime': [datetime.datetime(2015, 10, 20, 13, 32)],\n",
       "  'pltArrivalDateTime': [datetime.datetime(2015, 10, 20, 13, 27)],\n",
       "  'AliasSerNum': [23],\n",
       "  'ResourceName': ['TB_4'],\n",
       "  'ResourceType': ['Machine'],\n",
       "  'PatientLocationMHSerNum': [290361],\n",
       "  'RevCount': [3],\n",
       "  'checkedInFlag': [1],\n",
       "  'ptlcheckedInFlag': [1]},\n",
       " 290362: {'ScheduledStartTime': [datetime.datetime(2015, 10, 20, 13, 45)],\n",
       "  'ScheduledEndTime': [datetime.datetime(2015, 10, 20, 14, 0)],\n",
       "  'ActualStartDate': [datetime.datetime(2015, 10, 20, 13, 32)],\n",
       "  'ActualEndDate': [datetime.datetime(2015, 10, 20, 13, 48)],\n",
       "  'ArrivalDateTime': [datetime.datetime(2015, 10, 20, 13, 27)],\n",
       "  'HstryDateTime': [datetime.datetime(2015, 10, 20, 13, 48)],\n",
       "  'pltArrivalDateTime': [datetime.datetime(2015, 10, 20, 13, 27)],\n",
       "  'AliasSerNum': [23],\n",
       "  'ResourceName': ['TB_4'],\n",
       "  'ResourceType': ['Machine'],\n",
       "  'PatientLocationMHSerNum': [290362],\n",
       "  'RevCount': [4],\n",
       "  'checkedInFlag': [1],\n",
       "  'ptlcheckedInFlag': [1]},\n",
       " 290363: {'ScheduledStartTime': [datetime.datetime(2015, 10, 20, 13, 45)],\n",
       "  'ScheduledEndTime': [datetime.datetime(2015, 10, 20, 14, 0)],\n",
       "  'ActualStartDate': [datetime.datetime(2015, 10, 20, 13, 32)],\n",
       "  'ActualEndDate': [datetime.datetime(2015, 10, 20, 13, 48)],\n",
       "  'ArrivalDateTime': [datetime.datetime(2015, 10, 20, 13, 27)],\n",
       "  'HstryDateTime': [datetime.datetime(2015, 10, 20, 13, 48)],\n",
       "  'pltArrivalDateTime': [datetime.datetime(2015, 10, 20, 13, 27)],\n",
       "  'AliasSerNum': [23],\n",
       "  'ResourceName': ['TB_4'],\n",
       "  'ResourceType': ['Machine'],\n",
       "  'PatientLocationMHSerNum': [290363],\n",
       "  'RevCount': [5],\n",
       "  'checkedInFlag': [1],\n",
       "  'ptlcheckedInFlag': [1]},\n",
       " 290364: {'ScheduledStartTime': [datetime.datetime(2015, 10, 20, 13, 45)],\n",
       "  'ScheduledEndTime': [datetime.datetime(2015, 10, 20, 14, 0)],\n",
       "  'ActualStartDate': [datetime.datetime(2015, 10, 20, 13, 32)],\n",
       "  'ActualEndDate': [datetime.datetime(2015, 10, 20, 13, 48)],\n",
       "  'ArrivalDateTime': [datetime.datetime(2015, 10, 20, 13, 27)],\n",
       "  'HstryDateTime': [datetime.datetime(2015, 10, 20, 13, 48)],\n",
       "  'pltArrivalDateTime': [datetime.datetime(2015, 10, 20, 13, 27)],\n",
       "  'AliasSerNum': [23],\n",
       "  'ResourceName': ['TB_4'],\n",
       "  'ResourceType': ['Machine'],\n",
       "  'PatientLocationMHSerNum': [290364],\n",
       "  'RevCount': [6],\n",
       "  'checkedInFlag': [1],\n",
       "  'ptlcheckedInFlag': [1]},\n",
       " 290365: {'ScheduledStartTime': [datetime.datetime(2015, 10, 20, 13, 45)],\n",
       "  'ScheduledEndTime': [datetime.datetime(2015, 10, 20, 14, 0)],\n",
       "  'ActualStartDate': [datetime.datetime(2015, 10, 20, 13, 32)],\n",
       "  'ActualEndDate': [datetime.datetime(2015, 10, 20, 13, 48)],\n",
       "  'ArrivalDateTime': [datetime.datetime(2015, 10, 20, 13, 27)],\n",
       "  'HstryDateTime': [datetime.datetime(2015, 10, 20, 13, 48)],\n",
       "  'pltArrivalDateTime': [datetime.datetime(2015, 10, 20, 13, 27)],\n",
       "  'AliasSerNum': [23],\n",
       "  'ResourceName': ['TB_4'],\n",
       "  'ResourceType': ['Machine'],\n",
       "  'PatientLocationMHSerNum': [290365],\n",
       "  'RevCount': [7],\n",
       "  'checkedInFlag': [1],\n",
       "  'ptlcheckedInFlag': [1]},\n",
       " 290366: {'ScheduledStartTime': [datetime.datetime(2015, 10, 20, 13, 45)],\n",
       "  'ScheduledEndTime': [datetime.datetime(2015, 10, 20, 14, 0)],\n",
       "  'ActualStartDate': [datetime.datetime(2015, 10, 20, 13, 32)],\n",
       "  'ActualEndDate': [datetime.datetime(2015, 10, 20, 13, 48)],\n",
       "  'ArrivalDateTime': [datetime.datetime(2015, 10, 20, 13, 27)],\n",
       "  'HstryDateTime': [datetime.datetime(2015, 10, 20, 13, 48)],\n",
       "  'pltArrivalDateTime': [datetime.datetime(2015, 10, 20, 13, 27)],\n",
       "  'AliasSerNum': [23],\n",
       "  'ResourceName': ['TB_4'],\n",
       "  'ResourceType': ['Machine'],\n",
       "  'PatientLocationMHSerNum': [290366],\n",
       "  'RevCount': [8],\n",
       "  'checkedInFlag': [1],\n",
       "  'ptlcheckedInFlag': [1]},\n",
       " 290367: {'ScheduledStartTime': [datetime.datetime(2015, 10, 20, 13, 45)],\n",
       "  'ScheduledEndTime': [datetime.datetime(2015, 10, 20, 14, 0)],\n",
       "  'ActualStartDate': [datetime.datetime(2015, 10, 20, 13, 32)],\n",
       "  'ActualEndDate': [datetime.datetime(2015, 10, 20, 13, 48)],\n",
       "  'ArrivalDateTime': [datetime.datetime(2015, 10, 20, 13, 27)],\n",
       "  'HstryDateTime': [datetime.datetime(2015, 10, 20, 13, 48)],\n",
       "  'pltArrivalDateTime': [datetime.datetime(2015, 10, 20, 13, 27)],\n",
       "  'AliasSerNum': [23],\n",
       "  'ResourceName': ['TB_4'],\n",
       "  'ResourceType': ['Machine'],\n",
       "  'PatientLocationMHSerNum': [290367],\n",
       "  'RevCount': [9],\n",
       "  'checkedInFlag': [1],\n",
       "  'ptlcheckedInFlag': [1]}}"
      ]
     },
     "execution_count": 92,
     "metadata": {},
     "output_type": "execute_result"
    }
   ],
   "source": [
    "timestamps_dict[pat1][appt1]"
   ]
  },
  {
   "cell_type": "code",
   "execution_count": 69,
   "metadata": {},
   "outputs": [
    {
     "data": {
      "text/plain": [
       "10"
      ]
     },
     "execution_count": 69,
     "metadata": {},
     "output_type": "execute_result"
    }
   ],
   "source": [
    "len(timestamps_dict[38996][849926].keys())"
   ]
  },
  {
   "cell_type": "code",
   "execution_count": 73,
   "metadata": {},
   "outputs": [
    {
     "data": {
      "text/plain": [
       "2.0"
      ]
     },
     "execution_count": 73,
     "metadata": {},
     "output_type": "execute_result"
    }
   ],
   "source": [
    "np.mean([1,2,3])"
   ]
  },
  {
   "cell_type": "code",
   "execution_count": null,
   "metadata": {},
   "outputs": [],
   "source": []
  }
 ],
 "metadata": {
  "kernelspec": {
   "display_name": "Python 3",
   "language": "python",
   "name": "python3"
  },
  "language_info": {
   "codemirror_mode": {
    "name": "ipython",
    "version": 3
   },
   "file_extension": ".py",
   "mimetype": "text/x-python",
   "name": "python",
   "nbconvert_exporter": "python",
   "pygments_lexer": "ipython3",
   "version": "3.7.3"
  }
 },
 "nbformat": 4,
 "nbformat_minor": 2
}
